{
  "nbformat": 4,
  "nbformat_minor": 0,
  "metadata": {
    "colab": {
      "name": "Tutorial-pandas.ipynb",
      "provenance": []
    },
    "kernelspec": {
      "name": "python3",
      "display_name": "Python 3"
    }
  },
  "cells": [
    {
      "cell_type": "markdown",
      "metadata": {
        "id": "6Fe6-iAooyym"
      },
      "source": [
        "# PANDAS"
      ]
    },
    {
      "cell_type": "markdown",
      "metadata": {
        "id": "_I6keT8Lo2pG"
      },
      "source": [
        "### É a biblioteca mais popular para lidar com dados em Ciência de Dados.\n",
        "### Possui duas coleções: a) `Series` e b) `DataFrame`."
      ]
    },
    {
      "cell_type": "markdown",
      "metadata": {
        "id": "Lue8YQUPCwRc"
      },
      "source": [
        "# Importando a biblioteca PANDAS"
      ]
    },
    {
      "cell_type": "code",
      "metadata": {
        "id": "1Ly8gDyQ_kZZ"
      },
      "source": [
        "import pandas as pd   "
      ],
      "execution_count": 1,
      "outputs": []
    },
    {
      "cell_type": "markdown",
      "metadata": {
        "id": "_OMWaQm0GrBA"
      },
      "source": [
        "# `Series`"
      ]
    },
    {
      "cell_type": "markdown",
      "metadata": {
        "id": "NoVgGnHC0-xT"
      },
      "source": [
        "### Características:\n",
        "\n",
        "*   É uma **lista**.\n",
        "*   Diferentemente de vetores (*arrays*) e/ou listas convencionais, `Series` suporta customização dos índices."
      ]
    },
    {
      "cell_type": "markdown",
      "metadata": {
        "id": "riQZfLMMG36g"
      },
      "source": [
        "### Criação de `Series` com índices padrão (*default*)\n",
        "\n",
        "A criação é realizada através do comando `pd.Series()`.\n",
        "\n",
        "Exemplo:"
      ]
    },
    {
      "cell_type": "code",
      "metadata": {
        "id": "3Q1JS1mXG_hg"
      },
      "source": [
        "#criação de series pandas \n",
        "\n",
        "#quando se descansa o mouse no nome da série ele mostra o tipo e o tamanho! \n",
        "\n",
        "\n",
        "s = pd.Series ([10, 20, 30, 40, 50])"
      ],
      "execution_count": 2,
      "outputs": []
    },
    {
      "cell_type": "markdown",
      "metadata": {
        "id": "WMWQIZKh2GNA"
      },
      "source": [
        "### Exibição de uma `Series`"
      ]
    },
    {
      "cell_type": "code",
      "metadata": {
        "id": "93HHxQHI2Ni-",
        "outputId": "0bf84391-f946-46da-8110-3a8fc1312d5f",
        "colab": {
          "base_uri": "https://localhost:8080/",
          "height": 119
        }
      },
      "source": [
        "print (s)"
      ],
      "execution_count": 3,
      "outputs": [
        {
          "output_type": "stream",
          "text": [
            "0    10\n",
            "1    20\n",
            "2    30\n",
            "3    40\n",
            "4    50\n",
            "dtype: int64\n"
          ],
          "name": "stdout"
        }
      ]
    },
    {
      "cell_type": "markdown",
      "metadata": {
        "id": "femefU2P2Y7Y"
      },
      "source": [
        "Partes:\n",
        "\n",
        "*   Coluna à esquerda -> índice\n",
        "*   Coluna à direita -> valores\n",
        "*   Última linha -> tipo de dados (`dtype`)\n",
        "\n",
        "\n"
      ]
    },
    {
      "cell_type": "markdown",
      "metadata": {
        "id": "-mP28qtg3FdV"
      },
      "source": [
        "### Acessar a um elemento"
      ]
    },
    {
      "cell_type": "code",
      "metadata": {
        "id": "QtuN22303Hzc",
        "outputId": "21309a3a-ddec-46b1-a4db-11c3714823c4",
        "colab": {
          "base_uri": "https://localhost:8080/",
          "height": 34
        }
      },
      "source": [
        "print (s[2])"
      ],
      "execution_count": 4,
      "outputs": [
        {
          "output_type": "stream",
          "text": [
            "30\n"
          ],
          "name": "stdout"
        }
      ]
    },
    {
      "cell_type": "markdown",
      "metadata": {
        "id": "qSKjQbOU25XD"
      },
      "source": [
        "### Criação de uma `Series` com valores iguais"
      ]
    },
    {
      "cell_type": "code",
      "metadata": {
        "id": "-v1o21aM29OG",
        "outputId": "abe08b0c-16f9-422c-fbcb-1ef225caef7f",
        "colab": {
          "base_uri": "https://localhost:8080/",
          "height": 102
        }
      },
      "source": [
        "pd.Series (9.7, range(4))"
      ],
      "execution_count": 5,
      "outputs": [
        {
          "output_type": "execute_result",
          "data": {
            "text/plain": [
              "0    9.7\n",
              "1    9.7\n",
              "2    9.7\n",
              "3    9.7\n",
              "dtype: float64"
            ]
          },
          "metadata": {
            "tags": []
          },
          "execution_count": 5
        }
      ]
    },
    {
      "cell_type": "markdown",
      "metadata": {
        "id": "Yaj5vTop3eUy"
      },
      "source": [
        "### Estatísticas para uma `Series`\n",
        "\n",
        "Funções:\n",
        "\n",
        "*   `count`\n",
        "*   `mean`\n",
        "*   `min`\n",
        "*   `max`\n",
        "*   `std`\n",
        "\n",
        "Exemplos:\n",
        "\n"
      ]
    },
    {
      "cell_type": "code",
      "metadata": {
        "id": "ba8obC77h2pt",
        "outputId": "6301bf9f-908a-43c6-f1e9-a6c409e441db",
        "colab": {
          "base_uri": "https://localhost:8080/",
          "height": 119
        }
      },
      "source": [
        "print (s)"
      ],
      "execution_count": 18,
      "outputs": [
        {
          "output_type": "stream",
          "text": [
            "0    10\n",
            "1    20\n",
            "2    30\n",
            "3    40\n",
            "4    50\n",
            "dtype: int64\n"
          ],
          "name": "stdout"
        }
      ]
    },
    {
      "cell_type": "code",
      "metadata": {
        "id": "wGzmZptF3y0-",
        "outputId": "4bbb888a-fa67-47f9-9830-9fe1b308596e",
        "colab": {
          "base_uri": "https://localhost:8080/",
          "height": 34
        }
      },
      "source": [
        "s.count()"
      ],
      "execution_count": 19,
      "outputs": [
        {
          "output_type": "execute_result",
          "data": {
            "text/plain": [
              "5"
            ]
          },
          "metadata": {
            "tags": []
          },
          "execution_count": 19
        }
      ]
    },
    {
      "cell_type": "code",
      "metadata": {
        "id": "TjqubpN833LH",
        "outputId": "4d8b3744-087c-44ba-9fe7-a1d32d216472",
        "colab": {
          "base_uri": "https://localhost:8080/",
          "height": 34
        }
      },
      "source": [
        "s.mean()"
      ],
      "execution_count": 20,
      "outputs": [
        {
          "output_type": "execute_result",
          "data": {
            "text/plain": [
              "30.0"
            ]
          },
          "metadata": {
            "tags": []
          },
          "execution_count": 20
        }
      ]
    },
    {
      "cell_type": "code",
      "metadata": {
        "id": "iW2u_XTP36p8",
        "outputId": "61cf74b9-b804-4bde-cba2-69045ad13dae",
        "colab": {
          "base_uri": "https://localhost:8080/",
          "height": 34
        }
      },
      "source": [
        "s.min()"
      ],
      "execution_count": 21,
      "outputs": [
        {
          "output_type": "execute_result",
          "data": {
            "text/plain": [
              "10"
            ]
          },
          "metadata": {
            "tags": []
          },
          "execution_count": 21
        }
      ]
    },
    {
      "cell_type": "code",
      "metadata": {
        "id": "8Tyj_jON39Id",
        "outputId": "e335d161-2a8d-46e4-f615-6132cd0bf0fd",
        "colab": {
          "base_uri": "https://localhost:8080/",
          "height": 34
        }
      },
      "source": [
        "s.max()"
      ],
      "execution_count": 22,
      "outputs": [
        {
          "output_type": "execute_result",
          "data": {
            "text/plain": [
              "50"
            ]
          },
          "metadata": {
            "tags": []
          },
          "execution_count": 22
        }
      ]
    },
    {
      "cell_type": "code",
      "metadata": {
        "id": "dEXsANpI3_Mo",
        "outputId": "117f64be-a990-4fe1-f00f-96b9b185fbc4",
        "colab": {
          "base_uri": "https://localhost:8080/",
          "height": 34
        }
      },
      "source": [
        "s.std() #desvio padrao"
      ],
      "execution_count": 23,
      "outputs": [
        {
          "output_type": "execute_result",
          "data": {
            "text/plain": [
              "15.811388300841896"
            ]
          },
          "metadata": {
            "tags": []
          },
          "execution_count": 23
        }
      ]
    },
    {
      "cell_type": "code",
      "metadata": {
        "id": "tLAkAFWB24MJ",
        "outputId": "5a7cb074-25d8-474c-b632-c18047e92efe",
        "colab": {
          "base_uri": "https://localhost:8080/",
          "height": 34
        }
      },
      "source": [
        "s.median() #mediana"
      ],
      "execution_count": 25,
      "outputs": [
        {
          "output_type": "execute_result",
          "data": {
            "text/plain": [
              "30.0"
            ]
          },
          "metadata": {
            "tags": []
          },
          "execution_count": 25
        }
      ]
    },
    {
      "cell_type": "markdown",
      "metadata": {
        "id": "8IuguYWy4FoV"
      },
      "source": [
        "As funções de estatística podem ser resumidas com `describe()`"
      ]
    },
    {
      "cell_type": "code",
      "metadata": {
        "id": "ANoJsm0J4Lqe",
        "outputId": "809097f0-c839-4f8e-a1c4-8691afdcbedc",
        "colab": {
          "base_uri": "https://localhost:8080/",
          "height": 170
        }
      },
      "source": [
        "s.describe()"
      ],
      "execution_count": 24,
      "outputs": [
        {
          "output_type": "execute_result",
          "data": {
            "text/plain": [
              "count     5.000000\n",
              "mean     30.000000\n",
              "std      15.811388\n",
              "min      10.000000\n",
              "25%      20.000000\n",
              "50%      30.000000\n",
              "75%      40.000000\n",
              "max      50.000000\n",
              "dtype: float64"
            ]
          },
          "metadata": {
            "tags": []
          },
          "execution_count": 24
        }
      ]
    },
    {
      "cell_type": "markdown",
      "metadata": {
        "id": "oOqArmW9HIO-"
      },
      "source": [
        "### Criação de índices customizados"
      ]
    },
    {
      "cell_type": "markdown",
      "metadata": {
        "id": "Se28dCUh5IwN"
      },
      "source": [
        "*   `Series` não tem o nome de uma coluna.\n",
        "*   Porém, é possível nomear os índices (*index*)."
      ]
    },
    {
      "cell_type": "markdown",
      "metadata": {
        "id": "om1cC1uI5V1E"
      },
      "source": [
        "Exemplo:"
      ]
    },
    {
      "cell_type": "code",
      "metadata": {
        "id": "fgDeHD1rHT--"
      },
      "source": [
        "s_custom = pd.Series ([10, 20, 30], index=['1a dezena', '2a dezena', '3a dezena'])"
      ],
      "execution_count": 26,
      "outputs": []
    },
    {
      "cell_type": "code",
      "metadata": {
        "id": "yCinkEV-5dhn",
        "outputId": "a1ca0de0-fe7d-48aa-b403-c6f5f9403e7b",
        "colab": {
          "base_uri": "https://localhost:8080/",
          "height": 85
        }
      },
      "source": [
        "print (s_custom)"
      ],
      "execution_count": 27,
      "outputs": [
        {
          "output_type": "stream",
          "text": [
            "1a dezena    10\n",
            "2a dezena    20\n",
            "3a dezena    30\n",
            "dtype: int64\n"
          ],
          "name": "stdout"
        }
      ]
    },
    {
      "cell_type": "markdown",
      "metadata": {
        "id": "xfve-uDB50vO"
      },
      "source": [
        "É possível acessar os elementos individualmente de várias formas:"
      ]
    },
    {
      "cell_type": "code",
      "metadata": {
        "id": "ecMuzrPo5ru-",
        "outputId": "5c620393-f0cc-4d89-c0f8-46f11b331e89",
        "colab": {
          "base_uri": "https://localhost:8080/",
          "height": 34
        }
      },
      "source": [
        "print (s_custom[2])"
      ],
      "execution_count": 28,
      "outputs": [
        {
          "output_type": "stream",
          "text": [
            "30\n"
          ],
          "name": "stdout"
        }
      ]
    },
    {
      "cell_type": "code",
      "metadata": {
        "id": "kFX5g0vT59gV",
        "outputId": "ed03628f-1b11-4953-8c21-d935cc017abb",
        "colab": {
          "base_uri": "https://localhost:8080/",
          "height": 34
        }
      },
      "source": [
        "print (s_custom['3a dezena'])"
      ],
      "execution_count": 29,
      "outputs": [
        {
          "output_type": "stream",
          "text": [
            "30\n"
          ],
          "name": "stdout"
        }
      ]
    },
    {
      "cell_type": "markdown",
      "metadata": {
        "id": "IoUtSKexHrcN"
      },
      "source": [
        "### Como seria possível criar uma `Series` com duas colunas?\n",
        "\n"
      ]
    },
    {
      "cell_type": "code",
      "metadata": {
        "id": "xKyJPFUhHy2D",
        "outputId": "d0400290-45f8-4443-bb8d-5613dce9fb3a",
        "colab": {
          "base_uri": "https://localhost:8080/",
          "height": 102
        }
      },
      "source": [
        "pd.Series ([10, 20, 30, 40], [15, 25, 35, 45])"
      ],
      "execution_count": 30,
      "outputs": [
        {
          "output_type": "execute_result",
          "data": {
            "text/plain": [
              "15    10\n",
              "25    20\n",
              "35    30\n",
              "45    40\n",
              "dtype: int64"
            ]
          },
          "metadata": {
            "tags": []
          },
          "execution_count": 30
        }
      ]
    },
    {
      "cell_type": "markdown",
      "metadata": {
        "id": "34qIjj3AC1Qi"
      },
      "source": [
        "# `DataFrame`"
      ]
    },
    {
      "cell_type": "markdown",
      "metadata": {
        "id": "nTue1P9XDD1o"
      },
      "source": [
        "### Características:\n",
        "\n",
        "\n",
        "*   Estrutura bidimensional.\n",
        "*   É uma **tabela**.\n",
        "*   Cada coluna de um `DataFrame` é uma `Series`.\n",
        "*   Cada coluna pode ser de um tipo diferente.\n",
        "\n"
      ]
    },
    {
      "cell_type": "markdown",
      "metadata": {
        "id": "d-YQYNrFDM4D"
      },
      "source": [
        "### Criação um `DataFrame` a partir de um dicionário."
      ]
    },
    {
      "cell_type": "markdown",
      "metadata": {
        "id": "nSwN1B9H7cMq"
      },
      "source": [
        "Exemplo 1:"
      ]
    },
    {
      "cell_type": "code",
      "metadata": {
        "id": "UsHhziHn7umN"
      },
      "source": [
        "dic1 = {'ESTADO': ['Amazonas', 'Amapá', 'Acre'], 'SIGLA': ['AM', 'AP', 'AC'], 'CAPITAL': ['Manaus', 'Macapá', 'Rio Branco']} "
      ],
      "execution_count": 31,
      "outputs": []
    },
    {
      "cell_type": "code",
      "metadata": {
        "id": "0QZSJ5fVC-FV",
        "outputId": "e6df474e-f002-43e4-d1aa-1044a32bdeb0",
        "colab": {
          "base_uri": "https://localhost:8080/",
          "height": 142
        }
      },
      "source": [
        "pd.DataFrame(dic1)"
      ],
      "execution_count": 32,
      "outputs": [
        {
          "output_type": "execute_result",
          "data": {
            "text/html": [
              "<div>\n",
              "<style scoped>\n",
              "    .dataframe tbody tr th:only-of-type {\n",
              "        vertical-align: middle;\n",
              "    }\n",
              "\n",
              "    .dataframe tbody tr th {\n",
              "        vertical-align: top;\n",
              "    }\n",
              "\n",
              "    .dataframe thead th {\n",
              "        text-align: right;\n",
              "    }\n",
              "</style>\n",
              "<table border=\"1\" class=\"dataframe\">\n",
              "  <thead>\n",
              "    <tr style=\"text-align: right;\">\n",
              "      <th></th>\n",
              "      <th>ESTADO</th>\n",
              "      <th>SIGLA</th>\n",
              "      <th>CAPITAL</th>\n",
              "    </tr>\n",
              "  </thead>\n",
              "  <tbody>\n",
              "    <tr>\n",
              "      <th>0</th>\n",
              "      <td>Amazonas</td>\n",
              "      <td>AM</td>\n",
              "      <td>Manaus</td>\n",
              "    </tr>\n",
              "    <tr>\n",
              "      <th>1</th>\n",
              "      <td>Amapá</td>\n",
              "      <td>AP</td>\n",
              "      <td>Macapá</td>\n",
              "    </tr>\n",
              "    <tr>\n",
              "      <th>2</th>\n",
              "      <td>Acre</td>\n",
              "      <td>AC</td>\n",
              "      <td>Rio Branco</td>\n",
              "    </tr>\n",
              "  </tbody>\n",
              "</table>\n",
              "</div>"
            ],
            "text/plain": [
              "     ESTADO SIGLA     CAPITAL\n",
              "0  Amazonas    AM      Manaus\n",
              "1     Amapá    AP      Macapá\n",
              "2      Acre    AC  Rio Branco"
            ]
          },
          "metadata": {
            "tags": []
          },
          "execution_count": 32
        }
      ]
    },
    {
      "cell_type": "markdown",
      "metadata": {
        "id": "JfANyzVRDxYD"
      },
      "source": [
        "Exemplo 2:"
      ]
    },
    {
      "cell_type": "code",
      "metadata": {
        "id": "JS8m2MYWEGPj",
        "outputId": "508870da-659c-4e66-f40c-4183fd803210",
        "colab": {
          "base_uri": "https://localhost:8080/",
          "height": 142
        }
      },
      "source": [
        "pd.DataFrame({'ESTADO': ['Amazonas', 'Amapá', 'Acre'], 'POPULACAO': ['4144597', '845731', '881935'], 'CAPITAL': ['Manaus', 'Macapá', 'Rio Branco']})"
      ],
      "execution_count": 39,
      "outputs": [
        {
          "output_type": "execute_result",
          "data": {
            "text/html": [
              "<div>\n",
              "<style scoped>\n",
              "    .dataframe tbody tr th:only-of-type {\n",
              "        vertical-align: middle;\n",
              "    }\n",
              "\n",
              "    .dataframe tbody tr th {\n",
              "        vertical-align: top;\n",
              "    }\n",
              "\n",
              "    .dataframe thead th {\n",
              "        text-align: right;\n",
              "    }\n",
              "</style>\n",
              "<table border=\"1\" class=\"dataframe\">\n",
              "  <thead>\n",
              "    <tr style=\"text-align: right;\">\n",
              "      <th></th>\n",
              "      <th>ESTADO</th>\n",
              "      <th>POPULACAO</th>\n",
              "      <th>CAPITAL</th>\n",
              "    </tr>\n",
              "  </thead>\n",
              "  <tbody>\n",
              "    <tr>\n",
              "      <th>0</th>\n",
              "      <td>Amazonas</td>\n",
              "      <td>4144597</td>\n",
              "      <td>Manaus</td>\n",
              "    </tr>\n",
              "    <tr>\n",
              "      <th>1</th>\n",
              "      <td>Amapá</td>\n",
              "      <td>845731</td>\n",
              "      <td>Macapá</td>\n",
              "    </tr>\n",
              "    <tr>\n",
              "      <th>2</th>\n",
              "      <td>Acre</td>\n",
              "      <td>881935</td>\n",
              "      <td>Rio Branco</td>\n",
              "    </tr>\n",
              "  </tbody>\n",
              "</table>\n",
              "</div>"
            ],
            "text/plain": [
              "     ESTADO POPULACAO     CAPITAL\n",
              "0  Amazonas   4144597      Manaus\n",
              "1     Amapá    845731      Macapá\n",
              "2      Acre    881935  Rio Branco"
            ]
          },
          "metadata": {
            "tags": []
          },
          "execution_count": 39
        }
      ]
    },
    {
      "cell_type": "markdown",
      "metadata": {
        "id": "HDP1WeylEssA"
      },
      "source": [
        "### Construtor DataFrame\n",
        "\n",
        "```\n",
        "pd.DataFrame()\n",
        "```\n",
        "\n",
        "É a forma padrão de se construir um novo `DataFrame`.\n",
        "\n",
        "Sintaxe:\n",
        "\n",
        "\n",
        "*   É um dicionário.\n",
        "*   As chaves do dicionário são as colunas.\n",
        "*   Os valores são a lista de entrada.\n",
        "\n",
        "\n",
        "\n"
      ]
    },
    {
      "cell_type": "markdown",
      "metadata": {
        "id": "IP2HQZ65FmFX"
      },
      "source": [
        "### Características do construtor:\n",
        "\n",
        "*   O construtor do tipo `DataFrame` atribui valores sequenciais.\n",
        "*   Estes valores são conhecidos como índices (*index*).\n",
        "*   Porém, é possível personalizar (customizar) os valores dos índices.\n",
        "\n"
      ]
    },
    {
      "cell_type": "markdown",
      "metadata": {
        "id": "olvmiF8FGLLG"
      },
      "source": [
        "### Customização do índice:"
      ]
    },
    {
      "cell_type": "markdown",
      "metadata": {
        "id": "hbFQZ9yt9Que"
      },
      "source": [
        "Exemplo:"
      ]
    },
    {
      "cell_type": "code",
      "metadata": {
        "id": "8qe3-oIgGYkU"
      },
      "source": [
        "dic2 = pd.DataFrame({'ESTADO': ['Amazonas', 'Amapá', 'Acre'], \n",
        "              'POPULACAO': ['4144597', '845731', '881935']},\n",
        "             index=['AM', 'AP', 'AC'])"
      ],
      "execution_count": 34,
      "outputs": []
    },
    {
      "cell_type": "code",
      "metadata": {
        "id": "nPxKq2rX9zvM",
        "outputId": "c5aea415-9b29-4bb3-c347-81f38d7e8d46",
        "colab": {
          "base_uri": "https://localhost:8080/",
          "height": 142
        }
      },
      "source": [
        "dic2"
      ],
      "execution_count": 35,
      "outputs": [
        {
          "output_type": "execute_result",
          "data": {
            "text/html": [
              "<div>\n",
              "<style scoped>\n",
              "    .dataframe tbody tr th:only-of-type {\n",
              "        vertical-align: middle;\n",
              "    }\n",
              "\n",
              "    .dataframe tbody tr th {\n",
              "        vertical-align: top;\n",
              "    }\n",
              "\n",
              "    .dataframe thead th {\n",
              "        text-align: right;\n",
              "    }\n",
              "</style>\n",
              "<table border=\"1\" class=\"dataframe\">\n",
              "  <thead>\n",
              "    <tr style=\"text-align: right;\">\n",
              "      <th></th>\n",
              "      <th>ESTADO</th>\n",
              "      <th>POPULACAO</th>\n",
              "    </tr>\n",
              "  </thead>\n",
              "  <tbody>\n",
              "    <tr>\n",
              "      <th>AM</th>\n",
              "      <td>Amazonas</td>\n",
              "      <td>4144597</td>\n",
              "    </tr>\n",
              "    <tr>\n",
              "      <th>AP</th>\n",
              "      <td>Amapá</td>\n",
              "      <td>845731</td>\n",
              "    </tr>\n",
              "    <tr>\n",
              "      <th>AC</th>\n",
              "      <td>Acre</td>\n",
              "      <td>881935</td>\n",
              "    </tr>\n",
              "  </tbody>\n",
              "</table>\n",
              "</div>"
            ],
            "text/plain": [
              "      ESTADO POPULACAO\n",
              "AM  Amazonas   4144597\n",
              "AP     Amapá    845731\n",
              "AC      Acre    881935"
            ]
          },
          "metadata": {
            "tags": []
          },
          "execution_count": 35
        }
      ]
    },
    {
      "cell_type": "markdown",
      "metadata": {
        "id": "dztmgyBs9lUH"
      },
      "source": [
        "### Acessando elementos do `DataFrame`"
      ]
    },
    {
      "cell_type": "markdown",
      "metadata": {
        "id": "d2uOU2Qv-B7H"
      },
      "source": [
        "Exemplo 1:"
      ]
    },
    {
      "cell_type": "code",
      "metadata": {
        "id": "S-UJMMAg9sCk",
        "outputId": "d7cab728-e549-4d5c-8877-aa89b4d9addd",
        "colab": {
          "base_uri": "https://localhost:8080/",
          "height": 85
        }
      },
      "source": [
        "dic2['ESTADO']"
      ],
      "execution_count": 36,
      "outputs": [
        {
          "output_type": "execute_result",
          "data": {
            "text/plain": [
              "AM    Amazonas\n",
              "AP       Amapá\n",
              "AC        Acre\n",
              "Name: ESTADO, dtype: object"
            ]
          },
          "metadata": {
            "tags": []
          },
          "execution_count": 36
        }
      ]
    },
    {
      "cell_type": "markdown",
      "metadata": {
        "id": "MlIqbK04-Dbk"
      },
      "source": [
        "Exemplo 2:"
      ]
    },
    {
      "cell_type": "code",
      "metadata": {
        "id": "1wQ29Sp_9_J4",
        "outputId": "dd5cd234-1102-44b2-9594-7828ce1dc839",
        "colab": {
          "base_uri": "https://localhost:8080/",
          "height": 85
        }
      },
      "source": [
        "dic2.ESTADO"
      ],
      "execution_count": 37,
      "outputs": [
        {
          "output_type": "execute_result",
          "data": {
            "text/plain": [
              "AM    Amazonas\n",
              "AP       Amapá\n",
              "AC        Acre\n",
              "Name: ESTADO, dtype: object"
            ]
          },
          "metadata": {
            "tags": []
          },
          "execution_count": 37
        }
      ]
    },
    {
      "cell_type": "markdown",
      "metadata": {
        "id": "Zv9aSkbpITzy"
      },
      "source": [
        "### Seria possível criar um DataFrame com quantidades de linhas diferentes por coluna?"
      ]
    },
    {
      "cell_type": "code",
      "metadata": {
        "id": "sEyhBsmaIcyN",
        "outputId": "10b5611b-eec7-496d-b614-d754c661adcf",
        "colab": {
          "base_uri": "https://localhost:8080/",
          "height": 306
        }
      },
      "source": [
        "pd.DataFrame({'ESTADO': ['Amazonas', 'Amapá', 'Acre'], 'POPULACAO': ['4144597', '881935']})"
      ],
      "execution_count": 38,
      "outputs": [
        {
          "output_type": "error",
          "ename": "ValueError",
          "evalue": "ignored",
          "traceback": [
            "\u001b[0;31m---------------------------------------------------------------------------\u001b[0m",
            "\u001b[0;31mValueError\u001b[0m                                Traceback (most recent call last)",
            "\u001b[0;32m<ipython-input-38-52ff3e604577>\u001b[0m in \u001b[0;36m<module>\u001b[0;34m()\u001b[0m\n\u001b[0;32m----> 1\u001b[0;31m \u001b[0mpd\u001b[0m\u001b[0;34m.\u001b[0m\u001b[0mDataFrame\u001b[0m\u001b[0;34m(\u001b[0m\u001b[0;34m{\u001b[0m\u001b[0;34m'ESTADO'\u001b[0m\u001b[0;34m:\u001b[0m \u001b[0;34m[\u001b[0m\u001b[0;34m'Amazonas'\u001b[0m\u001b[0;34m,\u001b[0m \u001b[0;34m'Amapá'\u001b[0m\u001b[0;34m,\u001b[0m \u001b[0;34m'Acre'\u001b[0m\u001b[0;34m]\u001b[0m\u001b[0;34m,\u001b[0m \u001b[0;34m'POPULACAO'\u001b[0m\u001b[0;34m:\u001b[0m \u001b[0;34m[\u001b[0m\u001b[0;34m'4144597'\u001b[0m\u001b[0;34m,\u001b[0m \u001b[0;34m'881935'\u001b[0m\u001b[0;34m]\u001b[0m\u001b[0;34m}\u001b[0m\u001b[0;34m)\u001b[0m\u001b[0;34m\u001b[0m\u001b[0;34m\u001b[0m\u001b[0m\n\u001b[0m",
            "\u001b[0;32m/usr/local/lib/python3.6/dist-packages/pandas/core/frame.py\u001b[0m in \u001b[0;36m__init__\u001b[0;34m(self, data, index, columns, dtype, copy)\u001b[0m\n\u001b[1;32m    466\u001b[0m \u001b[0;34m\u001b[0m\u001b[0m\n\u001b[1;32m    467\u001b[0m         \u001b[0;32melif\u001b[0m \u001b[0misinstance\u001b[0m\u001b[0;34m(\u001b[0m\u001b[0mdata\u001b[0m\u001b[0;34m,\u001b[0m \u001b[0mdict\u001b[0m\u001b[0;34m)\u001b[0m\u001b[0;34m:\u001b[0m\u001b[0;34m\u001b[0m\u001b[0;34m\u001b[0m\u001b[0m\n\u001b[0;32m--> 468\u001b[0;31m             \u001b[0mmgr\u001b[0m \u001b[0;34m=\u001b[0m \u001b[0minit_dict\u001b[0m\u001b[0;34m(\u001b[0m\u001b[0mdata\u001b[0m\u001b[0;34m,\u001b[0m \u001b[0mindex\u001b[0m\u001b[0;34m,\u001b[0m \u001b[0mcolumns\u001b[0m\u001b[0;34m,\u001b[0m \u001b[0mdtype\u001b[0m\u001b[0;34m=\u001b[0m\u001b[0mdtype\u001b[0m\u001b[0;34m)\u001b[0m\u001b[0;34m\u001b[0m\u001b[0;34m\u001b[0m\u001b[0m\n\u001b[0m\u001b[1;32m    469\u001b[0m         \u001b[0;32melif\u001b[0m \u001b[0misinstance\u001b[0m\u001b[0;34m(\u001b[0m\u001b[0mdata\u001b[0m\u001b[0;34m,\u001b[0m \u001b[0mma\u001b[0m\u001b[0;34m.\u001b[0m\u001b[0mMaskedArray\u001b[0m\u001b[0;34m)\u001b[0m\u001b[0;34m:\u001b[0m\u001b[0;34m\u001b[0m\u001b[0;34m\u001b[0m\u001b[0m\n\u001b[1;32m    470\u001b[0m             \u001b[0;32mimport\u001b[0m \u001b[0mnumpy\u001b[0m\u001b[0;34m.\u001b[0m\u001b[0mma\u001b[0m\u001b[0;34m.\u001b[0m\u001b[0mmrecords\u001b[0m \u001b[0;32mas\u001b[0m \u001b[0mmrecords\u001b[0m\u001b[0;34m\u001b[0m\u001b[0;34m\u001b[0m\u001b[0m\n",
            "\u001b[0;32m/usr/local/lib/python3.6/dist-packages/pandas/core/internals/construction.py\u001b[0m in \u001b[0;36minit_dict\u001b[0;34m(data, index, columns, dtype)\u001b[0m\n\u001b[1;32m    281\u001b[0m             \u001b[0marr\u001b[0m \u001b[0;32mif\u001b[0m \u001b[0;32mnot\u001b[0m \u001b[0mis_datetime64tz_dtype\u001b[0m\u001b[0;34m(\u001b[0m\u001b[0marr\u001b[0m\u001b[0;34m)\u001b[0m \u001b[0;32melse\u001b[0m \u001b[0marr\u001b[0m\u001b[0;34m.\u001b[0m\u001b[0mcopy\u001b[0m\u001b[0;34m(\u001b[0m\u001b[0;34m)\u001b[0m \u001b[0;32mfor\u001b[0m \u001b[0marr\u001b[0m \u001b[0;32min\u001b[0m \u001b[0marrays\u001b[0m\u001b[0;34m\u001b[0m\u001b[0;34m\u001b[0m\u001b[0m\n\u001b[1;32m    282\u001b[0m         ]\n\u001b[0;32m--> 283\u001b[0;31m     \u001b[0;32mreturn\u001b[0m \u001b[0marrays_to_mgr\u001b[0m\u001b[0;34m(\u001b[0m\u001b[0marrays\u001b[0m\u001b[0;34m,\u001b[0m \u001b[0mdata_names\u001b[0m\u001b[0;34m,\u001b[0m \u001b[0mindex\u001b[0m\u001b[0;34m,\u001b[0m \u001b[0mcolumns\u001b[0m\u001b[0;34m,\u001b[0m \u001b[0mdtype\u001b[0m\u001b[0;34m=\u001b[0m\u001b[0mdtype\u001b[0m\u001b[0;34m)\u001b[0m\u001b[0;34m\u001b[0m\u001b[0;34m\u001b[0m\u001b[0m\n\u001b[0m\u001b[1;32m    284\u001b[0m \u001b[0;34m\u001b[0m\u001b[0m\n\u001b[1;32m    285\u001b[0m \u001b[0;34m\u001b[0m\u001b[0m\n",
            "\u001b[0;32m/usr/local/lib/python3.6/dist-packages/pandas/core/internals/construction.py\u001b[0m in \u001b[0;36marrays_to_mgr\u001b[0;34m(arrays, arr_names, index, columns, dtype, verify_integrity)\u001b[0m\n\u001b[1;32m     76\u001b[0m         \u001b[0;31m# figure out the index, if necessary\u001b[0m\u001b[0;34m\u001b[0m\u001b[0;34m\u001b[0m\u001b[0;34m\u001b[0m\u001b[0m\n\u001b[1;32m     77\u001b[0m         \u001b[0;32mif\u001b[0m \u001b[0mindex\u001b[0m \u001b[0;32mis\u001b[0m \u001b[0;32mNone\u001b[0m\u001b[0;34m:\u001b[0m\u001b[0;34m\u001b[0m\u001b[0;34m\u001b[0m\u001b[0m\n\u001b[0;32m---> 78\u001b[0;31m             \u001b[0mindex\u001b[0m \u001b[0;34m=\u001b[0m \u001b[0mextract_index\u001b[0m\u001b[0;34m(\u001b[0m\u001b[0marrays\u001b[0m\u001b[0;34m)\u001b[0m\u001b[0;34m\u001b[0m\u001b[0;34m\u001b[0m\u001b[0m\n\u001b[0m\u001b[1;32m     79\u001b[0m         \u001b[0;32melse\u001b[0m\u001b[0;34m:\u001b[0m\u001b[0;34m\u001b[0m\u001b[0;34m\u001b[0m\u001b[0m\n\u001b[1;32m     80\u001b[0m             \u001b[0mindex\u001b[0m \u001b[0;34m=\u001b[0m \u001b[0mensure_index\u001b[0m\u001b[0;34m(\u001b[0m\u001b[0mindex\u001b[0m\u001b[0;34m)\u001b[0m\u001b[0;34m\u001b[0m\u001b[0;34m\u001b[0m\u001b[0m\n",
            "\u001b[0;32m/usr/local/lib/python3.6/dist-packages/pandas/core/internals/construction.py\u001b[0m in \u001b[0;36mextract_index\u001b[0;34m(data)\u001b[0m\n\u001b[1;32m    395\u001b[0m             \u001b[0mlengths\u001b[0m \u001b[0;34m=\u001b[0m \u001b[0mlist\u001b[0m\u001b[0;34m(\u001b[0m\u001b[0mset\u001b[0m\u001b[0;34m(\u001b[0m\u001b[0mraw_lengths\u001b[0m\u001b[0;34m)\u001b[0m\u001b[0;34m)\u001b[0m\u001b[0;34m\u001b[0m\u001b[0;34m\u001b[0m\u001b[0m\n\u001b[1;32m    396\u001b[0m             \u001b[0;32mif\u001b[0m \u001b[0mlen\u001b[0m\u001b[0;34m(\u001b[0m\u001b[0mlengths\u001b[0m\u001b[0;34m)\u001b[0m \u001b[0;34m>\u001b[0m \u001b[0;36m1\u001b[0m\u001b[0;34m:\u001b[0m\u001b[0;34m\u001b[0m\u001b[0;34m\u001b[0m\u001b[0m\n\u001b[0;32m--> 397\u001b[0;31m                 \u001b[0;32mraise\u001b[0m \u001b[0mValueError\u001b[0m\u001b[0;34m(\u001b[0m\u001b[0;34m\"arrays must all be same length\"\u001b[0m\u001b[0;34m)\u001b[0m\u001b[0;34m\u001b[0m\u001b[0;34m\u001b[0m\u001b[0m\n\u001b[0m\u001b[1;32m    398\u001b[0m \u001b[0;34m\u001b[0m\u001b[0m\n\u001b[1;32m    399\u001b[0m             \u001b[0;32mif\u001b[0m \u001b[0mhave_dicts\u001b[0m\u001b[0;34m:\u001b[0m\u001b[0;34m\u001b[0m\u001b[0;34m\u001b[0m\u001b[0m\n",
            "\u001b[0;31mValueError\u001b[0m: arrays must all be same length"
          ]
        }
      ]
    },
    {
      "cell_type": "markdown",
      "metadata": {
        "id": "Wh91QvTSWW9V"
      },
      "source": [
        "# Leitura de arquivos"
      ]
    },
    {
      "cell_type": "markdown",
      "metadata": {
        "id": "9QbKfiiKWbVm"
      },
      "source": [
        "### Características gerais sobre a leitura de arquivos:\n",
        "\n",
        "\n",
        "\n",
        "*   Na prática, iremos trabalhar com dados já existentes.\n",
        "*   Existem vários formatos de arquivos.\n",
        "*   O formato CSV é um dos formatos mais comuns.\n",
        "*   Um arquivo CSV é uma tabela cujos valores estão separados por vírgulas (*Comma-Separated Values*)."
      ]
    },
    {
      "cell_type": "markdown",
      "metadata": {
        "id": "PoOr6gbgXCuV"
      },
      "source": [
        "### Leitura de arquivos CSV em Pandas como um `DataFrame`:"
      ]
    },
    {
      "cell_type": "markdown",
      "metadata": {
        "id": "KtTmYNVVkOFg"
      },
      "source": [
        "Comando padrão:\n",
        "\n",
        "`pd.read_csv()`"
      ]
    },
    {
      "cell_type": "markdown",
      "metadata": {
        "id": "N2I0SYsNXh3x"
      },
      "source": [
        "Exemplo:"
      ]
    },
    {
      "cell_type": "code",
      "metadata": {
        "id": "znr68k-pXj_G"
      },
      "source": [
        "dados = pd.read_csv(\"http://tiagodemelo.info/datasets/dados-curso.csv\")"
      ],
      "execution_count": 40,
      "outputs": []
    },
    {
      "cell_type": "markdown",
      "metadata": {
        "id": "bKCrNpVGXytj"
      },
      "source": [
        "### Atributo `shape` \n",
        "\n",
        "Permite verificar o tamanho dos dados."
      ]
    },
    {
      "cell_type": "markdown",
      "metadata": {
        "id": "C5GIn97oYES-"
      },
      "source": [
        "Exemplo:"
      ]
    },
    {
      "cell_type": "code",
      "metadata": {
        "id": "TgT_he5nYHc-",
        "outputId": "61b9de27-02ed-44d9-ade9-f71e028b529e",
        "colab": {
          "base_uri": "https://localhost:8080/",
          "height": 34
        }
      },
      "source": [
        "dados.shape"
      ],
      "execution_count": 41,
      "outputs": [
        {
          "output_type": "execute_result",
          "data": {
            "text/plain": [
              "(500, 9)"
            ]
          },
          "metadata": {
            "tags": []
          },
          "execution_count": 41
        }
      ]
    },
    {
      "cell_type": "markdown",
      "metadata": {
        "id": "GqXrD1ORYRsF"
      },
      "source": [
        "### Comando `head`\n",
        "\n",
        "Podemos ter uma noção do conjunto de dados.\n",
        "\n"
      ]
    },
    {
      "cell_type": "markdown",
      "metadata": {
        "id": "12zdtI44YfAc"
      },
      "source": [
        "Exemplo:"
      ]
    },
    {
      "cell_type": "code",
      "metadata": {
        "id": "NgqrIApwYhLL",
        "outputId": "e08dbcb2-3372-48be-b39b-df1865a1892f",
        "colab": {
          "base_uri": "https://localhost:8080/",
          "height": 359
        }
      },
      "source": [
        "dados.head(10)"
      ],
      "execution_count": 47,
      "outputs": [
        {
          "output_type": "execute_result",
          "data": {
            "text/html": [
              "<div>\n",
              "<style scoped>\n",
              "    .dataframe tbody tr th:only-of-type {\n",
              "        vertical-align: middle;\n",
              "    }\n",
              "\n",
              "    .dataframe tbody tr th {\n",
              "        vertical-align: top;\n",
              "    }\n",
              "\n",
              "    .dataframe thead th {\n",
              "        text-align: right;\n",
              "    }\n",
              "</style>\n",
              "<table border=\"1\" class=\"dataframe\">\n",
              "  <thead>\n",
              "    <tr style=\"text-align: right;\">\n",
              "      <th></th>\n",
              "      <th>data</th>\n",
              "      <th>texto</th>\n",
              "      <th>retweet</th>\n",
              "      <th>idioma</th>\n",
              "      <th>lugar</th>\n",
              "      <th>pais</th>\n",
              "      <th>sigla</th>\n",
              "      <th>latitude</th>\n",
              "      <th>longitude</th>\n",
              "    </tr>\n",
              "  </thead>\n",
              "  <tbody>\n",
              "    <tr>\n",
              "      <th>0</th>\n",
              "      <td>2020-05-23 00:21:14</td>\n",
              "      <td>Para voltar tudo ao normal, você precisa fazer...</td>\n",
              "      <td>0</td>\n",
              "      <td>pt</td>\n",
              "      <td>Rio das Ostras</td>\n",
              "      <td>Brazil</td>\n",
              "      <td>BR</td>\n",
              "      <td>-41.937900</td>\n",
              "      <td>-22.522600</td>\n",
              "    </tr>\n",
              "    <tr>\n",
              "      <th>1</th>\n",
              "      <td>2020-03-22 22:57:51</td>\n",
              "      <td>14.245 – O que é a hidroxicloroquina? https://...</td>\n",
              "      <td>0</td>\n",
              "      <td>pt</td>\n",
              "      <td>Sao Paulo</td>\n",
              "      <td>Brazil</td>\n",
              "      <td>BR</td>\n",
              "      <td>-46.674739</td>\n",
              "      <td>-23.606067</td>\n",
              "    </tr>\n",
              "    <tr>\n",
              "      <th>2</th>\n",
              "      <td>2020-04-14 00:11:33</td>\n",
              "      <td>Quarta morte em Lar de Estarreja associada à C...</td>\n",
              "      <td>1</td>\n",
              "      <td>pt</td>\n",
              "      <td>Lisbon</td>\n",
              "      <td>Portugal</td>\n",
              "      <td>PT</td>\n",
              "      <td>-9.099043</td>\n",
              "      <td>38.747518</td>\n",
              "    </tr>\n",
              "    <tr>\n",
              "      <th>3</th>\n",
              "      <td>2020-05-25 20:45:43</td>\n",
              "      <td>COVID-19 |  Hospital municipal Tide Setúbal, n...</td>\n",
              "      <td>0</td>\n",
              "      <td>pt</td>\n",
              "      <td>Sao Paulo</td>\n",
              "      <td>Brazil</td>\n",
              "      <td>BR</td>\n",
              "      <td>-46.633300</td>\n",
              "      <td>-23.550000</td>\n",
              "    </tr>\n",
              "    <tr>\n",
              "      <th>4</th>\n",
              "      <td>2020-04-15 10:34:39</td>\n",
              "      <td>#cenasdocotidiano #santos #distanciamentosocia...</td>\n",
              "      <td>0</td>\n",
              "      <td>pt</td>\n",
              "      <td>Santos</td>\n",
              "      <td>Brazil</td>\n",
              "      <td>BR</td>\n",
              "      <td>-46.293700</td>\n",
              "      <td>-23.975947</td>\n",
              "    </tr>\n",
              "    <tr>\n",
              "      <th>5</th>\n",
              "      <td>2020-03-27 22:59:12</td>\n",
              "      <td>O Papa Francisco rezando sozinho na imensa pra...</td>\n",
              "      <td>0</td>\n",
              "      <td>pt</td>\n",
              "      <td>Vatican City</td>\n",
              "      <td>Vatican City</td>\n",
              "      <td>VA</td>\n",
              "      <td>12.457018</td>\n",
              "      <td>41.902473</td>\n",
              "    </tr>\n",
              "    <tr>\n",
              "      <th>6</th>\n",
              "      <td>2020-05-25 10:39:40</td>\n",
              "      <td>Estudo randomizado com remdesivir para o trata...</td>\n",
              "      <td>0</td>\n",
              "      <td>pt</td>\n",
              "      <td>Kingston</td>\n",
              "      <td>Canada</td>\n",
              "      <td>CA</td>\n",
              "      <td>-76.482852</td>\n",
              "      <td>44.232424</td>\n",
              "    </tr>\n",
              "    <tr>\n",
              "      <th>7</th>\n",
              "      <td>2020-03-22 19:12:37</td>\n",
              "      <td>Memórias do cárcere. Hoje deu até pra treinar ...</td>\n",
              "      <td>0</td>\n",
              "      <td>pt</td>\n",
              "      <td>Rio de Janeiro</td>\n",
              "      <td>Brazil</td>\n",
              "      <td>BR</td>\n",
              "      <td>-43.273900</td>\n",
              "      <td>-22.961900</td>\n",
              "    </tr>\n",
              "    <tr>\n",
              "      <th>8</th>\n",
              "      <td>2020-04-17 10:37:04</td>\n",
              "      <td>Bélgica ultrapassa barreira das 5.000 mortes p...</td>\n",
              "      <td>0</td>\n",
              "      <td>pt</td>\n",
              "      <td>Lisbon</td>\n",
              "      <td>Portugal</td>\n",
              "      <td>PT</td>\n",
              "      <td>-9.099043</td>\n",
              "      <td>38.747518</td>\n",
              "    </tr>\n",
              "    <tr>\n",
              "      <th>9</th>\n",
              "      <td>2020-04-14 11:57:33</td>\n",
              "      <td>Covid-19 | Ninguém paga água no concelho - Até...</td>\n",
              "      <td>0</td>\n",
              "      <td>pt</td>\n",
              "      <td>Montalegre</td>\n",
              "      <td>Portugal</td>\n",
              "      <td>PT</td>\n",
              "      <td>-7.791839</td>\n",
              "      <td>41.823221</td>\n",
              "    </tr>\n",
              "  </tbody>\n",
              "</table>\n",
              "</div>"
            ],
            "text/plain": [
              "                  data  ...  longitude\n",
              "0  2020-05-23 00:21:14  ... -22.522600\n",
              "1  2020-03-22 22:57:51  ... -23.606067\n",
              "2  2020-04-14 00:11:33  ...  38.747518\n",
              "3  2020-05-25 20:45:43  ... -23.550000\n",
              "4  2020-04-15 10:34:39  ... -23.975947\n",
              "5  2020-03-27 22:59:12  ...  41.902473\n",
              "6  2020-05-25 10:39:40  ...  44.232424\n",
              "7  2020-03-22 19:12:37  ... -22.961900\n",
              "8  2020-04-17 10:37:04  ...  38.747518\n",
              "9  2020-04-14 11:57:33  ...  41.823221\n",
              "\n",
              "[10 rows x 9 columns]"
            ]
          },
          "metadata": {
            "tags": []
          },
          "execution_count": 47
        }
      ]
    },
    {
      "cell_type": "markdown",
      "metadata": {
        "id": "5DuN1XzUZYj5"
      },
      "source": [
        "### Manipulação de dados"
      ]
    },
    {
      "cell_type": "markdown",
      "metadata": {
        "id": "3Qkqjt5eZfze"
      },
      "source": [
        "Pandas possui uma série de recursos que permite manipular os dados no formato de `DataFrame`."
      ]
    },
    {
      "cell_type": "code",
      "metadata": {
        "id": "eostPPisZzQf",
        "outputId": "3382dce4-a29c-40db-fc27-6772496b24fe",
        "colab": {
          "base_uri": "https://localhost:8080/",
          "height": 419
        }
      },
      "source": [
        "dados"
      ],
      "execution_count": 48,
      "outputs": [
        {
          "output_type": "execute_result",
          "data": {
            "text/html": [
              "<div>\n",
              "<style scoped>\n",
              "    .dataframe tbody tr th:only-of-type {\n",
              "        vertical-align: middle;\n",
              "    }\n",
              "\n",
              "    .dataframe tbody tr th {\n",
              "        vertical-align: top;\n",
              "    }\n",
              "\n",
              "    .dataframe thead th {\n",
              "        text-align: right;\n",
              "    }\n",
              "</style>\n",
              "<table border=\"1\" class=\"dataframe\">\n",
              "  <thead>\n",
              "    <tr style=\"text-align: right;\">\n",
              "      <th></th>\n",
              "      <th>data</th>\n",
              "      <th>texto</th>\n",
              "      <th>retweet</th>\n",
              "      <th>idioma</th>\n",
              "      <th>lugar</th>\n",
              "      <th>pais</th>\n",
              "      <th>sigla</th>\n",
              "      <th>latitude</th>\n",
              "      <th>longitude</th>\n",
              "    </tr>\n",
              "  </thead>\n",
              "  <tbody>\n",
              "    <tr>\n",
              "      <th>0</th>\n",
              "      <td>2020-05-23 00:21:14</td>\n",
              "      <td>Para voltar tudo ao normal, você precisa fazer...</td>\n",
              "      <td>0</td>\n",
              "      <td>pt</td>\n",
              "      <td>Rio das Ostras</td>\n",
              "      <td>Brazil</td>\n",
              "      <td>BR</td>\n",
              "      <td>-41.937900</td>\n",
              "      <td>-22.522600</td>\n",
              "    </tr>\n",
              "    <tr>\n",
              "      <th>1</th>\n",
              "      <td>2020-03-22 22:57:51</td>\n",
              "      <td>14.245 – O que é a hidroxicloroquina? https://...</td>\n",
              "      <td>0</td>\n",
              "      <td>pt</td>\n",
              "      <td>Sao Paulo</td>\n",
              "      <td>Brazil</td>\n",
              "      <td>BR</td>\n",
              "      <td>-46.674739</td>\n",
              "      <td>-23.606067</td>\n",
              "    </tr>\n",
              "    <tr>\n",
              "      <th>2</th>\n",
              "      <td>2020-04-14 00:11:33</td>\n",
              "      <td>Quarta morte em Lar de Estarreja associada à C...</td>\n",
              "      <td>1</td>\n",
              "      <td>pt</td>\n",
              "      <td>Lisbon</td>\n",
              "      <td>Portugal</td>\n",
              "      <td>PT</td>\n",
              "      <td>-9.099043</td>\n",
              "      <td>38.747518</td>\n",
              "    </tr>\n",
              "    <tr>\n",
              "      <th>3</th>\n",
              "      <td>2020-05-25 20:45:43</td>\n",
              "      <td>COVID-19 |  Hospital municipal Tide Setúbal, n...</td>\n",
              "      <td>0</td>\n",
              "      <td>pt</td>\n",
              "      <td>Sao Paulo</td>\n",
              "      <td>Brazil</td>\n",
              "      <td>BR</td>\n",
              "      <td>-46.633300</td>\n",
              "      <td>-23.550000</td>\n",
              "    </tr>\n",
              "    <tr>\n",
              "      <th>4</th>\n",
              "      <td>2020-04-15 10:34:39</td>\n",
              "      <td>#cenasdocotidiano #santos #distanciamentosocia...</td>\n",
              "      <td>0</td>\n",
              "      <td>pt</td>\n",
              "      <td>Santos</td>\n",
              "      <td>Brazil</td>\n",
              "      <td>BR</td>\n",
              "      <td>-46.293700</td>\n",
              "      <td>-23.975947</td>\n",
              "    </tr>\n",
              "    <tr>\n",
              "      <th>...</th>\n",
              "      <td>...</td>\n",
              "      <td>...</td>\n",
              "      <td>...</td>\n",
              "      <td>...</td>\n",
              "      <td>...</td>\n",
              "      <td>...</td>\n",
              "      <td>...</td>\n",
              "      <td>...</td>\n",
              "      <td>...</td>\n",
              "    </tr>\n",
              "    <tr>\n",
              "      <th>495</th>\n",
              "      <td>2020-04-07 16:14:13</td>\n",
              "      <td>O isolamento social também serve para mostrar ...</td>\n",
              "      <td>1</td>\n",
              "      <td>pt</td>\n",
              "      <td>Rio Branco</td>\n",
              "      <td>Brazil</td>\n",
              "      <td>BR</td>\n",
              "      <td>-67.859657</td>\n",
              "      <td>-9.932246</td>\n",
              "    </tr>\n",
              "    <tr>\n",
              "      <th>496</th>\n",
              "      <td>2020-03-26 18:02:28</td>\n",
              "      <td>Enquanto o mundo está atento ao covid 19 é o B...</td>\n",
              "      <td>0</td>\n",
              "      <td>pt</td>\n",
              "      <td>Rio de Janeiro</td>\n",
              "      <td>Brazil</td>\n",
              "      <td>BR</td>\n",
              "      <td>-43.358100</td>\n",
              "      <td>-22.942800</td>\n",
              "    </tr>\n",
              "    <tr>\n",
              "      <th>497</th>\n",
              "      <td>2020-03-18 05:28:16</td>\n",
              "      <td>#covid_19 #stayhome @ Toronto, Ontario https:/...</td>\n",
              "      <td>0</td>\n",
              "      <td>pt</td>\n",
              "      <td>Toronto</td>\n",
              "      <td>Canada</td>\n",
              "      <td>CA</td>\n",
              "      <td>-79.387200</td>\n",
              "      <td>43.648000</td>\n",
              "    </tr>\n",
              "    <tr>\n",
              "      <th>498</th>\n",
              "      <td>2020-03-03 21:27:11</td>\n",
              "      <td>Um vira-lata sem Coronavirus #joeviralata #dog...</td>\n",
              "      <td>0</td>\n",
              "      <td>pt</td>\n",
              "      <td>Sao Paulo</td>\n",
              "      <td>Brazil</td>\n",
              "      <td>BR</td>\n",
              "      <td>-46.633300</td>\n",
              "      <td>-23.550000</td>\n",
              "    </tr>\n",
              "    <tr>\n",
              "      <th>499</th>\n",
              "      <td>2020-01-21 13:18:03</td>\n",
              "      <td>Portugal já está a preparar-se para responder ...</td>\n",
              "      <td>1</td>\n",
              "      <td>pt</td>\n",
              "      <td>Lisbon</td>\n",
              "      <td>Portugal</td>\n",
              "      <td>PT</td>\n",
              "      <td>-9.099043</td>\n",
              "      <td>38.747518</td>\n",
              "    </tr>\n",
              "  </tbody>\n",
              "</table>\n",
              "<p>500 rows × 9 columns</p>\n",
              "</div>"
            ],
            "text/plain": [
              "                    data  ...  longitude\n",
              "0    2020-05-23 00:21:14  ... -22.522600\n",
              "1    2020-03-22 22:57:51  ... -23.606067\n",
              "2    2020-04-14 00:11:33  ...  38.747518\n",
              "3    2020-05-25 20:45:43  ... -23.550000\n",
              "4    2020-04-15 10:34:39  ... -23.975947\n",
              "..                   ...  ...        ...\n",
              "495  2020-04-07 16:14:13  ...  -9.932246\n",
              "496  2020-03-26 18:02:28  ... -22.942800\n",
              "497  2020-03-18 05:28:16  ...  43.648000\n",
              "498  2020-03-03 21:27:11  ... -23.550000\n",
              "499  2020-01-21 13:18:03  ...  38.747518\n",
              "\n",
              "[500 rows x 9 columns]"
            ]
          },
          "metadata": {
            "tags": []
          },
          "execution_count": 48
        }
      ]
    },
    {
      "cell_type": "markdown",
      "metadata": {
        "id": "0jWjVuq2aGof"
      },
      "source": [
        "### As propriedades de um objeto podem ser acessadas como um atributo:"
      ]
    },
    {
      "cell_type": "markdown",
      "metadata": {
        "id": "6lgsZ4JBabrp"
      },
      "source": [
        "Exemplo 1:"
      ]
    },
    {
      "cell_type": "code",
      "metadata": {
        "id": "fd9ZSQwBaeBL",
        "outputId": "0ce809b9-417a-4615-b265-d545a9f82da8",
        "colab": {
          "base_uri": "https://localhost:8080/",
          "height": 221
        }
      },
      "source": [
        "dados.lugar"
      ],
      "execution_count": 49,
      "outputs": [
        {
          "output_type": "execute_result",
          "data": {
            "text/plain": [
              "0      Rio das Ostras\n",
              "1           Sao Paulo\n",
              "2              Lisbon\n",
              "3           Sao Paulo\n",
              "4              Santos\n",
              "            ...      \n",
              "495        Rio Branco\n",
              "496    Rio de Janeiro\n",
              "497           Toronto\n",
              "498         Sao Paulo\n",
              "499            Lisbon\n",
              "Name: lugar, Length: 500, dtype: object"
            ]
          },
          "metadata": {
            "tags": []
          },
          "execution_count": 49
        }
      ]
    },
    {
      "cell_type": "markdown",
      "metadata": {
        "id": "vMOKQYP7auBT"
      },
      "source": [
        "Exemplo 2:"
      ]
    },
    {
      "cell_type": "code",
      "metadata": {
        "id": "ZBvkUBuaayTK",
        "outputId": "6f8e2a13-65b2-4255-8955-381d98931f64",
        "colab": {
          "base_uri": "https://localhost:8080/",
          "height": 221
        }
      },
      "source": [
        "dados['lugar']"
      ],
      "execution_count": 50,
      "outputs": [
        {
          "output_type": "execute_result",
          "data": {
            "text/plain": [
              "0      Rio das Ostras\n",
              "1           Sao Paulo\n",
              "2              Lisbon\n",
              "3           Sao Paulo\n",
              "4              Santos\n",
              "            ...      \n",
              "495        Rio Branco\n",
              "496    Rio de Janeiro\n",
              "497           Toronto\n",
              "498         Sao Paulo\n",
              "499            Lisbon\n",
              "Name: lugar, Length: 500, dtype: object"
            ]
          },
          "metadata": {
            "tags": []
          },
          "execution_count": 50
        }
      ]
    },
    {
      "cell_type": "code",
      "metadata": {
        "id": "CakaN4Na-0kJ",
        "outputId": "22462828-1ef3-42b9-d105-7e53f3517bf8",
        "colab": {
          "base_uri": "https://localhost:8080/",
          "height": 1000
        }
      },
      "source": [
        "for i in dados.lugar :\n",
        "  print(i)"
      ],
      "execution_count": 52,
      "outputs": [
        {
          "output_type": "stream",
          "text": [
            "Rio das Ostras\n",
            "Sao Paulo\n",
            "Lisbon\n",
            "Sao Paulo\n",
            "Santos\n",
            "Vatican City\n",
            "Kingston\n",
            "Rio de Janeiro\n",
            "Lisbon\n",
            "Montalegre\n",
            "Lisbon\n",
            "Curitiba\n",
            "Natal\n",
            "Natal\n",
            "Cachoeiro de Itapemirim\n",
            "Natal\n",
            "Aragarças\n",
            "Upanema\n",
            "Lisbon\n",
            "Ponta Grossa\n",
            "Cambuci\n",
            "Delmiro Gouveia\n",
            "Taperoá\n",
            "Sao Paulo\n",
            "Guarulhos\n",
            "Lisbon\n",
            "Manhuaçu\n",
            "Lisbon\n",
            "São Bernardo do Campo\n",
            "São Félix do Araguaia\n",
            "Tombos\n",
            "João Pessoa\n",
            "Brasília\n",
            "Rio de Janeiro\n",
            "Sao Paulo\n",
            "Lisbon\n",
            "Riacho dos Cavalos\n",
            "Juiz de Fora\n",
            "Sao Paulo\n",
            "São Bernardo do Campo\n",
            "Peruíbe\n",
            "Lisbon\n",
            "Sao Paulo\n",
            "Lisbon\n",
            "Sao Paulo\n",
            "Lisbon\n",
            "Lisbon\n",
            "Lisbon\n",
            "Rio de Janeiro\n",
            "Jaguaruna\n",
            "Campo Grande\n",
            "Rio de Janeiro\n",
            "Lisbon\n",
            "Porto Alegre\n",
            "Lisbon\n",
            "Miami\n",
            "João Pessoa\n",
            "Caieiras\n",
            "Ponorogo\n",
            "Lisbon\n",
            "Lages\n",
            "Barbacena\n",
            "Lisbon\n",
            "Vila Velha\n",
            "Montes Claros\n",
            "Curitiba\n",
            "Lages\n",
            "Chapecó\n",
            "Sao Paulo\n",
            "João Pessoa\n",
            "Brasília\n",
            "Scott Lake\n",
            "Colorado Springs\n",
            "Pato Branco\n",
            "Recife\n",
            "Los Angeles\n",
            "Sao Paulo\n",
            "Martinho Campos\n",
            "Natal\n",
            "Brasília\n",
            "Uberlândia\n",
            "Lisbon\n",
            "Aracaju\n",
            "Belém\n",
            "Camaçari\n",
            "Barcelona\n",
            "Melbourne\n",
            "Bayeux\n",
            "Rianápolis\n",
            "Lisbon\n",
            "Belo Horizonte\n",
            "Bacabal\n",
            "Boa Viagem\n",
            "Caieiras\n",
            "Venustiano Carranza\n",
            "Lisbon\n",
            "Rio de Janeiro\n",
            "Natal\n",
            "Campo Grande\n",
            "Sao Paulo\n",
            "São Luís\n",
            "North Miami Beach\n",
            "Diadema\n",
            "Valencia\n",
            "Utrecht\n",
            "Lisbon\n",
            "Guararapes\n",
            "Colatina\n",
            "Lisbon\n",
            "Bradenton\n",
            "Campina Grande\n",
            "Setúbal\n",
            "São José do Rio Preto\n",
            "Sao Paulo\n",
            "Luís Eduardo Magalhães\n",
            "Rio Verde\n",
            "Sorocaba\n",
            "Maringá\n",
            "Cuiabá\n",
            "Aparecida de Goiânia\n",
            "Sao Paulo\n",
            "Campinas\n",
            "Niterói\n",
            "Manhattan\n",
            "Patos\n",
            "Porto Seguro\n",
            "Brasília\n",
            "Queimados\n",
            "Porto Alegre\n",
            "Taquarana\n",
            "Porto Alegre\n",
            "Brasília\n",
            "Lisbon\n",
            "Balneário Camboriú\n",
            "Maceió\n",
            "Sao Paulo\n",
            "Jaguaré\n",
            "Sorocaba\n",
            "João Pessoa\n",
            "Lisbon\n",
            "Manaus\n",
            "Salvador\n",
            "Volta Redonda\n",
            "Arapiraca\n",
            "Lisbon\n",
            "Maringá\n",
            "Oeiras\n",
            "Natal\n",
            "Góis\n",
            "Juazeiro do Norte\n",
            "Curitiba\n",
            "Brasília\n",
            "Vitória de Santo Antão\n",
            "Abre Campo\n",
            "Sao Paulo\n",
            "Sao Paulo\n",
            "Salvador\n",
            "Maranguape\n",
            "Rio de Janeiro\n",
            "Vitória\n",
            "Guarulhos\n",
            "Lisbon\n",
            "Samedan\n",
            "São Lourenço da Mata\n",
            "Iguatu\n",
            "Salvador\n",
            "Campo Grande\n",
            "Auckland\n",
            "Canoas\n",
            "Aracaju\n",
            "Curaçao\n",
            "Taubaté\n",
            "Estrela de Alagoas\n",
            "Petrópolis\n",
            "Nilópolis\n",
            "Maranguape\n",
            "Sao Paulo\n",
            "Maceió\n",
            "Milan\n",
            "Bom Despacho\n",
            "Rio de Janeiro\n",
            "New Delhi\n",
            "Caxias do Sul\n",
            "Brasília\n",
            "Salvador\n",
            "Boca da Mata\n",
            "Rio de Janeiro\n",
            "Taquarana\n",
            "Sao Paulo\n",
            "Taquarana\n",
            "Bom Jesus da Lapa\n",
            "João Pessoa\n",
            "Belo Horizonte\n",
            "Magé\n",
            "Goiânia\n",
            "Sao Paulo\n",
            "Serra Negra\n",
            "Juazeiro do Norte\n",
            "Santos\n",
            "Sao Paulo\n",
            "Maceió\n",
            "Bom Jesus da Lapa\n",
            "Montes Claros\n",
            "Montpelier\n",
            "Lisbon\n",
            "Patos\n",
            "Lisbon\n",
            "São Gonçalo do Amarante\n",
            "Manaus\n",
            "Rio de Janeiro\n",
            "Salvador\n",
            "Florianópolis\n",
            "anto Domingo de Guzmán\n",
            "Lisbon\n",
            "Sao Paulo\n",
            "Juazeiro do Norte\n",
            "Salvador\n",
            "São José dos Campos\n",
            "Recife\n",
            "Rio de Janeiro\n",
            "Lisbon\n",
            "Fernando Pedroza\n",
            "Lisbon\n",
            "Apuí\n",
            "Sao Paulo\n",
            "Lisbon\n",
            "Nilópolis\n",
            "Santos\n",
            "Mesquita\n",
            "Sao Paulo\n",
            "Belo Horizonte\n",
            "São José do Rio Preto\n",
            "Cuiabá\n",
            "Vitória\n",
            "Gurupi\n",
            "Lisbon\n",
            "Taquarana\n",
            "Caxias\n",
            "São Bernardo do Campo\n",
            "Sertânia\n",
            "Campo Grande\n",
            "Lisbon\n",
            "Sobral\n",
            "Maceió\n",
            "João Pessoa\n",
            "Lisbon\n",
            "São João del Rei\n",
            "Arraial do Cabo\n",
            "Porto Alegre\n",
            "Foz do Iguaçu\n",
            "Sao Paulo\n",
            "Toronto\n",
            "Goiânia\n",
            "Foz do Iguaçu\n",
            "Lisbon\n",
            "São Caetano do Sul\n",
            "Sao Paulo\n",
            "Itacoatiara\n",
            "Camacan\n",
            "Rio de Janeiro\n",
            "Sao Paulo\n",
            "Barretos\n",
            "Salinas\n",
            "Florianópolis\n",
            "Brasília\n",
            "Lisbon\n",
            "São Bernardo do Campo\n",
            "Caucaia\n",
            "Guarulhos\n",
            "Eusébio\n",
            "Porto Velho\n",
            "Mirassol\n",
            "Marília\n",
            "Brasília\n",
            "Taperoá\n",
            "Cuiabá\n",
            "Lisbon\n",
            "Barreiro\n",
            "Lisbon\n",
            "Maranguape\n",
            "João Pessoa\n",
            "Ribeirão Preto\n",
            "Sao Paulo\n",
            "Sao Paulo\n",
            "Sao Paulo\n",
            "Sao Paulo\n",
            "Porto Alegre\n",
            "Campo Grande\n",
            "Porto Alegre\n",
            "Florianópolis\n",
            "Salvador\n",
            "Rio de Janeiro\n",
            "São Bernardo do Campo\n",
            "Chapecó\n",
            "Curitiba\n",
            "Lisbon\n",
            "Fortaleza\n",
            "Lisbon\n",
            "Manaus\n",
            "Sao Paulo\n",
            "Lisbon\n",
            "Lages\n",
            "Jaboticatubas\n",
            "Euclides da Cunha\n",
            "Campo Grande\n",
            "Sao Paulo\n",
            "Sao Paulo\n",
            "Sao Paulo\n",
            "Lisbon\n",
            "Feira de Santana\n",
            "Sao Paulo\n",
            "São Luís\n",
            "Franca\n",
            "Mauá\n",
            "Pilõezinhos\n",
            "Campo Grande\n",
            "Serra Negra\n",
            "Cotia\n",
            "Sao Paulo\n",
            "Rio Claro\n",
            "Londrina\n",
            "Rio Claro\n",
            "Santos\n",
            "Sao Paulo\n",
            "Niterói\n",
            "Barueri\n",
            "Lisbon\n",
            "Guajará-Mirim\n",
            "Lisbon\n",
            "Lisbon\n",
            "Recife\n",
            "Lisbon\n",
            "Rio de Janeiro\n",
            "Guarulhos\n",
            "Sao Paulo\n",
            "Porto Alegre\n",
            "Lisbon\n",
            "Lisbon\n",
            "Lisbon\n",
            "Rio de Janeiro\n",
            "Penha\n",
            "Sao Paulo\n",
            "Palmeira dos Índios\n",
            "Juazeiro do Norte\n",
            "Lisbon\n",
            "Propriá\n",
            "Cuiabá\n",
            "Belém\n",
            "Joinville\n",
            "Lisbon\n",
            "Guarulhos\n",
            "São Sebastião\n",
            "Sao Paulo\n",
            "Angra dos Reis\n",
            "Melbourne\n",
            "Natal\n",
            "Gansu\n",
            "São Félix do Araguaia\n",
            "Sao Paulo\n",
            "Lisbon\n",
            "Pitimbu\n",
            "Brasília\n",
            "Rio Tinto\n",
            "Santo André\n",
            "Diadema\n",
            "Camaçari\n",
            "Teresina\n",
            "Sao Paulo\n",
            "Manaus\n",
            "Natal\n",
            "Sao Paulo\n",
            "Sao Paulo\n",
            "Poconé\n",
            "Rio de Janeiro\n",
            "Novo Hamburgo\n",
            "Brasnorte\n",
            "Seabra\n",
            "Rianápolis\n",
            "João Pessoa\n",
            "Sao Paulo\n",
            "Bom Jesus da Lapa\n",
            "Salvador\n",
            "Queimados\n",
            "Natal\n",
            "Lisbon\n",
            "Cotia\n",
            "Toronto\n",
            "Jequié\n",
            "Recife\n",
            "Praia Grande\n",
            "Angra dos Reis\n",
            "Chicago\n",
            "Darlington\n",
            "Goiânia\n",
            "Cabo de Santo Agostinho\n",
            "Mogi Mirim\n",
            "São Félix do Araguaia\n",
            "Mogi das Cruzes\n",
            "Itabira\n",
            "Namibia\n",
            "Goiânia\n",
            "Paris\n",
            "Salvador\n",
            "Guaratinguetá\n",
            "Rio de Janeiro\n",
            "Mauá\n",
            "Carmel\n",
            "Recife\n",
            "Uberlândia\n",
            "Fortaleza\n",
            "Sao Paulo\n",
            "Arapiraca\n",
            "Rome\n",
            "Porto Alegre\n",
            "Sao Paulo\n",
            "Suzano\n",
            "João Pessoa\n",
            "Vitória da Conquista\n",
            "Lisbon\n",
            "Recife\n",
            "Toronto\n",
            "Maracás\n",
            "Nova Londrina\n",
            "Nova Iguaçu\n",
            "Lyon\n",
            "Sao Paulo\n",
            "Rio de Janeiro\n",
            "Loures\n",
            "Salvador\n",
            "Mossoró\n",
            "Joinville\n",
            "Rio de Janeiro\n",
            "Curitiba\n",
            "Manaus\n",
            "São José\n",
            "Lisbon\n",
            "Barretos\n",
            "Santos\n",
            "Rio de Janeiro\n",
            "Barretos\n",
            "Sao Paulo\n",
            "Codó\n",
            "São Caetano do Sul\n",
            "Manaus\n",
            "Brasília\n",
            "Rio de Janeiro\n",
            "Rio de Janeiro\n",
            "Sao Paulo\n",
            "Porto Alegre\n",
            "Porto Alegre\n",
            "Rio de Janeiro\n",
            "Rio das Ostras\n",
            "Campo Grande\n",
            "Toronto\n",
            "Auckland\n",
            "Angra dos Reis\n",
            "Republic of Mozambique\n",
            "Mossoró\n",
            "Sao Paulo\n",
            "Recife\n",
            "Salvador\n",
            "Lisbon\n",
            "Belo Horizonte\n",
            "Fátima\n",
            "Guanambi\n",
            "Sao Paulo\n",
            "Lisbon\n",
            "Caieiras\n",
            "São José dos Campos\n",
            "Cotia\n",
            "Sao Paulo\n",
            "Mata de São João\n",
            "Ourinhos\n",
            "Sao Paulo\n",
            "Recife\n",
            "Guanambi\n",
            "Rio de Janeiro\n",
            "Lisbon\n",
            "Porto Alegre\n",
            "Reus\n",
            "São Félix do Araguaia\n",
            "Lisbon\n",
            "Sorocaba\n",
            "Mogi das Cruzes\n",
            "Feira de Santana\n",
            "Recife\n",
            "Petrópolis\n",
            "Recife\n",
            "Ibertioga\n",
            "Florianópolis\n",
            "City of London\n",
            "Lisbon\n",
            "Caruaru\n",
            "Medianeira\n",
            "Sao Paulo\n",
            "Rio Branco\n",
            "Rio de Janeiro\n",
            "Toronto\n",
            "Sao Paulo\n",
            "Lisbon\n"
          ],
          "name": "stdout"
        }
      ]
    },
    {
      "cell_type": "markdown",
      "metadata": {
        "id": "1E9aaBM_bXAV"
      },
      "source": [
        "Exemplo 3:"
      ]
    },
    {
      "cell_type": "code",
      "metadata": {
        "id": "lnTdfyIXbYnh",
        "outputId": "c7e1cb86-abc2-4f04-919f-2d63cf6b167c",
        "colab": {
          "base_uri": "https://localhost:8080/",
          "height": 35
        }
      },
      "source": [
        "#acessando pelo valor do indice\n",
        "dados['lugar'][0]"
      ],
      "execution_count": 51,
      "outputs": [
        {
          "output_type": "execute_result",
          "data": {
            "application/vnd.google.colaboratory.intrinsic+json": {
              "type": "string"
            },
            "text/plain": [
              "'Rio das Ostras'"
            ]
          },
          "metadata": {
            "tags": []
          },
          "execution_count": 51
        }
      ]
    },
    {
      "cell_type": "markdown",
      "metadata": {
        "id": "pImKeUbnbpAC"
      },
      "source": [
        "# Indexação em Pandas"
      ]
    },
    {
      "cell_type": "markdown",
      "metadata": {
        "id": "Hic5mwsweGLm"
      },
      "source": [
        "### Seleção baseada em índices\n",
        "\n",
        "#### Seleção de dados baseada na posição numérica dos dados."
      ]
    },
    {
      "cell_type": "markdown",
      "metadata": {
        "id": "f-NyJR05ffVM"
      },
      "source": [
        "### Selecionar a primeira linha\n",
        "\n",
        "Exemplo 1:"
      ]
    },
    {
      "cell_type": "code",
      "metadata": {
        "id": "PQrRq8nUcY_s",
        "outputId": "ae66603c-64fa-4394-911a-154d741e1eae",
        "colab": {
          "base_uri": "https://localhost:8080/",
          "height": 187
        }
      },
      "source": [
        "dados.iloc[0]"
      ],
      "execution_count": 53,
      "outputs": [
        {
          "output_type": "execute_result",
          "data": {
            "text/plain": [
              "data                                       2020-05-23 00:21:14\n",
              "texto        Para voltar tudo ao normal, você precisa fazer...\n",
              "retweet                                                      0\n",
              "idioma                                                      pt\n",
              "lugar                                           Rio das Ostras\n",
              "pais                                                    Brazil\n",
              "sigla                                                       BR\n",
              "latitude                                              -41.9379\n",
              "longitude                                             -22.5226\n",
              "Name: 0, dtype: object"
            ]
          },
          "metadata": {
            "tags": []
          },
          "execution_count": 53
        }
      ]
    },
    {
      "cell_type": "markdown",
      "metadata": {
        "id": "vIVASYROk_Tg"
      },
      "source": [
        "Exemplo 2:"
      ]
    },
    {
      "cell_type": "code",
      "metadata": {
        "id": "A-kPc_pBf_6-",
        "outputId": "44201aeb-fb68-48af-a18c-650e3327fe1f",
        "colab": {
          "base_uri": "https://localhost:8080/",
          "height": 221
        }
      },
      "source": [
        "dados.iloc[:,1]"
      ],
      "execution_count": 54,
      "outputs": [
        {
          "output_type": "execute_result",
          "data": {
            "text/plain": [
              "0      Para voltar tudo ao normal, você precisa fazer...\n",
              "1      14.245 – O que é a hidroxicloroquina? https://...\n",
              "2      Quarta morte em Lar de Estarreja associada à C...\n",
              "3      COVID-19 |  Hospital municipal Tide Setúbal, n...\n",
              "4      #cenasdocotidiano #santos #distanciamentosocia...\n",
              "                             ...                        \n",
              "495    O isolamento social também serve para mostrar ...\n",
              "496    Enquanto o mundo está atento ao covid 19 é o B...\n",
              "497    #covid_19 #stayhome @ Toronto, Ontario https:/...\n",
              "498    Um vira-lata sem Coronavirus #joeviralata #dog...\n",
              "499    Portugal já está a preparar-se para responder ...\n",
              "Name: texto, Length: 500, dtype: object"
            ]
          },
          "metadata": {
            "tags": []
          },
          "execution_count": 54
        }
      ]
    },
    {
      "cell_type": "markdown",
      "metadata": {
        "id": "Pgu50YnrlDcb"
      },
      "source": [
        "Exemplo 3:"
      ]
    },
    {
      "cell_type": "code",
      "metadata": {
        "id": "ey2gsjFBgJB7",
        "outputId": "3a2a38c8-1b8b-4489-cfd3-88e8fd880281",
        "colab": {
          "base_uri": "https://localhost:8080/",
          "height": 204
        }
      },
      "source": [
        "dados.iloc[-5:]"
      ],
      "execution_count": 55,
      "outputs": [
        {
          "output_type": "execute_result",
          "data": {
            "text/html": [
              "<div>\n",
              "<style scoped>\n",
              "    .dataframe tbody tr th:only-of-type {\n",
              "        vertical-align: middle;\n",
              "    }\n",
              "\n",
              "    .dataframe tbody tr th {\n",
              "        vertical-align: top;\n",
              "    }\n",
              "\n",
              "    .dataframe thead th {\n",
              "        text-align: right;\n",
              "    }\n",
              "</style>\n",
              "<table border=\"1\" class=\"dataframe\">\n",
              "  <thead>\n",
              "    <tr style=\"text-align: right;\">\n",
              "      <th></th>\n",
              "      <th>data</th>\n",
              "      <th>texto</th>\n",
              "      <th>retweet</th>\n",
              "      <th>idioma</th>\n",
              "      <th>lugar</th>\n",
              "      <th>pais</th>\n",
              "      <th>sigla</th>\n",
              "      <th>latitude</th>\n",
              "      <th>longitude</th>\n",
              "    </tr>\n",
              "  </thead>\n",
              "  <tbody>\n",
              "    <tr>\n",
              "      <th>495</th>\n",
              "      <td>2020-04-07 16:14:13</td>\n",
              "      <td>O isolamento social também serve para mostrar ...</td>\n",
              "      <td>1</td>\n",
              "      <td>pt</td>\n",
              "      <td>Rio Branco</td>\n",
              "      <td>Brazil</td>\n",
              "      <td>BR</td>\n",
              "      <td>-67.859657</td>\n",
              "      <td>-9.932246</td>\n",
              "    </tr>\n",
              "    <tr>\n",
              "      <th>496</th>\n",
              "      <td>2020-03-26 18:02:28</td>\n",
              "      <td>Enquanto o mundo está atento ao covid 19 é o B...</td>\n",
              "      <td>0</td>\n",
              "      <td>pt</td>\n",
              "      <td>Rio de Janeiro</td>\n",
              "      <td>Brazil</td>\n",
              "      <td>BR</td>\n",
              "      <td>-43.358100</td>\n",
              "      <td>-22.942800</td>\n",
              "    </tr>\n",
              "    <tr>\n",
              "      <th>497</th>\n",
              "      <td>2020-03-18 05:28:16</td>\n",
              "      <td>#covid_19 #stayhome @ Toronto, Ontario https:/...</td>\n",
              "      <td>0</td>\n",
              "      <td>pt</td>\n",
              "      <td>Toronto</td>\n",
              "      <td>Canada</td>\n",
              "      <td>CA</td>\n",
              "      <td>-79.387200</td>\n",
              "      <td>43.648000</td>\n",
              "    </tr>\n",
              "    <tr>\n",
              "      <th>498</th>\n",
              "      <td>2020-03-03 21:27:11</td>\n",
              "      <td>Um vira-lata sem Coronavirus #joeviralata #dog...</td>\n",
              "      <td>0</td>\n",
              "      <td>pt</td>\n",
              "      <td>Sao Paulo</td>\n",
              "      <td>Brazil</td>\n",
              "      <td>BR</td>\n",
              "      <td>-46.633300</td>\n",
              "      <td>-23.550000</td>\n",
              "    </tr>\n",
              "    <tr>\n",
              "      <th>499</th>\n",
              "      <td>2020-01-21 13:18:03</td>\n",
              "      <td>Portugal já está a preparar-se para responder ...</td>\n",
              "      <td>1</td>\n",
              "      <td>pt</td>\n",
              "      <td>Lisbon</td>\n",
              "      <td>Portugal</td>\n",
              "      <td>PT</td>\n",
              "      <td>-9.099043</td>\n",
              "      <td>38.747518</td>\n",
              "    </tr>\n",
              "  </tbody>\n",
              "</table>\n",
              "</div>"
            ],
            "text/plain": [
              "                    data  ...  longitude\n",
              "495  2020-04-07 16:14:13  ...  -9.932246\n",
              "496  2020-03-26 18:02:28  ... -22.942800\n",
              "497  2020-03-18 05:28:16  ...  43.648000\n",
              "498  2020-03-03 21:27:11  ... -23.550000\n",
              "499  2020-01-21 13:18:03  ...  38.747518\n",
              "\n",
              "[5 rows x 9 columns]"
            ]
          },
          "metadata": {
            "tags": []
          },
          "execution_count": 55
        }
      ]
    },
    {
      "cell_type": "markdown",
      "metadata": {
        "id": "imx0mjKlgQsG"
      },
      "source": [
        "Exemplo 5:"
      ]
    },
    {
      "cell_type": "code",
      "metadata": {
        "id": "ohmxTrlTg17l",
        "outputId": "27a12cbb-7736-415d-d1cb-e4938a34dcf2",
        "colab": {
          "base_uri": "https://localhost:8080/",
          "height": 35
        }
      },
      "source": [
        "dados.loc[0, 'pais']"
      ],
      "execution_count": 56,
      "outputs": [
        {
          "output_type": "execute_result",
          "data": {
            "application/vnd.google.colaboratory.intrinsic+json": {
              "type": "string"
            },
            "text/plain": [
              "'Brazil'"
            ]
          },
          "metadata": {
            "tags": []
          },
          "execution_count": 56
        }
      ]
    },
    {
      "cell_type": "markdown",
      "metadata": {
        "id": "BMqcU4nog-kQ"
      },
      "source": [
        "# Manipulação de índices\n",
        "\n",
        "### É possível fazer a indexação dados por um atributo."
      ]
    },
    {
      "cell_type": "markdown",
      "metadata": {
        "id": "epTQLNOjjARa"
      },
      "source": [
        "### Exemplo:"
      ]
    },
    {
      "cell_type": "code",
      "metadata": {
        "id": "p_MijJSGiVps",
        "outputId": "16f2f2b2-3605-463e-ac5a-9f0ef5e74d4e",
        "colab": {
          "base_uri": "https://localhost:8080/",
          "height": 450
        }
      },
      "source": [
        "dados.set_index('pais')"
      ],
      "execution_count": 57,
      "outputs": [
        {
          "output_type": "execute_result",
          "data": {
            "text/html": [
              "<div>\n",
              "<style scoped>\n",
              "    .dataframe tbody tr th:only-of-type {\n",
              "        vertical-align: middle;\n",
              "    }\n",
              "\n",
              "    .dataframe tbody tr th {\n",
              "        vertical-align: top;\n",
              "    }\n",
              "\n",
              "    .dataframe thead th {\n",
              "        text-align: right;\n",
              "    }\n",
              "</style>\n",
              "<table border=\"1\" class=\"dataframe\">\n",
              "  <thead>\n",
              "    <tr style=\"text-align: right;\">\n",
              "      <th></th>\n",
              "      <th>data</th>\n",
              "      <th>texto</th>\n",
              "      <th>retweet</th>\n",
              "      <th>idioma</th>\n",
              "      <th>lugar</th>\n",
              "      <th>sigla</th>\n",
              "      <th>latitude</th>\n",
              "      <th>longitude</th>\n",
              "    </tr>\n",
              "    <tr>\n",
              "      <th>pais</th>\n",
              "      <th></th>\n",
              "      <th></th>\n",
              "      <th></th>\n",
              "      <th></th>\n",
              "      <th></th>\n",
              "      <th></th>\n",
              "      <th></th>\n",
              "      <th></th>\n",
              "    </tr>\n",
              "  </thead>\n",
              "  <tbody>\n",
              "    <tr>\n",
              "      <th>Brazil</th>\n",
              "      <td>2020-05-23 00:21:14</td>\n",
              "      <td>Para voltar tudo ao normal, você precisa fazer...</td>\n",
              "      <td>0</td>\n",
              "      <td>pt</td>\n",
              "      <td>Rio das Ostras</td>\n",
              "      <td>BR</td>\n",
              "      <td>-41.937900</td>\n",
              "      <td>-22.522600</td>\n",
              "    </tr>\n",
              "    <tr>\n",
              "      <th>Brazil</th>\n",
              "      <td>2020-03-22 22:57:51</td>\n",
              "      <td>14.245 – O que é a hidroxicloroquina? https://...</td>\n",
              "      <td>0</td>\n",
              "      <td>pt</td>\n",
              "      <td>Sao Paulo</td>\n",
              "      <td>BR</td>\n",
              "      <td>-46.674739</td>\n",
              "      <td>-23.606067</td>\n",
              "    </tr>\n",
              "    <tr>\n",
              "      <th>Portugal</th>\n",
              "      <td>2020-04-14 00:11:33</td>\n",
              "      <td>Quarta morte em Lar de Estarreja associada à C...</td>\n",
              "      <td>1</td>\n",
              "      <td>pt</td>\n",
              "      <td>Lisbon</td>\n",
              "      <td>PT</td>\n",
              "      <td>-9.099043</td>\n",
              "      <td>38.747518</td>\n",
              "    </tr>\n",
              "    <tr>\n",
              "      <th>Brazil</th>\n",
              "      <td>2020-05-25 20:45:43</td>\n",
              "      <td>COVID-19 |  Hospital municipal Tide Setúbal, n...</td>\n",
              "      <td>0</td>\n",
              "      <td>pt</td>\n",
              "      <td>Sao Paulo</td>\n",
              "      <td>BR</td>\n",
              "      <td>-46.633300</td>\n",
              "      <td>-23.550000</td>\n",
              "    </tr>\n",
              "    <tr>\n",
              "      <th>Brazil</th>\n",
              "      <td>2020-04-15 10:34:39</td>\n",
              "      <td>#cenasdocotidiano #santos #distanciamentosocia...</td>\n",
              "      <td>0</td>\n",
              "      <td>pt</td>\n",
              "      <td>Santos</td>\n",
              "      <td>BR</td>\n",
              "      <td>-46.293700</td>\n",
              "      <td>-23.975947</td>\n",
              "    </tr>\n",
              "    <tr>\n",
              "      <th>...</th>\n",
              "      <td>...</td>\n",
              "      <td>...</td>\n",
              "      <td>...</td>\n",
              "      <td>...</td>\n",
              "      <td>...</td>\n",
              "      <td>...</td>\n",
              "      <td>...</td>\n",
              "      <td>...</td>\n",
              "    </tr>\n",
              "    <tr>\n",
              "      <th>Brazil</th>\n",
              "      <td>2020-04-07 16:14:13</td>\n",
              "      <td>O isolamento social também serve para mostrar ...</td>\n",
              "      <td>1</td>\n",
              "      <td>pt</td>\n",
              "      <td>Rio Branco</td>\n",
              "      <td>BR</td>\n",
              "      <td>-67.859657</td>\n",
              "      <td>-9.932246</td>\n",
              "    </tr>\n",
              "    <tr>\n",
              "      <th>Brazil</th>\n",
              "      <td>2020-03-26 18:02:28</td>\n",
              "      <td>Enquanto o mundo está atento ao covid 19 é o B...</td>\n",
              "      <td>0</td>\n",
              "      <td>pt</td>\n",
              "      <td>Rio de Janeiro</td>\n",
              "      <td>BR</td>\n",
              "      <td>-43.358100</td>\n",
              "      <td>-22.942800</td>\n",
              "    </tr>\n",
              "    <tr>\n",
              "      <th>Canada</th>\n",
              "      <td>2020-03-18 05:28:16</td>\n",
              "      <td>#covid_19 #stayhome @ Toronto, Ontario https:/...</td>\n",
              "      <td>0</td>\n",
              "      <td>pt</td>\n",
              "      <td>Toronto</td>\n",
              "      <td>CA</td>\n",
              "      <td>-79.387200</td>\n",
              "      <td>43.648000</td>\n",
              "    </tr>\n",
              "    <tr>\n",
              "      <th>Brazil</th>\n",
              "      <td>2020-03-03 21:27:11</td>\n",
              "      <td>Um vira-lata sem Coronavirus #joeviralata #dog...</td>\n",
              "      <td>0</td>\n",
              "      <td>pt</td>\n",
              "      <td>Sao Paulo</td>\n",
              "      <td>BR</td>\n",
              "      <td>-46.633300</td>\n",
              "      <td>-23.550000</td>\n",
              "    </tr>\n",
              "    <tr>\n",
              "      <th>Portugal</th>\n",
              "      <td>2020-01-21 13:18:03</td>\n",
              "      <td>Portugal já está a preparar-se para responder ...</td>\n",
              "      <td>1</td>\n",
              "      <td>pt</td>\n",
              "      <td>Lisbon</td>\n",
              "      <td>PT</td>\n",
              "      <td>-9.099043</td>\n",
              "      <td>38.747518</td>\n",
              "    </tr>\n",
              "  </tbody>\n",
              "</table>\n",
              "<p>500 rows × 8 columns</p>\n",
              "</div>"
            ],
            "text/plain": [
              "                         data  ...  longitude\n",
              "pais                           ...           \n",
              "Brazil    2020-05-23 00:21:14  ... -22.522600\n",
              "Brazil    2020-03-22 22:57:51  ... -23.606067\n",
              "Portugal  2020-04-14 00:11:33  ...  38.747518\n",
              "Brazil    2020-05-25 20:45:43  ... -23.550000\n",
              "Brazil    2020-04-15 10:34:39  ... -23.975947\n",
              "...                       ...  ...        ...\n",
              "Brazil    2020-04-07 16:14:13  ...  -9.932246\n",
              "Brazil    2020-03-26 18:02:28  ... -22.942800\n",
              "Canada    2020-03-18 05:28:16  ...  43.648000\n",
              "Brazil    2020-03-03 21:27:11  ... -23.550000\n",
              "Portugal  2020-01-21 13:18:03  ...  38.747518\n",
              "\n",
              "[500 rows x 8 columns]"
            ]
          },
          "metadata": {
            "tags": []
          },
          "execution_count": 57
        }
      ]
    },
    {
      "cell_type": "markdown",
      "metadata": {
        "id": "IA9RsWOZjaLj"
      },
      "source": [
        "# Seleção condicional"
      ]
    },
    {
      "cell_type": "markdown",
      "metadata": {
        "id": "DNimsIsBjcZK"
      },
      "source": [
        "É possível consultar os dados de acordo com algum critério (condição)"
      ]
    },
    {
      "cell_type": "markdown",
      "metadata": {
        "id": "Mf7_pS-Ejm3A"
      },
      "source": [
        "Exemplo:"
      ]
    },
    {
      "cell_type": "code",
      "metadata": {
        "id": "_9vh_G23jb5I",
        "outputId": "201b5a37-8b7d-468d-f725-b4a993300fb7",
        "colab": {
          "base_uri": "https://localhost:8080/",
          "height": 221
        }
      },
      "source": [
        "dados.sigla == 'BR'"
      ],
      "execution_count": 58,
      "outputs": [
        {
          "output_type": "execute_result",
          "data": {
            "text/plain": [
              "0       True\n",
              "1       True\n",
              "2      False\n",
              "3       True\n",
              "4       True\n",
              "       ...  \n",
              "495     True\n",
              "496     True\n",
              "497    False\n",
              "498     True\n",
              "499    False\n",
              "Name: sigla, Length: 500, dtype: bool"
            ]
          },
          "metadata": {
            "tags": []
          },
          "execution_count": 58
        }
      ]
    },
    {
      "cell_type": "markdown",
      "metadata": {
        "id": "TH5hYOW-kOJ8"
      },
      "source": [
        "### Essa operação pode ser usado em combinação `loc`"
      ]
    },
    {
      "cell_type": "code",
      "metadata": {
        "id": "MV5bTVpHkY80",
        "outputId": "3ef2fb01-49b4-458d-d39e-fcda384b4ab1",
        "colab": {
          "base_uri": "https://localhost:8080/",
          "height": 419
        }
      },
      "source": [
        "dados.loc[dados.sigla == 'BR']"
      ],
      "execution_count": 60,
      "outputs": [
        {
          "output_type": "execute_result",
          "data": {
            "text/html": [
              "<div>\n",
              "<style scoped>\n",
              "    .dataframe tbody tr th:only-of-type {\n",
              "        vertical-align: middle;\n",
              "    }\n",
              "\n",
              "    .dataframe tbody tr th {\n",
              "        vertical-align: top;\n",
              "    }\n",
              "\n",
              "    .dataframe thead th {\n",
              "        text-align: right;\n",
              "    }\n",
              "</style>\n",
              "<table border=\"1\" class=\"dataframe\">\n",
              "  <thead>\n",
              "    <tr style=\"text-align: right;\">\n",
              "      <th></th>\n",
              "      <th>data</th>\n",
              "      <th>texto</th>\n",
              "      <th>retweet</th>\n",
              "      <th>idioma</th>\n",
              "      <th>lugar</th>\n",
              "      <th>pais</th>\n",
              "      <th>sigla</th>\n",
              "      <th>latitude</th>\n",
              "      <th>longitude</th>\n",
              "    </tr>\n",
              "  </thead>\n",
              "  <tbody>\n",
              "    <tr>\n",
              "      <th>0</th>\n",
              "      <td>2020-05-23 00:21:14</td>\n",
              "      <td>Para voltar tudo ao normal, você precisa fazer...</td>\n",
              "      <td>0</td>\n",
              "      <td>pt</td>\n",
              "      <td>Rio das Ostras</td>\n",
              "      <td>Brazil</td>\n",
              "      <td>BR</td>\n",
              "      <td>-41.937900</td>\n",
              "      <td>-22.522600</td>\n",
              "    </tr>\n",
              "    <tr>\n",
              "      <th>1</th>\n",
              "      <td>2020-03-22 22:57:51</td>\n",
              "      <td>14.245 – O que é a hidroxicloroquina? https://...</td>\n",
              "      <td>0</td>\n",
              "      <td>pt</td>\n",
              "      <td>Sao Paulo</td>\n",
              "      <td>Brazil</td>\n",
              "      <td>BR</td>\n",
              "      <td>-46.674739</td>\n",
              "      <td>-23.606067</td>\n",
              "    </tr>\n",
              "    <tr>\n",
              "      <th>3</th>\n",
              "      <td>2020-05-25 20:45:43</td>\n",
              "      <td>COVID-19 |  Hospital municipal Tide Setúbal, n...</td>\n",
              "      <td>0</td>\n",
              "      <td>pt</td>\n",
              "      <td>Sao Paulo</td>\n",
              "      <td>Brazil</td>\n",
              "      <td>BR</td>\n",
              "      <td>-46.633300</td>\n",
              "      <td>-23.550000</td>\n",
              "    </tr>\n",
              "    <tr>\n",
              "      <th>4</th>\n",
              "      <td>2020-04-15 10:34:39</td>\n",
              "      <td>#cenasdocotidiano #santos #distanciamentosocia...</td>\n",
              "      <td>0</td>\n",
              "      <td>pt</td>\n",
              "      <td>Santos</td>\n",
              "      <td>Brazil</td>\n",
              "      <td>BR</td>\n",
              "      <td>-46.293700</td>\n",
              "      <td>-23.975947</td>\n",
              "    </tr>\n",
              "    <tr>\n",
              "      <th>7</th>\n",
              "      <td>2020-03-22 19:12:37</td>\n",
              "      <td>Memórias do cárcere. Hoje deu até pra treinar ...</td>\n",
              "      <td>0</td>\n",
              "      <td>pt</td>\n",
              "      <td>Rio de Janeiro</td>\n",
              "      <td>Brazil</td>\n",
              "      <td>BR</td>\n",
              "      <td>-43.273900</td>\n",
              "      <td>-22.961900</td>\n",
              "    </tr>\n",
              "    <tr>\n",
              "      <th>...</th>\n",
              "      <td>...</td>\n",
              "      <td>...</td>\n",
              "      <td>...</td>\n",
              "      <td>...</td>\n",
              "      <td>...</td>\n",
              "      <td>...</td>\n",
              "      <td>...</td>\n",
              "      <td>...</td>\n",
              "      <td>...</td>\n",
              "    </tr>\n",
              "    <tr>\n",
              "      <th>493</th>\n",
              "      <td>2020-04-08 23:40:59</td>\n",
              "      <td>A Lei 13.987/20 garante a distribuição dos ali...</td>\n",
              "      <td>0</td>\n",
              "      <td>pt</td>\n",
              "      <td>Medianeira</td>\n",
              "      <td>Brazil</td>\n",
              "      <td>BR</td>\n",
              "      <td>-54.104104</td>\n",
              "      <td>-25.297434</td>\n",
              "    </tr>\n",
              "    <tr>\n",
              "      <th>494</th>\n",
              "      <td>2020-04-14 12:06:38</td>\n",
              "      <td>A 2ª Vara de Família e Sucessões de Jacareí, e...</td>\n",
              "      <td>0</td>\n",
              "      <td>pt</td>\n",
              "      <td>Sao Paulo</td>\n",
              "      <td>Brazil</td>\n",
              "      <td>BR</td>\n",
              "      <td>-46.638670</td>\n",
              "      <td>-23.540780</td>\n",
              "    </tr>\n",
              "    <tr>\n",
              "      <th>495</th>\n",
              "      <td>2020-04-07 16:14:13</td>\n",
              "      <td>O isolamento social também serve para mostrar ...</td>\n",
              "      <td>1</td>\n",
              "      <td>pt</td>\n",
              "      <td>Rio Branco</td>\n",
              "      <td>Brazil</td>\n",
              "      <td>BR</td>\n",
              "      <td>-67.859657</td>\n",
              "      <td>-9.932246</td>\n",
              "    </tr>\n",
              "    <tr>\n",
              "      <th>496</th>\n",
              "      <td>2020-03-26 18:02:28</td>\n",
              "      <td>Enquanto o mundo está atento ao covid 19 é o B...</td>\n",
              "      <td>0</td>\n",
              "      <td>pt</td>\n",
              "      <td>Rio de Janeiro</td>\n",
              "      <td>Brazil</td>\n",
              "      <td>BR</td>\n",
              "      <td>-43.358100</td>\n",
              "      <td>-22.942800</td>\n",
              "    </tr>\n",
              "    <tr>\n",
              "      <th>498</th>\n",
              "      <td>2020-03-03 21:27:11</td>\n",
              "      <td>Um vira-lata sem Coronavirus #joeviralata #dog...</td>\n",
              "      <td>0</td>\n",
              "      <td>pt</td>\n",
              "      <td>Sao Paulo</td>\n",
              "      <td>Brazil</td>\n",
              "      <td>BR</td>\n",
              "      <td>-46.633300</td>\n",
              "      <td>-23.550000</td>\n",
              "    </tr>\n",
              "  </tbody>\n",
              "</table>\n",
              "<p>392 rows × 9 columns</p>\n",
              "</div>"
            ],
            "text/plain": [
              "                    data  ...  longitude\n",
              "0    2020-05-23 00:21:14  ... -22.522600\n",
              "1    2020-03-22 22:57:51  ... -23.606067\n",
              "3    2020-05-25 20:45:43  ... -23.550000\n",
              "4    2020-04-15 10:34:39  ... -23.975947\n",
              "7    2020-03-22 19:12:37  ... -22.961900\n",
              "..                   ...  ...        ...\n",
              "493  2020-04-08 23:40:59  ... -25.297434\n",
              "494  2020-04-14 12:06:38  ... -23.540780\n",
              "495  2020-04-07 16:14:13  ...  -9.932246\n",
              "496  2020-03-26 18:02:28  ... -22.942800\n",
              "498  2020-03-03 21:27:11  ... -23.550000\n",
              "\n",
              "[392 rows x 9 columns]"
            ]
          },
          "metadata": {
            "tags": []
          },
          "execution_count": 60
        }
      ]
    },
    {
      "cell_type": "markdown",
      "metadata": {
        "id": "ji2GuZoGf1cm"
      },
      "source": [
        "# Funções de Sumário (*Summary*)"
      ]
    },
    {
      "cell_type": "markdown",
      "metadata": {
        "id": "qaPpix8wlp3-"
      },
      "source": [
        "### `describe()` é a função que apresenta um conjunto de estatísticas sobre um determinado campo (coluna)."
      ]
    },
    {
      "cell_type": "markdown",
      "metadata": {
        "id": "0IwMTUqDl0E6"
      },
      "source": [
        "Exemplo 1:"
      ]
    },
    {
      "cell_type": "code",
      "metadata": {
        "id": "S4Ts99jHgOnw",
        "outputId": "d0cb7035-3623-4263-fd52-47989196916e",
        "colab": {
          "base_uri": "https://localhost:8080/",
          "height": 170
        }
      },
      "source": [
        "dados.retweet.describe()"
      ],
      "execution_count": 61,
      "outputs": [
        {
          "output_type": "execute_result",
          "data": {
            "text/plain": [
              "count    500.000000\n",
              "mean       0.172000\n",
              "std        0.508855\n",
              "min        0.000000\n",
              "25%        0.000000\n",
              "50%        0.000000\n",
              "75%        0.000000\n",
              "max        4.000000\n",
              "Name: retweet, dtype: float64"
            ]
          },
          "metadata": {
            "tags": []
          },
          "execution_count": 61
        }
      ]
    },
    {
      "cell_type": "markdown",
      "metadata": {
        "id": "2CY_rDCGhLHt"
      },
      "source": [
        "### A função `describe()` ainda pode ser utilizada para campos não numéricos\n"
      ]
    },
    {
      "cell_type": "markdown",
      "metadata": {
        "id": "K1_g9SRwl-Nt"
      },
      "source": [
        "Exemplo 1:"
      ]
    },
    {
      "cell_type": "code",
      "metadata": {
        "id": "YQS3j1NOhUPI",
        "outputId": "2d26f912-0c96-41b9-f928-4288df052ff1",
        "colab": {
          "base_uri": "https://localhost:8080/",
          "height": 102
        }
      },
      "source": [
        "dados.sigla.describe()"
      ],
      "execution_count": 62,
      "outputs": [
        {
          "output_type": "execute_result",
          "data": {
            "text/plain": [
              "count     499\n",
              "unique     21\n",
              "top        BR\n",
              "freq      392\n",
              "Name: sigla, dtype: object"
            ]
          },
          "metadata": {
            "tags": []
          },
          "execution_count": 62
        }
      ]
    },
    {
      "cell_type": "markdown",
      "metadata": {
        "id": "wzb29OA9l_-N"
      },
      "source": [
        "Exemplo 2:"
      ]
    },
    {
      "cell_type": "code",
      "metadata": {
        "id": "Kw9CurPOhkW1",
        "outputId": "41d6a47d-7275-4408-80b8-6b70e38b8360",
        "colab": {
          "base_uri": "https://localhost:8080/",
          "height": 102
        }
      },
      "source": [
        "dados.data.describe()"
      ],
      "execution_count": 63,
      "outputs": [
        {
          "output_type": "execute_result",
          "data": {
            "text/plain": [
              "count                     500\n",
              "unique                    500\n",
              "top       2020-05-26 20:45:57\n",
              "freq                        1\n",
              "Name: data, dtype: object"
            ]
          },
          "metadata": {
            "tags": []
          },
          "execution_count": 63
        }
      ]
    },
    {
      "cell_type": "markdown",
      "metadata": {
        "id": "_YVKPBBJh6ja"
      },
      "source": [
        "### É possível ainda usar uma função de estatística específica para um determinado campo"
      ]
    },
    {
      "cell_type": "code",
      "metadata": {
        "id": "Xl6aUlP5hlXF",
        "outputId": "0f00d374-03a5-439c-95a1-974a03c3c328",
        "colab": {
          "base_uri": "https://localhost:8080/",
          "height": 34
        }
      },
      "source": [
        "dados.retweet.mean()"
      ],
      "execution_count": 67,
      "outputs": [
        {
          "output_type": "execute_result",
          "data": {
            "text/plain": [
              "0.172"
            ]
          },
          "metadata": {
            "tags": []
          },
          "execution_count": 67
        }
      ]
    },
    {
      "cell_type": "markdown",
      "metadata": {
        "id": "Vpm0TGYXixXW"
      },
      "source": [
        "### A função `unique()` apresenta os valores únicos"
      ]
    },
    {
      "cell_type": "code",
      "metadata": {
        "id": "w8nEf0sOi4kD",
        "outputId": "56958eff-e5d9-47dd-9dc3-e8fb8bdee664",
        "colab": {
          "base_uri": "https://localhost:8080/",
          "height": 68
        }
      },
      "source": [
        "dados.sigla.unique()"
      ],
      "execution_count": 68,
      "outputs": [
        {
          "output_type": "execute_result",
          "data": {
            "text/plain": [
              "array(['BR', 'PT', 'VA', 'CA', 'US', 'ID', 'ES', 'AU', 'MX', 'NL', 'CH',\n",
              "       'NZ', 'CW', 'IT', 'IN', 'DO', 'EC', 'CN', nan, 'FR', 'MZ', 'GB'],\n",
              "      dtype=object)"
            ]
          },
          "metadata": {
            "tags": []
          },
          "execution_count": 68
        }
      ]
    },
    {
      "cell_type": "markdown",
      "metadata": {
        "id": "f5MtjoklmFH-"
      },
      "source": [
        "Exemplo:"
      ]
    },
    {
      "cell_type": "code",
      "metadata": {
        "id": "F_WjSZ22jNnR",
        "outputId": "9da0c0a3-4ae7-43fa-ac7d-fc43bb5a5a83",
        "colab": {
          "base_uri": "https://localhost:8080/",
          "height": 391
        }
      },
      "source": [
        "dados.sigla.value_counts()"
      ],
      "execution_count": 69,
      "outputs": [
        {
          "output_type": "execute_result",
          "data": {
            "text/plain": [
              "BR    392\n",
              "PT     67\n",
              "US     11\n",
              "CA      6\n",
              "ES      3\n",
              "NZ      2\n",
              "FR      2\n",
              "AU      2\n",
              "IT      2\n",
              "MZ      1\n",
              "GB      1\n",
              "CN      1\n",
              "VA      1\n",
              "EC      1\n",
              "CH      1\n",
              "NL      1\n",
              "IN      1\n",
              "DO      1\n",
              "ID      1\n",
              "CW      1\n",
              "MX      1\n",
              "Name: sigla, dtype: int64"
            ]
          },
          "metadata": {
            "tags": []
          },
          "execution_count": 69
        }
      ]
    },
    {
      "cell_type": "markdown",
      "metadata": {
        "id": "uG15rtV5mHuC"
      },
      "source": [
        "#Agrupamento de dados"
      ]
    },
    {
      "cell_type": "markdown",
      "metadata": {
        "id": "q6bK-4cqmfjJ"
      },
      "source": [
        "### Função `groupby()`"
      ]
    },
    {
      "cell_type": "markdown",
      "metadata": {
        "id": "vS8o9GpgmJHV"
      },
      "source": [
        "Exemplo 1:"
      ]
    },
    {
      "cell_type": "code",
      "metadata": {
        "id": "X2AiETx1mmum",
        "outputId": "4a986af0-9163-4dd0-f777-cce0af95b3f8",
        "colab": {
          "base_uri": "https://localhost:8080/",
          "height": 34
        }
      },
      "source": [
        "dados.groupby('sigla')"
      ],
      "execution_count": 70,
      "outputs": [
        {
          "output_type": "execute_result",
          "data": {
            "text/plain": [
              "<pandas.core.groupby.generic.DataFrameGroupBy object at 0x7f27bf59dbe0>"
            ]
          },
          "metadata": {
            "tags": []
          },
          "execution_count": 70
        }
      ]
    },
    {
      "cell_type": "markdown",
      "metadata": {
        "id": "UjyN85d2mMUy"
      },
      "source": [
        "Exemplo 2:"
      ]
    },
    {
      "cell_type": "code",
      "metadata": {
        "id": "q5djlcgynliS",
        "outputId": "d91b2294-2b1c-439e-b683-980b576f439e",
        "colab": {
          "base_uri": "https://localhost:8080/",
          "height": 34
        }
      },
      "source": [
        "dados.groupby('sigla').sigla"
      ],
      "execution_count": 71,
      "outputs": [
        {
          "output_type": "execute_result",
          "data": {
            "text/plain": [
              "<pandas.core.groupby.generic.SeriesGroupBy object at 0x7f27bf59ddd8>"
            ]
          },
          "metadata": {
            "tags": []
          },
          "execution_count": 71
        }
      ]
    },
    {
      "cell_type": "markdown",
      "metadata": {
        "id": "pjL0yM8emOLG"
      },
      "source": [
        "Exemplo 3:"
      ]
    },
    {
      "cell_type": "code",
      "metadata": {
        "id": "7_uiLKFtm69H",
        "outputId": "a7ede066-1e6a-4758-ffa4-ba7b83ddb33c",
        "colab": {
          "base_uri": "https://localhost:8080/",
          "height": 408
        }
      },
      "source": [
        "dados.groupby('sigla').sigla.count()"
      ],
      "execution_count": 72,
      "outputs": [
        {
          "output_type": "execute_result",
          "data": {
            "text/plain": [
              "sigla\n",
              "AU      2\n",
              "BR    392\n",
              "CA      6\n",
              "CH      1\n",
              "CN      1\n",
              "CW      1\n",
              "DO      1\n",
              "EC      1\n",
              "ES      3\n",
              "FR      2\n",
              "GB      1\n",
              "ID      1\n",
              "IN      1\n",
              "IT      2\n",
              "MX      1\n",
              "MZ      1\n",
              "NL      1\n",
              "NZ      2\n",
              "PT     67\n",
              "US     11\n",
              "VA      1\n",
              "Name: sigla, dtype: int64"
            ]
          },
          "metadata": {
            "tags": []
          },
          "execution_count": 72
        }
      ]
    },
    {
      "cell_type": "markdown",
      "metadata": {
        "id": "ZIeDhCHRn842"
      },
      "source": [
        "### A função `groupby` pode ainda ser usada para exibir outro campo"
      ]
    },
    {
      "cell_type": "code",
      "metadata": {
        "id": "Mjmh4neLoDD9",
        "outputId": "264cf4d8-20a6-4c81-f944-a8533ce97394",
        "colab": {
          "base_uri": "https://localhost:8080/",
          "height": 408
        }
      },
      "source": [
        "dados.groupby('sigla').retweet.max()"
      ],
      "execution_count": 74,
      "outputs": [
        {
          "output_type": "execute_result",
          "data": {
            "text/plain": [
              "sigla\n",
              "AU    1\n",
              "BR    3\n",
              "CA    2\n",
              "CH    0\n",
              "CN    0\n",
              "CW    0\n",
              "DO    0\n",
              "EC    0\n",
              "ES    0\n",
              "FR    0\n",
              "GB    1\n",
              "ID    0\n",
              "IN    0\n",
              "IT    0\n",
              "MX    0\n",
              "MZ    0\n",
              "NL    0\n",
              "NZ    0\n",
              "PT    4\n",
              "US    2\n",
              "VA    0\n",
              "Name: retweet, dtype: int64"
            ]
          },
          "metadata": {
            "tags": []
          },
          "execution_count": 74
        }
      ]
    },
    {
      "cell_type": "markdown",
      "metadata": {
        "id": "C5W7iDbFqBjo"
      },
      "source": [
        "#Ordenação de dados"
      ]
    },
    {
      "cell_type": "markdown",
      "metadata": {
        "id": "vPtAgJqBqcDM"
      },
      "source": [
        "### A função `sort_values()` pode ser usada para ordenar os valores por um determinado campo"
      ]
    },
    {
      "cell_type": "code",
      "metadata": {
        "id": "-5JU3U2AqRGF",
        "outputId": "dc98cd7d-a5d0-4c71-be0a-75304a75e1f3",
        "colab": {
          "base_uri": "https://localhost:8080/",
          "height": 419
        }
      },
      "source": [
        "dados.sort_values(by='pais')"
      ],
      "execution_count": 79,
      "outputs": [
        {
          "output_type": "execute_result",
          "data": {
            "text/html": [
              "<div>\n",
              "<style scoped>\n",
              "    .dataframe tbody tr th:only-of-type {\n",
              "        vertical-align: middle;\n",
              "    }\n",
              "\n",
              "    .dataframe tbody tr th {\n",
              "        vertical-align: top;\n",
              "    }\n",
              "\n",
              "    .dataframe thead th {\n",
              "        text-align: right;\n",
              "    }\n",
              "</style>\n",
              "<table border=\"1\" class=\"dataframe\">\n",
              "  <thead>\n",
              "    <tr style=\"text-align: right;\">\n",
              "      <th></th>\n",
              "      <th>data</th>\n",
              "      <th>texto</th>\n",
              "      <th>retweet</th>\n",
              "      <th>idioma</th>\n",
              "      <th>lugar</th>\n",
              "      <th>pais</th>\n",
              "      <th>sigla</th>\n",
              "      <th>latitude</th>\n",
              "      <th>longitude</th>\n",
              "    </tr>\n",
              "  </thead>\n",
              "  <tbody>\n",
              "    <tr>\n",
              "      <th>86</th>\n",
              "      <td>2020-03-19 20:45:14</td>\n",
              "      <td>As pesquisas não param! 💻 A equipe do Lab404 s...</td>\n",
              "      <td>1</td>\n",
              "      <td>pt</td>\n",
              "      <td>Melbourne</td>\n",
              "      <td>Australia</td>\n",
              "      <td>AU</td>\n",
              "      <td>144.960154</td>\n",
              "      <td>-37.818769</td>\n",
              "    </tr>\n",
              "    <tr>\n",
              "      <th>354</th>\n",
              "      <td>2020-02-21 10:34:40</td>\n",
              "      <td>Australia’s first dedicated e-sports bar @ GG ...</td>\n",
              "      <td>0</td>\n",
              "      <td>en</td>\n",
              "      <td>Melbourne</td>\n",
              "      <td>Australia</td>\n",
              "      <td>AU</td>\n",
              "      <td>144.961030</td>\n",
              "      <td>-37.816360</td>\n",
              "    </tr>\n",
              "    <tr>\n",
              "      <th>0</th>\n",
              "      <td>2020-05-23 00:21:14</td>\n",
              "      <td>Para voltar tudo ao normal, você precisa fazer...</td>\n",
              "      <td>0</td>\n",
              "      <td>pt</td>\n",
              "      <td>Rio das Ostras</td>\n",
              "      <td>Brazil</td>\n",
              "      <td>BR</td>\n",
              "      <td>-41.937900</td>\n",
              "      <td>-22.522600</td>\n",
              "    </tr>\n",
              "    <tr>\n",
              "      <th>321</th>\n",
              "      <td>2020-05-31 12:24:15</td>\n",
              "      <td>Sair de casa só naquele estilo! 😎😷😅 #mascara #...</td>\n",
              "      <td>0</td>\n",
              "      <td>pt</td>\n",
              "      <td>Rio Claro</td>\n",
              "      <td>Brazil</td>\n",
              "      <td>BR</td>\n",
              "      <td>-47.550000</td>\n",
              "      <td>-22.400000</td>\n",
              "    </tr>\n",
              "    <tr>\n",
              "      <th>320</th>\n",
              "      <td>2020-04-03 13:24:12</td>\n",
              "      <td>Informação é o melhor remédio contra o Coronav...</td>\n",
              "      <td>0</td>\n",
              "      <td>pt</td>\n",
              "      <td>Londrina</td>\n",
              "      <td>Brazil</td>\n",
              "      <td>BR</td>\n",
              "      <td>-51.150000</td>\n",
              "      <td>-23.300000</td>\n",
              "    </tr>\n",
              "    <tr>\n",
              "      <th>...</th>\n",
              "      <td>...</td>\n",
              "      <td>...</td>\n",
              "      <td>...</td>\n",
              "      <td>...</td>\n",
              "      <td>...</td>\n",
              "      <td>...</td>\n",
              "      <td>...</td>\n",
              "      <td>...</td>\n",
              "      <td>...</td>\n",
              "    </tr>\n",
              "    <tr>\n",
              "      <th>391</th>\n",
              "      <td>2020-03-22 23:18:53</td>\n",
              "      <td>#protectallworkers #workersfirst #stayathome #...</td>\n",
              "      <td>0</td>\n",
              "      <td>pt</td>\n",
              "      <td>Chicago</td>\n",
              "      <td>United States</td>\n",
              "      <td>US</td>\n",
              "      <td>-87.632496</td>\n",
              "      <td>41.883222</td>\n",
              "    </tr>\n",
              "    <tr>\n",
              "      <th>101</th>\n",
              "      <td>2020-03-03 00:43:28</td>\n",
              "      <td>A Intelprise alerta os folioes pos-carnavalesc...</td>\n",
              "      <td>0</td>\n",
              "      <td>pt</td>\n",
              "      <td>North Miami Beach</td>\n",
              "      <td>United States</td>\n",
              "      <td>US</td>\n",
              "      <td>-80.163740</td>\n",
              "      <td>25.946560</td>\n",
              "    </tr>\n",
              "    <tr>\n",
              "      <th>203</th>\n",
              "      <td>2020-03-22 17:41:58</td>\n",
              "      <td>#coronavirus #covid19 #covid_19 🦠 😷 #quarantin...</td>\n",
              "      <td>0</td>\n",
              "      <td>it</td>\n",
              "      <td>Montpelier</td>\n",
              "      <td>United States</td>\n",
              "      <td>US</td>\n",
              "      <td>-72.598119</td>\n",
              "      <td>44.152532</td>\n",
              "    </tr>\n",
              "    <tr>\n",
              "      <th>123</th>\n",
              "      <td>2020-03-27 23:23:18</td>\n",
              "      <td>A cidade de Nova York parece um campo de guerr...</td>\n",
              "      <td>1</td>\n",
              "      <td>pt</td>\n",
              "      <td>Manhattan</td>\n",
              "      <td>United States</td>\n",
              "      <td>US</td>\n",
              "      <td>-74.006400</td>\n",
              "      <td>40.714200</td>\n",
              "    </tr>\n",
              "    <tr>\n",
              "      <th>5</th>\n",
              "      <td>2020-03-27 22:59:12</td>\n",
              "      <td>O Papa Francisco rezando sozinho na imensa pra...</td>\n",
              "      <td>0</td>\n",
              "      <td>pt</td>\n",
              "      <td>Vatican City</td>\n",
              "      <td>Vatican City</td>\n",
              "      <td>VA</td>\n",
              "      <td>12.457018</td>\n",
              "      <td>41.902473</td>\n",
              "    </tr>\n",
              "  </tbody>\n",
              "</table>\n",
              "<p>500 rows × 9 columns</p>\n",
              "</div>"
            ],
            "text/plain": [
              "                    data  ...  longitude\n",
              "86   2020-03-19 20:45:14  ... -37.818769\n",
              "354  2020-02-21 10:34:40  ... -37.816360\n",
              "0    2020-05-23 00:21:14  ... -22.522600\n",
              "321  2020-05-31 12:24:15  ... -22.400000\n",
              "320  2020-04-03 13:24:12  ... -23.300000\n",
              "..                   ...  ...        ...\n",
              "391  2020-03-22 23:18:53  ...  41.883222\n",
              "101  2020-03-03 00:43:28  ...  25.946560\n",
              "203  2020-03-22 17:41:58  ...  44.152532\n",
              "123  2020-03-27 23:23:18  ...  40.714200\n",
              "5    2020-03-27 22:59:12  ...  41.902473\n",
              "\n",
              "[500 rows x 9 columns]"
            ]
          },
          "metadata": {
            "tags": []
          },
          "execution_count": 79
        }
      ]
    },
    {
      "cell_type": "markdown",
      "metadata": {
        "id": "_iXAv3Llq2Vu"
      },
      "source": [
        "### A ordenação padrão é de forma ascendente. Porém, é possível ordenar de maneira descendente"
      ]
    },
    {
      "cell_type": "code",
      "metadata": {
        "id": "yLa5mqqMrF__",
        "outputId": "579ec8b4-9b19-4afe-953d-539572fbc6cc",
        "colab": {
          "base_uri": "https://localhost:8080/",
          "height": 419
        }
      },
      "source": [
        "dados.sort_values(by='sigla', ascending=False)"
      ],
      "execution_count": 80,
      "outputs": [
        {
          "output_type": "execute_result",
          "data": {
            "text/html": [
              "<div>\n",
              "<style scoped>\n",
              "    .dataframe tbody tr th:only-of-type {\n",
              "        vertical-align: middle;\n",
              "    }\n",
              "\n",
              "    .dataframe tbody tr th {\n",
              "        vertical-align: top;\n",
              "    }\n",
              "\n",
              "    .dataframe thead th {\n",
              "        text-align: right;\n",
              "    }\n",
              "</style>\n",
              "<table border=\"1\" class=\"dataframe\">\n",
              "  <thead>\n",
              "    <tr style=\"text-align: right;\">\n",
              "      <th></th>\n",
              "      <th>data</th>\n",
              "      <th>texto</th>\n",
              "      <th>retweet</th>\n",
              "      <th>idioma</th>\n",
              "      <th>lugar</th>\n",
              "      <th>pais</th>\n",
              "      <th>sigla</th>\n",
              "      <th>latitude</th>\n",
              "      <th>longitude</th>\n",
              "    </tr>\n",
              "  </thead>\n",
              "  <tbody>\n",
              "    <tr>\n",
              "      <th>5</th>\n",
              "      <td>2020-03-27 22:59:12</td>\n",
              "      <td>O Papa Francisco rezando sozinho na imensa pra...</td>\n",
              "      <td>0</td>\n",
              "      <td>pt</td>\n",
              "      <td>Vatican City</td>\n",
              "      <td>Vatican City</td>\n",
              "      <td>VA</td>\n",
              "      <td>12.457018</td>\n",
              "      <td>41.902473</td>\n",
              "    </tr>\n",
              "    <tr>\n",
              "      <th>391</th>\n",
              "      <td>2020-03-22 23:18:53</td>\n",
              "      <td>#protectallworkers #workersfirst #stayathome #...</td>\n",
              "      <td>0</td>\n",
              "      <td>pt</td>\n",
              "      <td>Chicago</td>\n",
              "      <td>United States</td>\n",
              "      <td>US</td>\n",
              "      <td>-87.632496</td>\n",
              "      <td>41.883222</td>\n",
              "    </tr>\n",
              "    <tr>\n",
              "      <th>75</th>\n",
              "      <td>2020-05-22 21:44:49</td>\n",
              "      <td>A cidade de Nova York, nos Estados Unidos, vai...</td>\n",
              "      <td>0</td>\n",
              "      <td>pt</td>\n",
              "      <td>Los Angeles</td>\n",
              "      <td>United States</td>\n",
              "      <td>US</td>\n",
              "      <td>-118.244500</td>\n",
              "      <td>34.056400</td>\n",
              "    </tr>\n",
              "    <tr>\n",
              "      <th>101</th>\n",
              "      <td>2020-03-03 00:43:28</td>\n",
              "      <td>A Intelprise alerta os folioes pos-carnavalesc...</td>\n",
              "      <td>0</td>\n",
              "      <td>pt</td>\n",
              "      <td>North Miami Beach</td>\n",
              "      <td>United States</td>\n",
              "      <td>US</td>\n",
              "      <td>-80.163740</td>\n",
              "      <td>25.946560</td>\n",
              "    </tr>\n",
              "    <tr>\n",
              "      <th>72</th>\n",
              "      <td>2020-03-19 20:58:11</td>\n",
              "      <td>🥴🤣😭☠️ #corona #covid_19 #socialdistancing #nof...</td>\n",
              "      <td>0</td>\n",
              "      <td>pt</td>\n",
              "      <td>Colorado Springs</td>\n",
              "      <td>United States</td>\n",
              "      <td>US</td>\n",
              "      <td>-104.820700</td>\n",
              "      <td>38.830100</td>\n",
              "    </tr>\n",
              "    <tr>\n",
              "      <th>...</th>\n",
              "      <td>...</td>\n",
              "      <td>...</td>\n",
              "      <td>...</td>\n",
              "      <td>...</td>\n",
              "      <td>...</td>\n",
              "      <td>...</td>\n",
              "      <td>...</td>\n",
              "      <td>...</td>\n",
              "      <td>...</td>\n",
              "    </tr>\n",
              "    <tr>\n",
              "      <th>186</th>\n",
              "      <td>2020-05-19 19:09:57</td>\n",
              "      <td>Nesse tempo de isolamento social,não se isole ...</td>\n",
              "      <td>0</td>\n",
              "      <td>pt</td>\n",
              "      <td>Rio de Janeiro</td>\n",
              "      <td>Brazil</td>\n",
              "      <td>BR</td>\n",
              "      <td>-43.373770</td>\n",
              "      <td>-22.931997</td>\n",
              "    </tr>\n",
              "    <tr>\n",
              "      <th>249</th>\n",
              "      <td>2020-04-06 18:41:09</td>\n",
              "      <td>Só queria estar despreocupado com meu amigo En...</td>\n",
              "      <td>0</td>\n",
              "      <td>pt</td>\n",
              "      <td>Foz do Iguaçu</td>\n",
              "      <td>Brazil</td>\n",
              "      <td>BR</td>\n",
              "      <td>-54.586814</td>\n",
              "      <td>-25.413745</td>\n",
              "    </tr>\n",
              "    <tr>\n",
              "      <th>354</th>\n",
              "      <td>2020-02-21 10:34:40</td>\n",
              "      <td>Australia’s first dedicated e-sports bar @ GG ...</td>\n",
              "      <td>0</td>\n",
              "      <td>en</td>\n",
              "      <td>Melbourne</td>\n",
              "      <td>Australia</td>\n",
              "      <td>AU</td>\n",
              "      <td>144.961030</td>\n",
              "      <td>-37.816360</td>\n",
              "    </tr>\n",
              "    <tr>\n",
              "      <th>86</th>\n",
              "      <td>2020-03-19 20:45:14</td>\n",
              "      <td>As pesquisas não param! 💻 A equipe do Lab404 s...</td>\n",
              "      <td>1</td>\n",
              "      <td>pt</td>\n",
              "      <td>Melbourne</td>\n",
              "      <td>Australia</td>\n",
              "      <td>AU</td>\n",
              "      <td>144.960154</td>\n",
              "      <td>-37.818769</td>\n",
              "    </tr>\n",
              "    <tr>\n",
              "      <th>399</th>\n",
              "      <td>2020-03-19 12:30:16</td>\n",
              "      <td>Meu #tbt de isolamento social 🏕🌵 #namibia #afr...</td>\n",
              "      <td>0</td>\n",
              "      <td>pt</td>\n",
              "      <td>Namibia</td>\n",
              "      <td>Namibia</td>\n",
              "      <td>NaN</td>\n",
              "      <td>17.000000</td>\n",
              "      <td>-23.000000</td>\n",
              "    </tr>\n",
              "  </tbody>\n",
              "</table>\n",
              "<p>500 rows × 9 columns</p>\n",
              "</div>"
            ],
            "text/plain": [
              "                    data  ...  longitude\n",
              "5    2020-03-27 22:59:12  ...  41.902473\n",
              "391  2020-03-22 23:18:53  ...  41.883222\n",
              "75   2020-05-22 21:44:49  ...  34.056400\n",
              "101  2020-03-03 00:43:28  ...  25.946560\n",
              "72   2020-03-19 20:58:11  ...  38.830100\n",
              "..                   ...  ...        ...\n",
              "186  2020-05-19 19:09:57  ... -22.931997\n",
              "249  2020-04-06 18:41:09  ... -25.413745\n",
              "354  2020-02-21 10:34:40  ... -37.816360\n",
              "86   2020-03-19 20:45:14  ... -37.818769\n",
              "399  2020-03-19 12:30:16  ... -23.000000\n",
              "\n",
              "[500 rows x 9 columns]"
            ]
          },
          "metadata": {
            "tags": []
          },
          "execution_count": 80
        }
      ]
    },
    {
      "cell_type": "markdown",
      "metadata": {
        "id": "C2aXoZKOrbhz"
      },
      "source": [
        "### A ordenação por índices é feita através da função `sort_index()`"
      ]
    },
    {
      "cell_type": "code",
      "metadata": {
        "id": "404_fU4hrlz9",
        "outputId": "3d0ec7c3-fb02-4b4f-d446-24ce62b38f93",
        "colab": {
          "base_uri": "https://localhost:8080/",
          "height": 419
        }
      },
      "source": [
        "dados.sort_index()"
      ],
      "execution_count": 81,
      "outputs": [
        {
          "output_type": "execute_result",
          "data": {
            "text/html": [
              "<div>\n",
              "<style scoped>\n",
              "    .dataframe tbody tr th:only-of-type {\n",
              "        vertical-align: middle;\n",
              "    }\n",
              "\n",
              "    .dataframe tbody tr th {\n",
              "        vertical-align: top;\n",
              "    }\n",
              "\n",
              "    .dataframe thead th {\n",
              "        text-align: right;\n",
              "    }\n",
              "</style>\n",
              "<table border=\"1\" class=\"dataframe\">\n",
              "  <thead>\n",
              "    <tr style=\"text-align: right;\">\n",
              "      <th></th>\n",
              "      <th>data</th>\n",
              "      <th>texto</th>\n",
              "      <th>retweet</th>\n",
              "      <th>idioma</th>\n",
              "      <th>lugar</th>\n",
              "      <th>pais</th>\n",
              "      <th>sigla</th>\n",
              "      <th>latitude</th>\n",
              "      <th>longitude</th>\n",
              "    </tr>\n",
              "  </thead>\n",
              "  <tbody>\n",
              "    <tr>\n",
              "      <th>0</th>\n",
              "      <td>2020-05-23 00:21:14</td>\n",
              "      <td>Para voltar tudo ao normal, você precisa fazer...</td>\n",
              "      <td>0</td>\n",
              "      <td>pt</td>\n",
              "      <td>Rio das Ostras</td>\n",
              "      <td>Brazil</td>\n",
              "      <td>BR</td>\n",
              "      <td>-41.937900</td>\n",
              "      <td>-22.522600</td>\n",
              "    </tr>\n",
              "    <tr>\n",
              "      <th>1</th>\n",
              "      <td>2020-03-22 22:57:51</td>\n",
              "      <td>14.245 – O que é a hidroxicloroquina? https://...</td>\n",
              "      <td>0</td>\n",
              "      <td>pt</td>\n",
              "      <td>Sao Paulo</td>\n",
              "      <td>Brazil</td>\n",
              "      <td>BR</td>\n",
              "      <td>-46.674739</td>\n",
              "      <td>-23.606067</td>\n",
              "    </tr>\n",
              "    <tr>\n",
              "      <th>2</th>\n",
              "      <td>2020-04-14 00:11:33</td>\n",
              "      <td>Quarta morte em Lar de Estarreja associada à C...</td>\n",
              "      <td>1</td>\n",
              "      <td>pt</td>\n",
              "      <td>Lisbon</td>\n",
              "      <td>Portugal</td>\n",
              "      <td>PT</td>\n",
              "      <td>-9.099043</td>\n",
              "      <td>38.747518</td>\n",
              "    </tr>\n",
              "    <tr>\n",
              "      <th>3</th>\n",
              "      <td>2020-05-25 20:45:43</td>\n",
              "      <td>COVID-19 |  Hospital municipal Tide Setúbal, n...</td>\n",
              "      <td>0</td>\n",
              "      <td>pt</td>\n",
              "      <td>Sao Paulo</td>\n",
              "      <td>Brazil</td>\n",
              "      <td>BR</td>\n",
              "      <td>-46.633300</td>\n",
              "      <td>-23.550000</td>\n",
              "    </tr>\n",
              "    <tr>\n",
              "      <th>4</th>\n",
              "      <td>2020-04-15 10:34:39</td>\n",
              "      <td>#cenasdocotidiano #santos #distanciamentosocia...</td>\n",
              "      <td>0</td>\n",
              "      <td>pt</td>\n",
              "      <td>Santos</td>\n",
              "      <td>Brazil</td>\n",
              "      <td>BR</td>\n",
              "      <td>-46.293700</td>\n",
              "      <td>-23.975947</td>\n",
              "    </tr>\n",
              "    <tr>\n",
              "      <th>...</th>\n",
              "      <td>...</td>\n",
              "      <td>...</td>\n",
              "      <td>...</td>\n",
              "      <td>...</td>\n",
              "      <td>...</td>\n",
              "      <td>...</td>\n",
              "      <td>...</td>\n",
              "      <td>...</td>\n",
              "      <td>...</td>\n",
              "    </tr>\n",
              "    <tr>\n",
              "      <th>495</th>\n",
              "      <td>2020-04-07 16:14:13</td>\n",
              "      <td>O isolamento social também serve para mostrar ...</td>\n",
              "      <td>1</td>\n",
              "      <td>pt</td>\n",
              "      <td>Rio Branco</td>\n",
              "      <td>Brazil</td>\n",
              "      <td>BR</td>\n",
              "      <td>-67.859657</td>\n",
              "      <td>-9.932246</td>\n",
              "    </tr>\n",
              "    <tr>\n",
              "      <th>496</th>\n",
              "      <td>2020-03-26 18:02:28</td>\n",
              "      <td>Enquanto o mundo está atento ao covid 19 é o B...</td>\n",
              "      <td>0</td>\n",
              "      <td>pt</td>\n",
              "      <td>Rio de Janeiro</td>\n",
              "      <td>Brazil</td>\n",
              "      <td>BR</td>\n",
              "      <td>-43.358100</td>\n",
              "      <td>-22.942800</td>\n",
              "    </tr>\n",
              "    <tr>\n",
              "      <th>497</th>\n",
              "      <td>2020-03-18 05:28:16</td>\n",
              "      <td>#covid_19 #stayhome @ Toronto, Ontario https:/...</td>\n",
              "      <td>0</td>\n",
              "      <td>pt</td>\n",
              "      <td>Toronto</td>\n",
              "      <td>Canada</td>\n",
              "      <td>CA</td>\n",
              "      <td>-79.387200</td>\n",
              "      <td>43.648000</td>\n",
              "    </tr>\n",
              "    <tr>\n",
              "      <th>498</th>\n",
              "      <td>2020-03-03 21:27:11</td>\n",
              "      <td>Um vira-lata sem Coronavirus #joeviralata #dog...</td>\n",
              "      <td>0</td>\n",
              "      <td>pt</td>\n",
              "      <td>Sao Paulo</td>\n",
              "      <td>Brazil</td>\n",
              "      <td>BR</td>\n",
              "      <td>-46.633300</td>\n",
              "      <td>-23.550000</td>\n",
              "    </tr>\n",
              "    <tr>\n",
              "      <th>499</th>\n",
              "      <td>2020-01-21 13:18:03</td>\n",
              "      <td>Portugal já está a preparar-se para responder ...</td>\n",
              "      <td>1</td>\n",
              "      <td>pt</td>\n",
              "      <td>Lisbon</td>\n",
              "      <td>Portugal</td>\n",
              "      <td>PT</td>\n",
              "      <td>-9.099043</td>\n",
              "      <td>38.747518</td>\n",
              "    </tr>\n",
              "  </tbody>\n",
              "</table>\n",
              "<p>500 rows × 9 columns</p>\n",
              "</div>"
            ],
            "text/plain": [
              "                    data  ...  longitude\n",
              "0    2020-05-23 00:21:14  ... -22.522600\n",
              "1    2020-03-22 22:57:51  ... -23.606067\n",
              "2    2020-04-14 00:11:33  ...  38.747518\n",
              "3    2020-05-25 20:45:43  ... -23.550000\n",
              "4    2020-04-15 10:34:39  ... -23.975947\n",
              "..                   ...  ...        ...\n",
              "495  2020-04-07 16:14:13  ...  -9.932246\n",
              "496  2020-03-26 18:02:28  ... -22.942800\n",
              "497  2020-03-18 05:28:16  ...  43.648000\n",
              "498  2020-03-03 21:27:11  ... -23.550000\n",
              "499  2020-01-21 13:18:03  ...  38.747518\n",
              "\n",
              "[500 rows x 9 columns]"
            ]
          },
          "metadata": {
            "tags": []
          },
          "execution_count": 81
        }
      ]
    },
    {
      "cell_type": "markdown",
      "metadata": {
        "id": "tYPDhhmjsC__"
      },
      "source": [
        "### A ordenação ainda pode ser feita por mais de um campo ao mesmo tempo"
      ]
    },
    {
      "cell_type": "code",
      "metadata": {
        "id": "0B-r00UesLpL",
        "outputId": "3a24f987-898b-4a81-c294-ceb3106bbdfe",
        "colab": {
          "base_uri": "https://localhost:8080/",
          "height": 419
        }
      },
      "source": [
        "dados.sort_values(by=['pais', 'lugar'])"
      ],
      "execution_count": 82,
      "outputs": [
        {
          "output_type": "execute_result",
          "data": {
            "text/html": [
              "<div>\n",
              "<style scoped>\n",
              "    .dataframe tbody tr th:only-of-type {\n",
              "        vertical-align: middle;\n",
              "    }\n",
              "\n",
              "    .dataframe tbody tr th {\n",
              "        vertical-align: top;\n",
              "    }\n",
              "\n",
              "    .dataframe thead th {\n",
              "        text-align: right;\n",
              "    }\n",
              "</style>\n",
              "<table border=\"1\" class=\"dataframe\">\n",
              "  <thead>\n",
              "    <tr style=\"text-align: right;\">\n",
              "      <th></th>\n",
              "      <th>data</th>\n",
              "      <th>texto</th>\n",
              "      <th>retweet</th>\n",
              "      <th>idioma</th>\n",
              "      <th>lugar</th>\n",
              "      <th>pais</th>\n",
              "      <th>sigla</th>\n",
              "      <th>latitude</th>\n",
              "      <th>longitude</th>\n",
              "    </tr>\n",
              "  </thead>\n",
              "  <tbody>\n",
              "    <tr>\n",
              "      <th>86</th>\n",
              "      <td>2020-03-19 20:45:14</td>\n",
              "      <td>As pesquisas não param! 💻 A equipe do Lab404 s...</td>\n",
              "      <td>1</td>\n",
              "      <td>pt</td>\n",
              "      <td>Melbourne</td>\n",
              "      <td>Australia</td>\n",
              "      <td>AU</td>\n",
              "      <td>144.960154</td>\n",
              "      <td>-37.818769</td>\n",
              "    </tr>\n",
              "    <tr>\n",
              "      <th>354</th>\n",
              "      <td>2020-02-21 10:34:40</td>\n",
              "      <td>Australia’s first dedicated e-sports bar @ GG ...</td>\n",
              "      <td>0</td>\n",
              "      <td>en</td>\n",
              "      <td>Melbourne</td>\n",
              "      <td>Australia</td>\n",
              "      <td>AU</td>\n",
              "      <td>144.961030</td>\n",
              "      <td>-37.816360</td>\n",
              "    </tr>\n",
              "    <tr>\n",
              "      <th>153</th>\n",
              "      <td>2020-04-09 21:28:32</td>\n",
              "      <td>FAÇA O SEU CONSÓRCIO, FINANCIAMENTO OU O SEU S...</td>\n",
              "      <td>0</td>\n",
              "      <td>pt</td>\n",
              "      <td>Abre Campo</td>\n",
              "      <td>Brazil</td>\n",
              "      <td>BR</td>\n",
              "      <td>-42.476260</td>\n",
              "      <td>-20.298590</td>\n",
              "    </tr>\n",
              "    <tr>\n",
              "      <th>353</th>\n",
              "      <td>2020-04-14 12:54:32</td>\n",
              "      <td>#covid #angradosreis #covid_19 #coronavirusbra...</td>\n",
              "      <td>0</td>\n",
              "      <td>pt</td>\n",
              "      <td>Angra dos Reis</td>\n",
              "      <td>Brazil</td>\n",
              "      <td>BR</td>\n",
              "      <td>-44.305500</td>\n",
              "      <td>-22.997500</td>\n",
              "    </tr>\n",
              "    <tr>\n",
              "      <th>390</th>\n",
              "      <td>2020-05-31 16:51:03</td>\n",
              "      <td>Existe vida mais barata , mas também existe vi...</td>\n",
              "      <td>0</td>\n",
              "      <td>pt</td>\n",
              "      <td>Angra dos Reis</td>\n",
              "      <td>Brazil</td>\n",
              "      <td>BR</td>\n",
              "      <td>-44.338708</td>\n",
              "      <td>-22.940978</td>\n",
              "    </tr>\n",
              "    <tr>\n",
              "      <th>...</th>\n",
              "      <td>...</td>\n",
              "      <td>...</td>\n",
              "      <td>...</td>\n",
              "      <td>...</td>\n",
              "      <td>...</td>\n",
              "      <td>...</td>\n",
              "      <td>...</td>\n",
              "      <td>...</td>\n",
              "      <td>...</td>\n",
              "    </tr>\n",
              "    <tr>\n",
              "      <th>55</th>\n",
              "      <td>2020-03-18 03:22:12</td>\n",
              "      <td>Distânciamento social pode salvar os avos, os ...</td>\n",
              "      <td>0</td>\n",
              "      <td>pt</td>\n",
              "      <td>Miami</td>\n",
              "      <td>United States</td>\n",
              "      <td>US</td>\n",
              "      <td>-80.192000</td>\n",
              "      <td>25.775200</td>\n",
              "    </tr>\n",
              "    <tr>\n",
              "      <th>203</th>\n",
              "      <td>2020-03-22 17:41:58</td>\n",
              "      <td>#coronavirus #covid19 #covid_19 🦠 😷 #quarantin...</td>\n",
              "      <td>0</td>\n",
              "      <td>it</td>\n",
              "      <td>Montpelier</td>\n",
              "      <td>United States</td>\n",
              "      <td>US</td>\n",
              "      <td>-72.598119</td>\n",
              "      <td>44.152532</td>\n",
              "    </tr>\n",
              "    <tr>\n",
              "      <th>101</th>\n",
              "      <td>2020-03-03 00:43:28</td>\n",
              "      <td>A Intelprise alerta os folioes pos-carnavalesc...</td>\n",
              "      <td>0</td>\n",
              "      <td>pt</td>\n",
              "      <td>North Miami Beach</td>\n",
              "      <td>United States</td>\n",
              "      <td>US</td>\n",
              "      <td>-80.163740</td>\n",
              "      <td>25.946560</td>\n",
              "    </tr>\n",
              "    <tr>\n",
              "      <th>71</th>\n",
              "      <td>2020-03-27 02:07:47</td>\n",
              "      <td>Nos vemos uma ou duas vezes por ano, quando dá...</td>\n",
              "      <td>0</td>\n",
              "      <td>pt</td>\n",
              "      <td>Scott Lake</td>\n",
              "      <td>United States</td>\n",
              "      <td>US</td>\n",
              "      <td>-80.237185</td>\n",
              "      <td>25.957486</td>\n",
              "    </tr>\n",
              "    <tr>\n",
              "      <th>5</th>\n",
              "      <td>2020-03-27 22:59:12</td>\n",
              "      <td>O Papa Francisco rezando sozinho na imensa pra...</td>\n",
              "      <td>0</td>\n",
              "      <td>pt</td>\n",
              "      <td>Vatican City</td>\n",
              "      <td>Vatican City</td>\n",
              "      <td>VA</td>\n",
              "      <td>12.457018</td>\n",
              "      <td>41.902473</td>\n",
              "    </tr>\n",
              "  </tbody>\n",
              "</table>\n",
              "<p>500 rows × 9 columns</p>\n",
              "</div>"
            ],
            "text/plain": [
              "                    data  ...  longitude\n",
              "86   2020-03-19 20:45:14  ... -37.818769\n",
              "354  2020-02-21 10:34:40  ... -37.816360\n",
              "153  2020-04-09 21:28:32  ... -20.298590\n",
              "353  2020-04-14 12:54:32  ... -22.997500\n",
              "390  2020-05-31 16:51:03  ... -22.940978\n",
              "..                   ...  ...        ...\n",
              "55   2020-03-18 03:22:12  ...  25.775200\n",
              "203  2020-03-22 17:41:58  ...  44.152532\n",
              "101  2020-03-03 00:43:28  ...  25.946560\n",
              "71   2020-03-27 02:07:47  ...  25.957486\n",
              "5    2020-03-27 22:59:12  ...  41.902473\n",
              "\n",
              "[500 rows x 9 columns]"
            ]
          },
          "metadata": {
            "tags": []
          },
          "execution_count": 82
        }
      ]
    },
    {
      "cell_type": "markdown",
      "metadata": {
        "id": "FuS22THQtT1Q"
      },
      "source": [
        "# Tipo de dados em `DataFrame` e `Series`"
      ]
    },
    {
      "cell_type": "markdown",
      "metadata": {
        "id": "TfQky6ajtmpo"
      },
      "source": [
        "### Para verificar o tipo de um dado em Python nós usamos o comando `type`"
      ]
    },
    {
      "cell_type": "code",
      "metadata": {
        "id": "cIn8rb3mty_B",
        "outputId": "b8db7ec9-fb5c-4f69-a183-91a9015552b9",
        "colab": {
          "base_uri": "https://localhost:8080/",
          "height": 34
        }
      },
      "source": [
        "type(dados)"
      ],
      "execution_count": 83,
      "outputs": [
        {
          "output_type": "execute_result",
          "data": {
            "text/plain": [
              "pandas.core.frame.DataFrame"
            ]
          },
          "metadata": {
            "tags": []
          },
          "execution_count": 83
        }
      ]
    },
    {
      "cell_type": "markdown",
      "metadata": {
        "id": "Vh9owK-1uBoT"
      },
      "source": [
        "### Para verificarmos o tipo de dados de uma coluna de um `DataFrame` ou `Series` em Python nós usamos o comando `dtype`"
      ]
    },
    {
      "cell_type": "code",
      "metadata": {
        "id": "8Vuyc5oVuDKQ",
        "outputId": "660ba4a2-ba75-4444-9c12-0522ca6f10c9",
        "colab": {
          "base_uri": "https://localhost:8080/",
          "height": 34
        }
      },
      "source": [
        "dados.retweet.dtype"
      ],
      "execution_count": 84,
      "outputs": [
        {
          "output_type": "execute_result",
          "data": {
            "text/plain": [
              "dtype('int64')"
            ]
          },
          "metadata": {
            "tags": []
          },
          "execution_count": 84
        }
      ]
    },
    {
      "cell_type": "code",
      "metadata": {
        "id": "rV66uwznuT-5",
        "outputId": "f39363ad-8b5f-4385-aea2-6fc2862855c9",
        "colab": {
          "base_uri": "https://localhost:8080/",
          "height": 34
        }
      },
      "source": [
        "dados.idioma.dtype"
      ],
      "execution_count": 85,
      "outputs": [
        {
          "output_type": "execute_result",
          "data": {
            "text/plain": [
              "dtype('O')"
            ]
          },
          "metadata": {
            "tags": []
          },
          "execution_count": 85
        }
      ]
    },
    {
      "cell_type": "markdown",
      "metadata": {
        "id": "BT0LCmhRuwpm"
      },
      "source": [
        "### Nós podemos ainda verificar o tipo de dados de todas as colunas de um `DataFrame`"
      ]
    },
    {
      "cell_type": "code",
      "metadata": {
        "id": "p7mEffTjue_q",
        "outputId": "94d3fa58-6498-487e-e07f-faef1c1a2060",
        "colab": {
          "base_uri": "https://localhost:8080/",
          "height": 187
        }
      },
      "source": [
        "dados.dtypes"
      ],
      "execution_count": 90,
      "outputs": [
        {
          "output_type": "execute_result",
          "data": {
            "text/plain": [
              "data          object\n",
              "texto         object\n",
              "retweet        int64\n",
              "idioma        object\n",
              "lugar         object\n",
              "pais          object\n",
              "sigla         object\n",
              "latitude     float64\n",
              "longitude    float64\n",
              "dtype: object"
            ]
          },
          "metadata": {
            "tags": []
          },
          "execution_count": 90
        }
      ]
    },
    {
      "cell_type": "markdown",
      "metadata": {
        "id": "t0g2uespwF-c"
      },
      "source": [
        "### É possível ainda converter o tipo de uma determinada coluna para outro tipo"
      ]
    },
    {
      "cell_type": "markdown",
      "metadata": {
        "id": "3WfnAWRNnOdW"
      },
      "source": [
        "Exemplo 1:"
      ]
    },
    {
      "cell_type": "code",
      "metadata": {
        "id": "d1gT9hKswGLe",
        "outputId": "ca6912f3-f871-448c-a7e3-ce71bf154afc",
        "colab": {
          "base_uri": "https://localhost:8080/",
          "height": 221
        }
      },
      "source": [
        "dados.retweet"
      ],
      "execution_count": 87,
      "outputs": [
        {
          "output_type": "execute_result",
          "data": {
            "text/plain": [
              "0      0\n",
              "1      0\n",
              "2      1\n",
              "3      0\n",
              "4      0\n",
              "      ..\n",
              "495    1\n",
              "496    0\n",
              "497    0\n",
              "498    0\n",
              "499    1\n",
              "Name: retweet, Length: 500, dtype: int64"
            ]
          },
          "metadata": {
            "tags": []
          },
          "execution_count": 87
        }
      ]
    },
    {
      "cell_type": "markdown",
      "metadata": {
        "id": "PN-AlkHynQJ9"
      },
      "source": [
        "Exemplo 2:"
      ]
    },
    {
      "cell_type": "code",
      "metadata": {
        "id": "bXjvwtsRwKhD",
        "outputId": "aa726fe0-47e6-44eb-a33f-e8dbdb1d5ad4",
        "colab": {
          "base_uri": "https://localhost:8080/",
          "height": 221
        }
      },
      "source": [
        "dados.retweet.astype('float64')"
      ],
      "execution_count": 88,
      "outputs": [
        {
          "output_type": "execute_result",
          "data": {
            "text/plain": [
              "0      0.0\n",
              "1      0.0\n",
              "2      1.0\n",
              "3      0.0\n",
              "4      0.0\n",
              "      ... \n",
              "495    1.0\n",
              "496    0.0\n",
              "497    0.0\n",
              "498    0.0\n",
              "499    1.0\n",
              "Name: retweet, Length: 500, dtype: float64"
            ]
          },
          "metadata": {
            "tags": []
          },
          "execution_count": 88
        }
      ]
    },
    {
      "cell_type": "markdown",
      "metadata": {
        "id": "kvCgVBURw7e3"
      },
      "source": [
        "### Seria possível converter uma coluna para qualquer outro tipo de dados?"
      ]
    },
    {
      "cell_type": "code",
      "metadata": {
        "id": "avknbHNawkuI",
        "outputId": "7533baa6-1fc6-4176-d7fd-45c87e0c3e76",
        "colab": {
          "base_uri": "https://localhost:8080/",
          "height": 306
        }
      },
      "source": [
        "dados.sigla.astype('float64')"
      ],
      "execution_count": 89,
      "outputs": [
        {
          "output_type": "error",
          "ename": "ValueError",
          "evalue": "ignored",
          "traceback": [
            "\u001b[0;31m---------------------------------------------------------------------------\u001b[0m",
            "\u001b[0;31mValueError\u001b[0m                                Traceback (most recent call last)",
            "\u001b[0;32m<ipython-input-89-ec41f8a3569e>\u001b[0m in \u001b[0;36m<module>\u001b[0;34m()\u001b[0m\n\u001b[0;32m----> 1\u001b[0;31m \u001b[0mdados\u001b[0m\u001b[0;34m.\u001b[0m\u001b[0msigla\u001b[0m\u001b[0;34m.\u001b[0m\u001b[0mastype\u001b[0m\u001b[0;34m(\u001b[0m\u001b[0;34m'float64'\u001b[0m\u001b[0;34m)\u001b[0m\u001b[0;34m\u001b[0m\u001b[0;34m\u001b[0m\u001b[0m\n\u001b[0m",
            "\u001b[0;32m/usr/local/lib/python3.6/dist-packages/pandas/core/generic.py\u001b[0m in \u001b[0;36mastype\u001b[0;34m(self, dtype, copy, errors)\u001b[0m\n\u001b[1;32m   5541\u001b[0m         \u001b[0;32melse\u001b[0m\u001b[0;34m:\u001b[0m\u001b[0;34m\u001b[0m\u001b[0;34m\u001b[0m\u001b[0m\n\u001b[1;32m   5542\u001b[0m             \u001b[0;31m# else, only a single dtype is given\u001b[0m\u001b[0;34m\u001b[0m\u001b[0;34m\u001b[0m\u001b[0;34m\u001b[0m\u001b[0m\n\u001b[0;32m-> 5543\u001b[0;31m             \u001b[0mnew_data\u001b[0m \u001b[0;34m=\u001b[0m \u001b[0mself\u001b[0m\u001b[0;34m.\u001b[0m\u001b[0m_mgr\u001b[0m\u001b[0;34m.\u001b[0m\u001b[0mastype\u001b[0m\u001b[0;34m(\u001b[0m\u001b[0mdtype\u001b[0m\u001b[0;34m=\u001b[0m\u001b[0mdtype\u001b[0m\u001b[0;34m,\u001b[0m \u001b[0mcopy\u001b[0m\u001b[0;34m=\u001b[0m\u001b[0mcopy\u001b[0m\u001b[0;34m,\u001b[0m \u001b[0merrors\u001b[0m\u001b[0;34m=\u001b[0m\u001b[0merrors\u001b[0m\u001b[0;34m,\u001b[0m\u001b[0;34m)\u001b[0m\u001b[0;34m\u001b[0m\u001b[0;34m\u001b[0m\u001b[0m\n\u001b[0m\u001b[1;32m   5544\u001b[0m             \u001b[0;32mreturn\u001b[0m \u001b[0mself\u001b[0m\u001b[0;34m.\u001b[0m\u001b[0m_constructor\u001b[0m\u001b[0;34m(\u001b[0m\u001b[0mnew_data\u001b[0m\u001b[0;34m)\u001b[0m\u001b[0;34m.\u001b[0m\u001b[0m__finalize__\u001b[0m\u001b[0;34m(\u001b[0m\u001b[0mself\u001b[0m\u001b[0;34m,\u001b[0m \u001b[0mmethod\u001b[0m\u001b[0;34m=\u001b[0m\u001b[0;34m\"astype\"\u001b[0m\u001b[0;34m)\u001b[0m\u001b[0;34m\u001b[0m\u001b[0;34m\u001b[0m\u001b[0m\n\u001b[1;32m   5545\u001b[0m \u001b[0;34m\u001b[0m\u001b[0m\n",
            "\u001b[0;32m/usr/local/lib/python3.6/dist-packages/pandas/core/internals/managers.py\u001b[0m in \u001b[0;36mastype\u001b[0;34m(self, dtype, copy, errors)\u001b[0m\n\u001b[1;32m    593\u001b[0m         \u001b[0mself\u001b[0m\u001b[0;34m,\u001b[0m \u001b[0mdtype\u001b[0m\u001b[0;34m,\u001b[0m \u001b[0mcopy\u001b[0m\u001b[0;34m:\u001b[0m \u001b[0mbool\u001b[0m \u001b[0;34m=\u001b[0m \u001b[0;32mFalse\u001b[0m\u001b[0;34m,\u001b[0m \u001b[0merrors\u001b[0m\u001b[0;34m:\u001b[0m \u001b[0mstr\u001b[0m \u001b[0;34m=\u001b[0m \u001b[0;34m\"raise\"\u001b[0m\u001b[0;34m\u001b[0m\u001b[0;34m\u001b[0m\u001b[0m\n\u001b[1;32m    594\u001b[0m     ) -> \"BlockManager\":\n\u001b[0;32m--> 595\u001b[0;31m         \u001b[0;32mreturn\u001b[0m \u001b[0mself\u001b[0m\u001b[0;34m.\u001b[0m\u001b[0mapply\u001b[0m\u001b[0;34m(\u001b[0m\u001b[0;34m\"astype\"\u001b[0m\u001b[0;34m,\u001b[0m \u001b[0mdtype\u001b[0m\u001b[0;34m=\u001b[0m\u001b[0mdtype\u001b[0m\u001b[0;34m,\u001b[0m \u001b[0mcopy\u001b[0m\u001b[0;34m=\u001b[0m\u001b[0mcopy\u001b[0m\u001b[0;34m,\u001b[0m \u001b[0merrors\u001b[0m\u001b[0;34m=\u001b[0m\u001b[0merrors\u001b[0m\u001b[0;34m)\u001b[0m\u001b[0;34m\u001b[0m\u001b[0;34m\u001b[0m\u001b[0m\n\u001b[0m\u001b[1;32m    596\u001b[0m \u001b[0;34m\u001b[0m\u001b[0m\n\u001b[1;32m    597\u001b[0m     def convert(\n",
            "\u001b[0;32m/usr/local/lib/python3.6/dist-packages/pandas/core/internals/managers.py\u001b[0m in \u001b[0;36mapply\u001b[0;34m(self, f, align_keys, **kwargs)\u001b[0m\n\u001b[1;32m    404\u001b[0m                 \u001b[0mapplied\u001b[0m \u001b[0;34m=\u001b[0m \u001b[0mb\u001b[0m\u001b[0;34m.\u001b[0m\u001b[0mapply\u001b[0m\u001b[0;34m(\u001b[0m\u001b[0mf\u001b[0m\u001b[0;34m,\u001b[0m \u001b[0;34m**\u001b[0m\u001b[0mkwargs\u001b[0m\u001b[0;34m)\u001b[0m\u001b[0;34m\u001b[0m\u001b[0;34m\u001b[0m\u001b[0m\n\u001b[1;32m    405\u001b[0m             \u001b[0;32melse\u001b[0m\u001b[0;34m:\u001b[0m\u001b[0;34m\u001b[0m\u001b[0;34m\u001b[0m\u001b[0m\n\u001b[0;32m--> 406\u001b[0;31m                 \u001b[0mapplied\u001b[0m \u001b[0;34m=\u001b[0m \u001b[0mgetattr\u001b[0m\u001b[0;34m(\u001b[0m\u001b[0mb\u001b[0m\u001b[0;34m,\u001b[0m \u001b[0mf\u001b[0m\u001b[0;34m)\u001b[0m\u001b[0;34m(\u001b[0m\u001b[0;34m**\u001b[0m\u001b[0mkwargs\u001b[0m\u001b[0;34m)\u001b[0m\u001b[0;34m\u001b[0m\u001b[0;34m\u001b[0m\u001b[0m\n\u001b[0m\u001b[1;32m    407\u001b[0m             \u001b[0mresult_blocks\u001b[0m \u001b[0;34m=\u001b[0m \u001b[0m_extend_blocks\u001b[0m\u001b[0;34m(\u001b[0m\u001b[0mapplied\u001b[0m\u001b[0;34m,\u001b[0m \u001b[0mresult_blocks\u001b[0m\u001b[0;34m)\u001b[0m\u001b[0;34m\u001b[0m\u001b[0;34m\u001b[0m\u001b[0m\n\u001b[1;32m    408\u001b[0m \u001b[0;34m\u001b[0m\u001b[0m\n",
            "\u001b[0;32m/usr/local/lib/python3.6/dist-packages/pandas/core/internals/blocks.py\u001b[0m in \u001b[0;36mastype\u001b[0;34m(self, dtype, copy, errors)\u001b[0m\n\u001b[1;32m    592\u001b[0m             \u001b[0mvals1d\u001b[0m \u001b[0;34m=\u001b[0m \u001b[0mvalues\u001b[0m\u001b[0;34m.\u001b[0m\u001b[0mravel\u001b[0m\u001b[0;34m(\u001b[0m\u001b[0;34m)\u001b[0m\u001b[0;34m\u001b[0m\u001b[0;34m\u001b[0m\u001b[0m\n\u001b[1;32m    593\u001b[0m             \u001b[0;32mtry\u001b[0m\u001b[0;34m:\u001b[0m\u001b[0;34m\u001b[0m\u001b[0;34m\u001b[0m\u001b[0m\n\u001b[0;32m--> 594\u001b[0;31m                 \u001b[0mvalues\u001b[0m \u001b[0;34m=\u001b[0m \u001b[0mastype_nansafe\u001b[0m\u001b[0;34m(\u001b[0m\u001b[0mvals1d\u001b[0m\u001b[0;34m,\u001b[0m \u001b[0mdtype\u001b[0m\u001b[0;34m,\u001b[0m \u001b[0mcopy\u001b[0m\u001b[0;34m=\u001b[0m\u001b[0;32mTrue\u001b[0m\u001b[0;34m)\u001b[0m\u001b[0;34m\u001b[0m\u001b[0;34m\u001b[0m\u001b[0m\n\u001b[0m\u001b[1;32m    595\u001b[0m             \u001b[0;32mexcept\u001b[0m \u001b[0;34m(\u001b[0m\u001b[0mValueError\u001b[0m\u001b[0;34m,\u001b[0m \u001b[0mTypeError\u001b[0m\u001b[0;34m)\u001b[0m\u001b[0;34m:\u001b[0m\u001b[0;34m\u001b[0m\u001b[0;34m\u001b[0m\u001b[0m\n\u001b[1;32m    596\u001b[0m                 \u001b[0;31m# e.g. astype_nansafe can fail on object-dtype of strings\u001b[0m\u001b[0;34m\u001b[0m\u001b[0;34m\u001b[0m\u001b[0;34m\u001b[0m\u001b[0m\n",
            "\u001b[0;32m/usr/local/lib/python3.6/dist-packages/pandas/core/dtypes/cast.py\u001b[0m in \u001b[0;36mastype_nansafe\u001b[0;34m(arr, dtype, copy, skipna)\u001b[0m\n\u001b[1;32m    988\u001b[0m     \u001b[0;32mif\u001b[0m \u001b[0mcopy\u001b[0m \u001b[0;32mor\u001b[0m \u001b[0mis_object_dtype\u001b[0m\u001b[0;34m(\u001b[0m\u001b[0marr\u001b[0m\u001b[0;34m)\u001b[0m \u001b[0;32mor\u001b[0m \u001b[0mis_object_dtype\u001b[0m\u001b[0;34m(\u001b[0m\u001b[0mdtype\u001b[0m\u001b[0;34m)\u001b[0m\u001b[0;34m:\u001b[0m\u001b[0;34m\u001b[0m\u001b[0;34m\u001b[0m\u001b[0m\n\u001b[1;32m    989\u001b[0m         \u001b[0;31m# Explicit copy, or required since NumPy can't view from / to object.\u001b[0m\u001b[0;34m\u001b[0m\u001b[0;34m\u001b[0m\u001b[0;34m\u001b[0m\u001b[0m\n\u001b[0;32m--> 990\u001b[0;31m         \u001b[0;32mreturn\u001b[0m \u001b[0marr\u001b[0m\u001b[0;34m.\u001b[0m\u001b[0mastype\u001b[0m\u001b[0;34m(\u001b[0m\u001b[0mdtype\u001b[0m\u001b[0;34m,\u001b[0m \u001b[0mcopy\u001b[0m\u001b[0;34m=\u001b[0m\u001b[0;32mTrue\u001b[0m\u001b[0;34m)\u001b[0m\u001b[0;34m\u001b[0m\u001b[0;34m\u001b[0m\u001b[0m\n\u001b[0m\u001b[1;32m    991\u001b[0m \u001b[0;34m\u001b[0m\u001b[0m\n\u001b[1;32m    992\u001b[0m     \u001b[0;32mreturn\u001b[0m \u001b[0marr\u001b[0m\u001b[0;34m.\u001b[0m\u001b[0mview\u001b[0m\u001b[0;34m(\u001b[0m\u001b[0mdtype\u001b[0m\u001b[0;34m)\u001b[0m\u001b[0;34m\u001b[0m\u001b[0;34m\u001b[0m\u001b[0m\n",
            "\u001b[0;31mValueError\u001b[0m: could not convert string to float: 'BR'"
          ]
        }
      ]
    },
    {
      "cell_type": "markdown",
      "metadata": {
        "id": "ap3tFHSmns1P"
      },
      "source": [
        "### Resumo dos tipos em Pandas:"
      ]
    },
    {
      "cell_type": "markdown",
      "metadata": {
        "id": "Aq1KxlLTon0a"
      },
      "source": [
        "![](https://drive.google.com/uc?export=view&id=1l2SH97T_0Lu7VIInFzkc31HUbSep37g6)"
      ]
    },
    {
      "cell_type": "markdown",
      "metadata": {
        "id": "MZfqRb_NxXdG"
      },
      "source": [
        "### Lidando com dados ausentes"
      ]
    },
    {
      "cell_type": "markdown",
      "metadata": {
        "id": "Qwuogd6Rx8Hh"
      },
      "source": [
        "Regras gerais:\n",
        "\n",
        "*   Os dados ausentes são presentados pelo valor `NaN` que representa Not a Number.\n",
        "*   Por razões técnicas, os valores `NaN` são sempre do tipo `float64`.\n",
        "*   Pandas possui alguns métodos específicos para lidar com dados ausentes."
      ]
    },
    {
      "cell_type": "markdown",
      "metadata": {
        "id": "KC5yERWwzOdP"
      },
      "source": [
        "### O comando `pd.isnull()` é utilizado para selecionar as entradas ausentes\n"
      ]
    },
    {
      "cell_type": "code",
      "metadata": {
        "id": "Gf09OWktytIV",
        "outputId": "d127f510-1e3e-4e27-a2a1-04b2a785221f",
        "colab": {
          "base_uri": "https://localhost:8080/",
          "height": 80
        }
      },
      "source": [
        "dados[pd.isnull(dados.sigla)]"
      ],
      "execution_count": 91,
      "outputs": [
        {
          "output_type": "execute_result",
          "data": {
            "text/html": [
              "<div>\n",
              "<style scoped>\n",
              "    .dataframe tbody tr th:only-of-type {\n",
              "        vertical-align: middle;\n",
              "    }\n",
              "\n",
              "    .dataframe tbody tr th {\n",
              "        vertical-align: top;\n",
              "    }\n",
              "\n",
              "    .dataframe thead th {\n",
              "        text-align: right;\n",
              "    }\n",
              "</style>\n",
              "<table border=\"1\" class=\"dataframe\">\n",
              "  <thead>\n",
              "    <tr style=\"text-align: right;\">\n",
              "      <th></th>\n",
              "      <th>data</th>\n",
              "      <th>texto</th>\n",
              "      <th>retweet</th>\n",
              "      <th>idioma</th>\n",
              "      <th>lugar</th>\n",
              "      <th>pais</th>\n",
              "      <th>sigla</th>\n",
              "      <th>latitude</th>\n",
              "      <th>longitude</th>\n",
              "    </tr>\n",
              "  </thead>\n",
              "  <tbody>\n",
              "    <tr>\n",
              "      <th>399</th>\n",
              "      <td>2020-03-19 12:30:16</td>\n",
              "      <td>Meu #tbt de isolamento social 🏕🌵 #namibia #afr...</td>\n",
              "      <td>0</td>\n",
              "      <td>pt</td>\n",
              "      <td>Namibia</td>\n",
              "      <td>Namibia</td>\n",
              "      <td>NaN</td>\n",
              "      <td>17.0</td>\n",
              "      <td>-23.0</td>\n",
              "    </tr>\n",
              "  </tbody>\n",
              "</table>\n",
              "</div>"
            ],
            "text/plain": [
              "                    data  ... longitude\n",
              "399  2020-03-19 12:30:16  ...     -23.0\n",
              "\n",
              "[1 rows x 9 columns]"
            ]
          },
          "metadata": {
            "tags": []
          },
          "execution_count": 91
        }
      ]
    },
    {
      "cell_type": "markdown",
      "metadata": {
        "id": "vbxpZzCLz31J"
      },
      "source": [
        "### Substituição de valores ausentes\n",
        "\n",
        "### A função `fillna()` é usada para substituir valores ausentes"
      ]
    },
    {
      "cell_type": "code",
      "metadata": {
        "id": "YRMHftBc0LH6",
        "outputId": "1dd1a611-1482-4382-f90e-95e613729ec9",
        "colab": {
          "base_uri": "https://localhost:8080/",
          "height": 221
        }
      },
      "source": [
        "dados.sigla.fillna(\"PADRAO\")"
      ],
      "execution_count": 92,
      "outputs": [
        {
          "output_type": "execute_result",
          "data": {
            "text/plain": [
              "0      BR\n",
              "1      BR\n",
              "2      PT\n",
              "3      BR\n",
              "4      BR\n",
              "       ..\n",
              "495    BR\n",
              "496    BR\n",
              "497    CA\n",
              "498    BR\n",
              "499    PT\n",
              "Name: sigla, Length: 500, dtype: object"
            ]
          },
          "metadata": {
            "tags": []
          },
          "execution_count": 92
        }
      ]
    },
    {
      "cell_type": "markdown",
      "metadata": {
        "id": "fcUA4oPq1SkX"
      },
      "source": [
        "### É possível ainda fazer a substituição de um valor específico por outro através do comando `replace`"
      ]
    },
    {
      "cell_type": "code",
      "metadata": {
        "id": "tWwGDI441C-k",
        "outputId": "4a1b9d65-7d3d-4b00-bcce-3ac0a9aabd98",
        "colab": {
          "base_uri": "https://localhost:8080/",
          "height": 221
        }
      },
      "source": [
        "dados.sigla.replace('BR', 'BZ')"
      ],
      "execution_count": 93,
      "outputs": [
        {
          "output_type": "execute_result",
          "data": {
            "text/plain": [
              "0      BZ\n",
              "1      BZ\n",
              "2      PT\n",
              "3      BZ\n",
              "4      BZ\n",
              "       ..\n",
              "495    BZ\n",
              "496    BZ\n",
              "497    CA\n",
              "498    BZ\n",
              "499    PT\n",
              "Name: sigla, Length: 500, dtype: object"
            ]
          },
          "metadata": {
            "tags": []
          },
          "execution_count": 93
        }
      ]
    },
    {
      "cell_type": "markdown",
      "metadata": {
        "id": "AMUR6bjg2ErV"
      },
      "source": [
        "# Formatação dos dados"
      ]
    },
    {
      "cell_type": "markdown",
      "metadata": {
        "id": "yUFwPfJo2x5G"
      },
      "source": [
        "### Regras gerais:\n",
        "\n",
        "*   É comum ocorrer a situação onde os dados não estão com nomes apropriados.\n",
        "*   Neste caso, podemos usar um conjunto de funções de Pandas para formatar `DataFrame` ou `Series`."
      ]
    },
    {
      "cell_type": "markdown",
      "metadata": {
        "id": "Vkj26tyW3Xzv"
      },
      "source": [
        "### É possível renomear as colunas e índices através do comando `rename()`"
      ]
    },
    {
      "cell_type": "code",
      "metadata": {
        "id": "nosjwRUq3aGF",
        "cellView": "both",
        "outputId": "59de8028-5c03-46ed-9f04-5f152f89c478",
        "colab": {
          "base_uri": "https://localhost:8080/",
          "height": 419
        }
      },
      "source": [
        "#@title\n",
        "dados.rename(columns={'sigla': 'codigo'})"
      ],
      "execution_count": 95,
      "outputs": [
        {
          "output_type": "execute_result",
          "data": {
            "text/html": [
              "<div>\n",
              "<style scoped>\n",
              "    .dataframe tbody tr th:only-of-type {\n",
              "        vertical-align: middle;\n",
              "    }\n",
              "\n",
              "    .dataframe tbody tr th {\n",
              "        vertical-align: top;\n",
              "    }\n",
              "\n",
              "    .dataframe thead th {\n",
              "        text-align: right;\n",
              "    }\n",
              "</style>\n",
              "<table border=\"1\" class=\"dataframe\">\n",
              "  <thead>\n",
              "    <tr style=\"text-align: right;\">\n",
              "      <th></th>\n",
              "      <th>data</th>\n",
              "      <th>texto</th>\n",
              "      <th>retweet</th>\n",
              "      <th>idioma</th>\n",
              "      <th>lugar</th>\n",
              "      <th>pais</th>\n",
              "      <th>codigo</th>\n",
              "      <th>latitude</th>\n",
              "      <th>longitude</th>\n",
              "    </tr>\n",
              "  </thead>\n",
              "  <tbody>\n",
              "    <tr>\n",
              "      <th>0</th>\n",
              "      <td>2020-05-23 00:21:14</td>\n",
              "      <td>Para voltar tudo ao normal, você precisa fazer...</td>\n",
              "      <td>0</td>\n",
              "      <td>pt</td>\n",
              "      <td>Rio das Ostras</td>\n",
              "      <td>Brazil</td>\n",
              "      <td>BR</td>\n",
              "      <td>-41.937900</td>\n",
              "      <td>-22.522600</td>\n",
              "    </tr>\n",
              "    <tr>\n",
              "      <th>1</th>\n",
              "      <td>2020-03-22 22:57:51</td>\n",
              "      <td>14.245 – O que é a hidroxicloroquina? https://...</td>\n",
              "      <td>0</td>\n",
              "      <td>pt</td>\n",
              "      <td>Sao Paulo</td>\n",
              "      <td>Brazil</td>\n",
              "      <td>BR</td>\n",
              "      <td>-46.674739</td>\n",
              "      <td>-23.606067</td>\n",
              "    </tr>\n",
              "    <tr>\n",
              "      <th>2</th>\n",
              "      <td>2020-04-14 00:11:33</td>\n",
              "      <td>Quarta morte em Lar de Estarreja associada à C...</td>\n",
              "      <td>1</td>\n",
              "      <td>pt</td>\n",
              "      <td>Lisbon</td>\n",
              "      <td>Portugal</td>\n",
              "      <td>PT</td>\n",
              "      <td>-9.099043</td>\n",
              "      <td>38.747518</td>\n",
              "    </tr>\n",
              "    <tr>\n",
              "      <th>3</th>\n",
              "      <td>2020-05-25 20:45:43</td>\n",
              "      <td>COVID-19 |  Hospital municipal Tide Setúbal, n...</td>\n",
              "      <td>0</td>\n",
              "      <td>pt</td>\n",
              "      <td>Sao Paulo</td>\n",
              "      <td>Brazil</td>\n",
              "      <td>BR</td>\n",
              "      <td>-46.633300</td>\n",
              "      <td>-23.550000</td>\n",
              "    </tr>\n",
              "    <tr>\n",
              "      <th>4</th>\n",
              "      <td>2020-04-15 10:34:39</td>\n",
              "      <td>#cenasdocotidiano #santos #distanciamentosocia...</td>\n",
              "      <td>0</td>\n",
              "      <td>pt</td>\n",
              "      <td>Santos</td>\n",
              "      <td>Brazil</td>\n",
              "      <td>BR</td>\n",
              "      <td>-46.293700</td>\n",
              "      <td>-23.975947</td>\n",
              "    </tr>\n",
              "    <tr>\n",
              "      <th>...</th>\n",
              "      <td>...</td>\n",
              "      <td>...</td>\n",
              "      <td>...</td>\n",
              "      <td>...</td>\n",
              "      <td>...</td>\n",
              "      <td>...</td>\n",
              "      <td>...</td>\n",
              "      <td>...</td>\n",
              "      <td>...</td>\n",
              "    </tr>\n",
              "    <tr>\n",
              "      <th>495</th>\n",
              "      <td>2020-04-07 16:14:13</td>\n",
              "      <td>O isolamento social também serve para mostrar ...</td>\n",
              "      <td>1</td>\n",
              "      <td>pt</td>\n",
              "      <td>Rio Branco</td>\n",
              "      <td>Brazil</td>\n",
              "      <td>BR</td>\n",
              "      <td>-67.859657</td>\n",
              "      <td>-9.932246</td>\n",
              "    </tr>\n",
              "    <tr>\n",
              "      <th>496</th>\n",
              "      <td>2020-03-26 18:02:28</td>\n",
              "      <td>Enquanto o mundo está atento ao covid 19 é o B...</td>\n",
              "      <td>0</td>\n",
              "      <td>pt</td>\n",
              "      <td>Rio de Janeiro</td>\n",
              "      <td>Brazil</td>\n",
              "      <td>BR</td>\n",
              "      <td>-43.358100</td>\n",
              "      <td>-22.942800</td>\n",
              "    </tr>\n",
              "    <tr>\n",
              "      <th>497</th>\n",
              "      <td>2020-03-18 05:28:16</td>\n",
              "      <td>#covid_19 #stayhome @ Toronto, Ontario https:/...</td>\n",
              "      <td>0</td>\n",
              "      <td>pt</td>\n",
              "      <td>Toronto</td>\n",
              "      <td>Canada</td>\n",
              "      <td>CA</td>\n",
              "      <td>-79.387200</td>\n",
              "      <td>43.648000</td>\n",
              "    </tr>\n",
              "    <tr>\n",
              "      <th>498</th>\n",
              "      <td>2020-03-03 21:27:11</td>\n",
              "      <td>Um vira-lata sem Coronavirus #joeviralata #dog...</td>\n",
              "      <td>0</td>\n",
              "      <td>pt</td>\n",
              "      <td>Sao Paulo</td>\n",
              "      <td>Brazil</td>\n",
              "      <td>BR</td>\n",
              "      <td>-46.633300</td>\n",
              "      <td>-23.550000</td>\n",
              "    </tr>\n",
              "    <tr>\n",
              "      <th>499</th>\n",
              "      <td>2020-01-21 13:18:03</td>\n",
              "      <td>Portugal já está a preparar-se para responder ...</td>\n",
              "      <td>1</td>\n",
              "      <td>pt</td>\n",
              "      <td>Lisbon</td>\n",
              "      <td>Portugal</td>\n",
              "      <td>PT</td>\n",
              "      <td>-9.099043</td>\n",
              "      <td>38.747518</td>\n",
              "    </tr>\n",
              "  </tbody>\n",
              "</table>\n",
              "<p>500 rows × 9 columns</p>\n",
              "</div>"
            ],
            "text/plain": [
              "                    data  ...  longitude\n",
              "0    2020-05-23 00:21:14  ... -22.522600\n",
              "1    2020-03-22 22:57:51  ... -23.606067\n",
              "2    2020-04-14 00:11:33  ...  38.747518\n",
              "3    2020-05-25 20:45:43  ... -23.550000\n",
              "4    2020-04-15 10:34:39  ... -23.975947\n",
              "..                   ...  ...        ...\n",
              "495  2020-04-07 16:14:13  ...  -9.932246\n",
              "496  2020-03-26 18:02:28  ... -22.942800\n",
              "497  2020-03-18 05:28:16  ...  43.648000\n",
              "498  2020-03-03 21:27:11  ... -23.550000\n",
              "499  2020-01-21 13:18:03  ...  38.747518\n",
              "\n",
              "[500 rows x 9 columns]"
            ]
          },
          "metadata": {
            "tags": []
          },
          "execution_count": 95
        }
      ]
    },
    {
      "cell_type": "markdown",
      "metadata": {
        "id": "OeQKZ3JcMcY2"
      },
      "source": [
        "# Plotar Mapas"
      ]
    },
    {
      "cell_type": "markdown",
      "metadata": {
        "id": "QoY16iOFN9om"
      },
      "source": [
        "### Projeto GeoPandas\n",
        "\n",
        "*   Projeto código aberto para lidar com dados espaciais em Python.\n",
        "*   Versão atual é a 0.8.0.\n",
        "*   Permite a realização de operações espaciais."
      ]
    },
    {
      "cell_type": "markdown",
      "metadata": {
        "id": "rbSLG4heMupm"
      },
      "source": [
        "### Instalar a biblioteca"
      ]
    },
    {
      "cell_type": "code",
      "metadata": {
        "id": "CQ-_i9JNMil9",
        "outputId": "a5260853-6aa4-46af-871d-0c9fb9cd94a9",
        "colab": {
          "base_uri": "https://localhost:8080/",
          "height": 462
        }
      },
      "source": [
        "!pip install geopandas"
      ],
      "execution_count": 96,
      "outputs": [
        {
          "output_type": "stream",
          "text": [
            "Collecting geopandas\n",
            "\u001b[?25l  Downloading https://files.pythonhosted.org/packages/f7/a4/e66aafbefcbb717813bf3a355c8c4fc3ed04ea1dd7feb2920f2f4f868921/geopandas-0.8.1-py2.py3-none-any.whl (962kB)\n",
            "\u001b[K     |████████████████████████████████| 972kB 1.4MB/s \n",
            "\u001b[?25hRequirement already satisfied: pandas>=0.23.0 in /usr/local/lib/python3.6/dist-packages (from geopandas) (1.1.2)\n",
            "Requirement already satisfied: shapely in /usr/local/lib/python3.6/dist-packages (from geopandas) (1.7.1)\n",
            "Collecting fiona\n",
            "\u001b[?25l  Downloading https://files.pythonhosted.org/packages/36/8b/e8b2c11bed5373c8e98edb85ce891b09aa1f4210fd451d0fb3696b7695a2/Fiona-1.8.17-cp36-cp36m-manylinux1_x86_64.whl (14.8MB)\n",
            "\u001b[K     |████████████████████████████████| 14.8MB 1.8MB/s \n",
            "\u001b[?25hCollecting pyproj>=2.2.0\n",
            "\u001b[?25l  Downloading https://files.pythonhosted.org/packages/e5/c3/071e080230ac4b6c64f1a2e2f9161c9737a2bc7b683d2c90b024825000c0/pyproj-2.6.1.post1-cp36-cp36m-manylinux2010_x86_64.whl (10.9MB)\n",
            "\u001b[K     |████████████████████████████████| 10.9MB 44.5MB/s \n",
            "\u001b[?25hRequirement already satisfied: numpy>=1.15.4 in /usr/local/lib/python3.6/dist-packages (from pandas>=0.23.0->geopandas) (1.18.5)\n",
            "Requirement already satisfied: python-dateutil>=2.7.3 in /usr/local/lib/python3.6/dist-packages (from pandas>=0.23.0->geopandas) (2.8.1)\n",
            "Requirement already satisfied: pytz>=2017.2 in /usr/local/lib/python3.6/dist-packages (from pandas>=0.23.0->geopandas) (2018.9)\n",
            "Collecting munch\n",
            "  Downloading https://files.pythonhosted.org/packages/cc/ab/85d8da5c9a45e072301beb37ad7f833cd344e04c817d97e0cc75681d248f/munch-2.5.0-py2.py3-none-any.whl\n",
            "Collecting click-plugins>=1.0\n",
            "  Downloading https://files.pythonhosted.org/packages/e9/da/824b92d9942f4e472702488857914bdd50f73021efea15b4cad9aca8ecef/click_plugins-1.1.1-py2.py3-none-any.whl\n",
            "Collecting cligj>=0.5\n",
            "  Downloading https://files.pythonhosted.org/packages/ba/06/e3440b1f2dc802d35f329f299ba96153e9fcbfdef75e17f4b61f79430c6a/cligj-0.7.0-py3-none-any.whl\n",
            "Requirement already satisfied: click<8,>=4.0 in /usr/local/lib/python3.6/dist-packages (from fiona->geopandas) (7.1.2)\n",
            "Requirement already satisfied: six>=1.7 in /usr/local/lib/python3.6/dist-packages (from fiona->geopandas) (1.15.0)\n",
            "Requirement already satisfied: attrs>=17 in /usr/local/lib/python3.6/dist-packages (from fiona->geopandas) (20.2.0)\n",
            "Installing collected packages: munch, click-plugins, cligj, fiona, pyproj, geopandas\n",
            "Successfully installed click-plugins-1.1.1 cligj-0.7.0 fiona-1.8.17 geopandas-0.8.1 munch-2.5.0 pyproj-2.6.1.post1\n"
          ],
          "name": "stdout"
        }
      ]
    },
    {
      "cell_type": "markdown",
      "metadata": {
        "id": "FmS4QcZYNPfx"
      },
      "source": [
        "### Importar as bibliotecas"
      ]
    },
    {
      "cell_type": "code",
      "metadata": {
        "id": "Q3xWCWlyNSam"
      },
      "source": [
        "from shapely.geometry import Point\n",
        "import geopandas as gpd\n",
        "from geopandas import GeoDataFrame"
      ],
      "execution_count": 97,
      "outputs": []
    },
    {
      "cell_type": "markdown",
      "metadata": {
        "id": "daNVJpEJMxat"
      },
      "source": [
        "### Carregar o arquivo com os dados"
      ]
    },
    {
      "cell_type": "code",
      "metadata": {
        "id": "Vhydj7j7M038"
      },
      "source": [
        "dados = pd.read_csv(\"http://tiagodemelo.info/datasets/dados-curso.csv\")"
      ],
      "execution_count": 98,
      "outputs": []
    },
    {
      "cell_type": "code",
      "metadata": {
        "id": "0TZO6kZOM7HB",
        "outputId": "fdb4b2dd-bd51-41c6-df00-d409f3aff5fb",
        "colab": {
          "base_uri": "https://localhost:8080/",
          "height": 204
        }
      },
      "source": [
        "dados.head()"
      ],
      "execution_count": 99,
      "outputs": [
        {
          "output_type": "execute_result",
          "data": {
            "text/html": [
              "<div>\n",
              "<style scoped>\n",
              "    .dataframe tbody tr th:only-of-type {\n",
              "        vertical-align: middle;\n",
              "    }\n",
              "\n",
              "    .dataframe tbody tr th {\n",
              "        vertical-align: top;\n",
              "    }\n",
              "\n",
              "    .dataframe thead th {\n",
              "        text-align: right;\n",
              "    }\n",
              "</style>\n",
              "<table border=\"1\" class=\"dataframe\">\n",
              "  <thead>\n",
              "    <tr style=\"text-align: right;\">\n",
              "      <th></th>\n",
              "      <th>data</th>\n",
              "      <th>texto</th>\n",
              "      <th>retweet</th>\n",
              "      <th>idioma</th>\n",
              "      <th>lugar</th>\n",
              "      <th>pais</th>\n",
              "      <th>sigla</th>\n",
              "      <th>latitude</th>\n",
              "      <th>longitude</th>\n",
              "    </tr>\n",
              "  </thead>\n",
              "  <tbody>\n",
              "    <tr>\n",
              "      <th>0</th>\n",
              "      <td>2020-05-23 00:21:14</td>\n",
              "      <td>Para voltar tudo ao normal, você precisa fazer...</td>\n",
              "      <td>0</td>\n",
              "      <td>pt</td>\n",
              "      <td>Rio das Ostras</td>\n",
              "      <td>Brazil</td>\n",
              "      <td>BR</td>\n",
              "      <td>-41.937900</td>\n",
              "      <td>-22.522600</td>\n",
              "    </tr>\n",
              "    <tr>\n",
              "      <th>1</th>\n",
              "      <td>2020-03-22 22:57:51</td>\n",
              "      <td>14.245 – O que é a hidroxicloroquina? https://...</td>\n",
              "      <td>0</td>\n",
              "      <td>pt</td>\n",
              "      <td>Sao Paulo</td>\n",
              "      <td>Brazil</td>\n",
              "      <td>BR</td>\n",
              "      <td>-46.674739</td>\n",
              "      <td>-23.606067</td>\n",
              "    </tr>\n",
              "    <tr>\n",
              "      <th>2</th>\n",
              "      <td>2020-04-14 00:11:33</td>\n",
              "      <td>Quarta morte em Lar de Estarreja associada à C...</td>\n",
              "      <td>1</td>\n",
              "      <td>pt</td>\n",
              "      <td>Lisbon</td>\n",
              "      <td>Portugal</td>\n",
              "      <td>PT</td>\n",
              "      <td>-9.099043</td>\n",
              "      <td>38.747518</td>\n",
              "    </tr>\n",
              "    <tr>\n",
              "      <th>3</th>\n",
              "      <td>2020-05-25 20:45:43</td>\n",
              "      <td>COVID-19 |  Hospital municipal Tide Setúbal, n...</td>\n",
              "      <td>0</td>\n",
              "      <td>pt</td>\n",
              "      <td>Sao Paulo</td>\n",
              "      <td>Brazil</td>\n",
              "      <td>BR</td>\n",
              "      <td>-46.633300</td>\n",
              "      <td>-23.550000</td>\n",
              "    </tr>\n",
              "    <tr>\n",
              "      <th>4</th>\n",
              "      <td>2020-04-15 10:34:39</td>\n",
              "      <td>#cenasdocotidiano #santos #distanciamentosocia...</td>\n",
              "      <td>0</td>\n",
              "      <td>pt</td>\n",
              "      <td>Santos</td>\n",
              "      <td>Brazil</td>\n",
              "      <td>BR</td>\n",
              "      <td>-46.293700</td>\n",
              "      <td>-23.975947</td>\n",
              "    </tr>\n",
              "  </tbody>\n",
              "</table>\n",
              "</div>"
            ],
            "text/plain": [
              "                  data  ...  longitude\n",
              "0  2020-05-23 00:21:14  ... -22.522600\n",
              "1  2020-03-22 22:57:51  ... -23.606067\n",
              "2  2020-04-14 00:11:33  ...  38.747518\n",
              "3  2020-05-25 20:45:43  ... -23.550000\n",
              "4  2020-04-15 10:34:39  ... -23.975947\n",
              "\n",
              "[5 rows x 9 columns]"
            ]
          },
          "metadata": {
            "tags": []
          },
          "execution_count": 99
        }
      ]
    },
    {
      "cell_type": "markdown",
      "metadata": {
        "id": "pP7RtLcwNCGr"
      },
      "source": [
        "### Plotar a posição dos usuários no mapa"
      ]
    },
    {
      "cell_type": "code",
      "metadata": {
        "id": "URZXqSpRNFwd",
        "outputId": "16458833-7b1a-49c0-f259-b3504590ca59",
        "colab": {
          "base_uri": "https://localhost:8080/",
          "height": 452
        }
      },
      "source": [
        "geometry = [Point(xy) for xy in zip(dados['latitude'], dados['longitude'])]\n",
        "gdf = GeoDataFrame(dados, geometry=geometry)   \n",
        "\n",
        "world = gpd.read_file(gpd.datasets.get_path('naturalearth_lowres'))\n",
        "gdf.plot(ax=world.plot(figsize=(15, 10)), marker='o', color='pink', markersize=15);"
      ],
      "execution_count": 102,
      "outputs": [
        {
          "output_type": "display_data",
          "data": {
            "image/png": "[encoded data removed]",
            "text/plain": [
              "<Figure size 1080x720 with 1 Axes>"
            ]
          },
          "metadata": {
            "tags": [],
            "needs_background": "light"
          }
        }
      ]
    },
    {
      "cell_type": "markdown",
      "metadata": {
        "id": "d-Gu92rtEJ1K"
      },
      "source": [
        "#Visualização dos Dados"
      ]
    },
    {
      "cell_type": "markdown",
      "metadata": {
        "id": "7vqG0-TAERyD"
      },
      "source": [
        "##MatPlotLib"
      ]
    },
    {
      "cell_type": "code",
      "metadata": {
        "id": "GxAtiyI1FBUf"
      },
      "source": [
        "import pandas as pd\n",
        "\n",
        "df = pd.DataFrame({\n",
        "    'nome':['João','Maria','Pedro','José','Lucas','Luíza','Francisco'],\n",
        "    'idade':[23,78,22,19,45,33,20],\n",
        "    'genero':['M','F','M','M','M','F','M'],\n",
        "    'estado':['Amazonas','Pará','Amazonas','Pará','Amazonas','Ceará','Ceará'],\n",
        "    'num_filhos':[2,0,0,3,2,1,4],\n",
        "    'num_animais':[5,1,0,5,2,2,3]\n",
        "})"
      ],
      "execution_count": 103,
      "outputs": []
    },
    {
      "cell_type": "code",
      "metadata": {
        "id": "HmDcBLtSsQBx",
        "outputId": "aa2037a7-eb23-4e4d-c7b2-74696a999d11",
        "colab": {
          "base_uri": "https://localhost:8080/",
          "height": 204
        }
      },
      "source": [
        "df.head()"
      ],
      "execution_count": 104,
      "outputs": [
        {
          "output_type": "execute_result",
          "data": {
            "text/html": [
              "<div>\n",
              "<style scoped>\n",
              "    .dataframe tbody tr th:only-of-type {\n",
              "        vertical-align: middle;\n",
              "    }\n",
              "\n",
              "    .dataframe tbody tr th {\n",
              "        vertical-align: top;\n",
              "    }\n",
              "\n",
              "    .dataframe thead th {\n",
              "        text-align: right;\n",
              "    }\n",
              "</style>\n",
              "<table border=\"1\" class=\"dataframe\">\n",
              "  <thead>\n",
              "    <tr style=\"text-align: right;\">\n",
              "      <th></th>\n",
              "      <th>nome</th>\n",
              "      <th>idade</th>\n",
              "      <th>genero</th>\n",
              "      <th>estado</th>\n",
              "      <th>num_filhos</th>\n",
              "      <th>num_animais</th>\n",
              "    </tr>\n",
              "  </thead>\n",
              "  <tbody>\n",
              "    <tr>\n",
              "      <th>0</th>\n",
              "      <td>João</td>\n",
              "      <td>23</td>\n",
              "      <td>M</td>\n",
              "      <td>Amazonas</td>\n",
              "      <td>2</td>\n",
              "      <td>5</td>\n",
              "    </tr>\n",
              "    <tr>\n",
              "      <th>1</th>\n",
              "      <td>Maria</td>\n",
              "      <td>78</td>\n",
              "      <td>F</td>\n",
              "      <td>Pará</td>\n",
              "      <td>0</td>\n",
              "      <td>1</td>\n",
              "    </tr>\n",
              "    <tr>\n",
              "      <th>2</th>\n",
              "      <td>Pedro</td>\n",
              "      <td>22</td>\n",
              "      <td>M</td>\n",
              "      <td>Amazonas</td>\n",
              "      <td>0</td>\n",
              "      <td>0</td>\n",
              "    </tr>\n",
              "    <tr>\n",
              "      <th>3</th>\n",
              "      <td>José</td>\n",
              "      <td>19</td>\n",
              "      <td>M</td>\n",
              "      <td>Pará</td>\n",
              "      <td>3</td>\n",
              "      <td>5</td>\n",
              "    </tr>\n",
              "    <tr>\n",
              "      <th>4</th>\n",
              "      <td>Lucas</td>\n",
              "      <td>45</td>\n",
              "      <td>M</td>\n",
              "      <td>Amazonas</td>\n",
              "      <td>2</td>\n",
              "      <td>2</td>\n",
              "    </tr>\n",
              "  </tbody>\n",
              "</table>\n",
              "</div>"
            ],
            "text/plain": [
              "    nome  idade genero    estado  num_filhos  num_animais\n",
              "0   João     23      M  Amazonas           2            5\n",
              "1  Maria     78      F      Pará           0            1\n",
              "2  Pedro     22      M  Amazonas           0            0\n",
              "3   José     19      M      Pará           3            5\n",
              "4  Lucas     45      M  Amazonas           2            2"
            ]
          },
          "metadata": {
            "tags": []
          },
          "execution_count": 104
        }
      ]
    },
    {
      "cell_type": "markdown",
      "metadata": {
        "id": "1gp40EI8Mvdq"
      },
      "source": [
        "### Scatter Plot"
      ]
    },
    {
      "cell_type": "markdown",
      "metadata": {
        "id": "2kZD0eJBI9Lv"
      },
      "source": [
        "É o gráfico de dispersão."
      ]
    },
    {
      "cell_type": "markdown",
      "metadata": {
        "id": "K7a-wGhUJBRL"
      },
      "source": [
        "Exemplo 1:"
      ]
    },
    {
      "cell_type": "code",
      "metadata": {
        "id": "RL_SbOcXMxNA",
        "outputId": "63d94217-583e-416e-b27d-6ee643316dd3",
        "colab": {
          "base_uri": "https://localhost:8080/",
          "height": 280
        }
      },
      "source": [
        "import matplotlib.pyplot as plt\n",
        "import pandas as pd\n",
        "\n",
        "df.plot(kind='scatter', x='num_filhos',y='num_animais')\n",
        "plt.show()"
      ],
      "execution_count": 105,
      "outputs": [
        {
          "output_type": "display_data",
          "data": {
            "image/png": "[encoded data removed]",
            "text/plain": [
              "<Figure size 432x288 with 1 Axes>"
            ]
          },
          "metadata": {
            "tags": [],
            "needs_background": "light"
          }
        }
      ]
    },
    {
      "cell_type": "markdown",
      "metadata": {
        "id": "YHiC1nOvH3Gl"
      },
      "source": [
        "### Configurações diversas dos gráficos"
      ]
    },
    {
      "cell_type": "markdown",
      "metadata": {
        "id": "0vjUEKIbIKKI"
      },
      "source": [
        "##### Cores\n",
        "\n",
        "\n",
        "*   O atributo `color` ou `c` é usado para definir as cores.\n",
        "*   As cores estão em inglês.\n",
        "*   [Lista completa de cores](https://matplotlib.org/3.1.0/gallery/color/named_colors.html)\n",
        "\n"
      ]
    },
    {
      "cell_type": "markdown",
      "metadata": {
        "id": "Yy4i0a-KJVOF"
      },
      "source": [
        "##### Transparência\n",
        "\n",
        "\n",
        "*   O atributo `alpha` define a transparência dos objetos.\n",
        "\n"
      ]
    },
    {
      "cell_type": "markdown",
      "metadata": {
        "id": "7vg3JBD-K5PY"
      },
      "source": [
        "##### Marcadores\n",
        "\n",
        "\n",
        "*   É possível alterar o marcador através do atributo `marker`.\n",
        "*   [Lista completa de marcadores](https://matplotlib.org/api/markers_api.html)\n",
        "*   É possível também alterar o tamanho do marcador através do atributo `s`.\n",
        "\n"
      ]
    },
    {
      "cell_type": "markdown",
      "metadata": {
        "id": "ul0rkJ8WJ0EK"
      },
      "source": [
        "##### Rótulos (labels) dos eixos\n",
        "\n",
        "\n",
        "*   O comando `xlabel` é usado para renomear o eixo X do gráfico.\n",
        "*   O comando `ylabel` é usado para renomear o eixo Y do gráfico.\n",
        "*   Esses comandos permitem alterar o tamanho da fonte através do atributo `fontsize`.\n",
        "\n"
      ]
    },
    {
      "cell_type": "markdown",
      "metadata": {
        "id": "4JjUAKo5JG_A"
      },
      "source": [
        "Exemplo 2:"
      ]
    },
    {
      "cell_type": "code",
      "metadata": {
        "id": "sYL4hoZUJIUc",
        "outputId": "1c080aff-ae25-4737-8fee-fdf10695f7ab",
        "colab": {
          "base_uri": "https://localhost:8080/",
          "height": 282
        }
      },
      "source": [
        "import matplotlib.pyplot as plt\n",
        "import pandas as pd\n",
        "\n",
        "df.plot(kind='scatter', x='num_filhos', y='num_animais', color='red', alpha=0.2, marker='*', s=90)\n",
        "plt.xlabel('Número de Filhos', fontsize=12)\n",
        "plt.ylabel('Número de Animais', fontsize=16)\n",
        "plt.show()"
      ],
      "execution_count": 106,
      "outputs": [
        {
          "output_type": "display_data",
          "data": {
            "image/png": "[encoded data removed]",
            "text/plain": [
              "<Figure size 432x288 with 1 Axes>"
            ]
          },
          "metadata": {
            "tags": [],
            "needs_background": "light"
          }
        }
      ]
    },
    {
      "cell_type": "markdown",
      "metadata": {
        "id": "kFl_Dyi8NAPj"
      },
      "source": [
        "### Bar Plot"
      ]
    },
    {
      "cell_type": "markdown",
      "metadata": {
        "id": "_fUZlfsDMJ0p"
      },
      "source": [
        "É o gráfico de barras."
      ]
    },
    {
      "cell_type": "markdown",
      "metadata": {
        "id": "HxCPmDI-MOha"
      },
      "source": [
        "Exemplo 1:"
      ]
    },
    {
      "cell_type": "code",
      "metadata": {
        "id": "qcPzmCoLNEkg",
        "outputId": "0a18d886-6bb6-4497-f1a1-31c647ee0714",
        "colab": {
          "base_uri": "https://localhost:8080/",
          "height": 0
        }
      },
      "source": [
        "df.plot(kind='bar',x='nome',y='idade')"
      ],
      "execution_count": 107,
      "outputs": [
        {
          "output_type": "execute_result",
          "data": {
            "text/plain": [
              "<matplotlib.axes._subplots.AxesSubplot at 0x7f27b3a03d30>"
            ]
          },
          "metadata": {
            "tags": []
          },
          "execution_count": 107
        },
        {
          "output_type": "display_data",
          "data": {
            "image/png": "[encoded data removed]",
            "text/plain": [
              "<Figure size 432x288 with 1 Axes>"
            ]
          },
          "metadata": {
            "tags": [],
            "needs_background": "light"
          }
        }
      ]
    },
    {
      "cell_type": "markdown",
      "metadata": {
        "id": "KhuWvHxeM42g"
      },
      "source": [
        "##### Outras configurações:\n",
        "\n",
        "*   É possível usar os mesmos atributos do gráfico anterior.\n",
        "*   O atributo `label` permite renomear a legenda.\n",
        "*   O atributo `loc` permite mudar a posição da legenda no gráfico.\n",
        "*   [Lista completa com os posicionamentos da legenda.](https://matplotlib.org/api/_as_gen/matplotlib.pyplot.legend.html)\n",
        "\n"
      ]
    },
    {
      "cell_type": "markdown",
      "metadata": {
        "id": "LmLrme9OMTDZ"
      },
      "source": [
        "Exemplo 2:"
      ]
    },
    {
      "cell_type": "code",
      "metadata": {
        "id": "3I7ZPfKzMVMj",
        "outputId": "66e52f60-ca64-489e-eee4-b7662bae73dc",
        "colab": {
          "base_uri": "https://localhost:8080/",
          "height": 0
        }
      },
      "source": [
        "df.plot(kind='bar', x='nome', y='idade', color = 'red', label='Age')\n",
        "plt.legend(loc='upper left')"
      ],
      "execution_count": 108,
      "outputs": [
        {
          "output_type": "execute_result",
          "data": {
            "text/plain": [
              "<matplotlib.legend.Legend at 0x7f27b39a3e80>"
            ]
          },
          "metadata": {
            "tags": []
          },
          "execution_count": 108
        },
        {
          "output_type": "display_data",
          "data": {
            "image/png": "[encoded data removed]",
            "text/plain": [
              "<Figure size 432x288 with 1 Axes>"
            ]
          },
          "metadata": {
            "tags": [],
            "needs_background": "light"
          }
        }
      ]
    },
    {
      "cell_type": "markdown",
      "metadata": {
        "id": "wCN1KaQbNgTG"
      },
      "source": [
        "### Line Plot"
      ]
    },
    {
      "cell_type": "markdown",
      "metadata": {
        "id": "tN5walicNKdM"
      },
      "source": [
        "É o gráfico de linhas."
      ]
    },
    {
      "cell_type": "markdown",
      "metadata": {
        "id": "bxkQ5Hh8NNmT"
      },
      "source": [
        "Exemplo 1:"
      ]
    },
    {
      "cell_type": "code",
      "metadata": {
        "id": "MW2cjb0XNhle",
        "outputId": "bcfc7a45-32bc-497c-ac69-c61632242975",
        "colab": {
          "base_uri": "https://localhost:8080/",
          "height": 280
        }
      },
      "source": [
        "# gca stands for 'get current axis'\n",
        "ax = plt.gca()\n",
        "\n",
        "df.plot(kind='line',x='nome',y='num_filhos',ax=ax)\n",
        "df.plot(kind='line',x='nome',y='num_animais', color='red', ax=ax)\n",
        "\n",
        "plt.show()"
      ],
      "execution_count": 109,
      "outputs": [
        {
          "output_type": "display_data",
          "data": {
            "image/png": "[encoded data removed]",
            "text/plain": [
              "<Figure size 432x288 with 1 Axes>"
            ]
          },
          "metadata": {
            "tags": [],
            "needs_background": "light"
          }
        }
      ]
    },
    {
      "cell_type": "markdown",
      "metadata": {
        "id": "bbdWjWSPObia"
      },
      "source": [
        "### Gráfico de barras agrupado"
      ]
    },
    {
      "cell_type": "markdown",
      "metadata": {
        "id": "YD0FIqsjPDt_"
      },
      "source": [
        "É possível agrupar os dados no gráfico de barras."
      ]
    },
    {
      "cell_type": "markdown",
      "metadata": {
        "id": "W0V_4AhWPHow"
      },
      "source": [
        "Exemplo 1:"
      ]
    },
    {
      "cell_type": "code",
      "metadata": {
        "id": "gwj0cMqFOeHj",
        "outputId": "a8a3c74b-57a2-4ff7-9af3-2925f68943f7",
        "colab": {
          "base_uri": "https://localhost:8080/",
          "height": 0
        }
      },
      "source": [
        "df.groupby('estado')['nome'].nunique().plot(kind='bar')\n",
        "plt.show()"
      ],
      "execution_count": 110,
      "outputs": [
        {
          "output_type": "display_data",
          "data": {
            "image/png": "[encoded data removed]",
            "text/plain": [
              "<Figure size 432x288 with 1 Axes>"
            ]
          },
          "metadata": {
            "tags": [],
            "needs_background": "light"
          }
        }
      ]
    },
    {
      "cell_type": "markdown",
      "metadata": {
        "id": "oiuaBGOoQFA5"
      },
      "source": [
        "### Pie (gráfico de pizza)"
      ]
    },
    {
      "cell_type": "markdown",
      "metadata": {
        "id": "xR_bj243PLhW"
      },
      "source": [
        "É o gráfico de pizza."
      ]
    },
    {
      "cell_type": "code",
      "metadata": {
        "id": "4VQjx4ZuPf36",
        "outputId": "a294932e-2d63-497e-fe0e-3b5f8120e37d",
        "colab": {
          "base_uri": "https://localhost:8080/",
          "height": 0
        }
      },
      "source": [
        "df.plot.pie(y='num_animais')"
      ],
      "execution_count": 111,
      "outputs": [
        {
          "output_type": "execute_result",
          "data": {
            "text/plain": [
              "<matplotlib.axes._subplots.AxesSubplot at 0x7f27b37e4748>"
            ]
          },
          "metadata": {
            "tags": []
          },
          "execution_count": 111
        },
        {
          "output_type": "display_data",
          "data": {
            "image/png": "[encoded data removed]",
            "text/plain": [
              "<Figure size 432x288 with 1 Axes>"
            ]
          },
          "metadata": {
            "tags": []
          }
        }
      ]
    },
    {
      "cell_type": "markdown",
      "metadata": {
        "id": "liSLFH0YOExo"
      },
      "source": [
        "### Salvar o arquivo\n",
        "\n",
        "Usar o comando `plt.savefig(<nome do arquivo>)`"
      ]
    },
    {
      "cell_type": "code",
      "metadata": {
        "id": "lrPI9XqTORca",
        "outputId": "eb1137f5-fd6b-4208-c2bb-d28ebb53ddf0",
        "colab": {
          "base_uri": "https://localhost:8080/",
          "height": 0
        }
      },
      "source": [
        "df.plot(kind='bar', x='nome', y='idade')\n",
        "plt.savefig('grafico.png')"
      ],
      "execution_count": 112,
      "outputs": [
        {
          "output_type": "display_data",
          "data": {
            "image/png": "[encoded data removed]",
            "text/plain": [
              "<Figure size 432x288 with 1 Axes>"
            ]
          },
          "metadata": {
            "tags": [],
            "needs_background": "light"
          }
        }
      ]
    }
  ]
}